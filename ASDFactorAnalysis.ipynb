{
  "cell_type": "code",
   "execution_count": 4,
   "metadata": {},
   "outputs": [],
   "source": [
    "#Initial imports \n",
    "import pandas as pd\n",
    "import numpy as np\n",
    "import matplotlib.pyplot as plt\n",
    "import seaborn as sns\n",
    "\n",
    "from sklearn.impute import SimpleImputer\n",
    "from sklearn.model_selection import train_test_split, GridSearchCV, StratifiedKFold\n",
    "from sklearn.preprocessing import StandardScaler, OneHotEncoder, MinMaxScaler\n",
    "from sklearn.metrics import accuracy_score, f1_score, recall_score, roc_auc_score, plot_confusion_matrix\n",
    "from sklearn.metrics import confusion_matrix, plot_roc_curve, precision_score\n",
    "from sklearn.pipeline import Pipeline\n",
    "from sklearn.compose import ColumnTransformer\n",
    "\n",
    "from imblearn.under_sampling import RandomUnderSampler\n",
    "\n",
    "from sklearn.linear_model import LogisticRegression\n",
    "from sklearn.tree import DecisionTreeClassifier\n",
    "\n",
    "# Set pandas to display all columns, since our data has many columns and we'd like to see them all\n",
    "pd.set_option('display.max_columns', None)"
   ]
  },
  {
   "cell_type": "code",
   "execution_count": 5,
   "metadata": {},
   "outputs": [],
   "source": [
    "def display_metrics(fit_model, Xtr, Xte, ytr, yte):\n",
    "    '''\n",
    "    This function takes in a model that's already been fit, then X and y train and test data.\n",
    "    It uses the fitted model to get predicted values for the train and test data,\n",
    "    and then uses sklearn's score functions to print out the accuracy, recall, precision,  f1, and roc-auc scores.\n",
    "    It then plots a confusion matrix of the test data.\n",
    "    '''\n",
    "    \n",
    "    train_preds = fit_model.predict(Xtr)\n",
    "    test_preds = fit_model.predict(Xte)\n",
    "    train_probs = fit_model.predict_proba(Xtr)[:,1]\n",
    "    test_probs = fit_model.predict_proba(Xte)[:,1]\n",
    "\n",
    "    train_accuracy = accuracy_score(ytr, train_preds)\n",
    "    test_accuracy = accuracy_score(yte, test_preds)\n",
    "    train_recall = recall_score(ytr, train_preds, zero_division=0)\n",
    "    test_recall = recall_score(yte, test_preds, zero_division=0)\n",
    "    train_precision = precision_score(ytr, train_preds, zero_division=0)\n",
    "    test_precision = precision_score(yte, test_preds, zero_division=0)\n",
    "    train_f1 = f1_score(ytr, train_preds, zero_division=0)\n",
    "    test_f1 = f1_score(yte, test_preds, zero_division=0)\n",
    "    train_rocauc = roc_auc_score(ytr, train_probs)\n",
    "    test_rocauc = roc_auc_score(yte, test_probs)\n",
    "\n",
    "    print(F'\\nTrain Accuracy:\\t\\t{train_accuracy}')\n",
    "    print(F'Test Accuracy:\\t\\t{test_accuracy}')\n",
    "    print(F\"\\nTrain Recall:\\t\\t{train_recall}\")\n",
    "    print(F'Test Recall:\\t\\t{test_recall}')\n",
    "    print(F\"\\nTrain Precision:\\t{train_precision}\")\n",
    "    print(F'Test Precision:\\t\\t{test_precision}')\n",
    "    print(F\"\\nTrain f1:\\t\\t{train_f1}\")\n",
    "    print(F'Test f1:\\t\\t{test_f1}')\n",
    "    print(F\"\\nTrain ROC-AUC:\\t\\t{train_rocauc}\")\n",
    "    print(F'Test ROC-AUC:\\t\\t{test_rocauc}')\n",
    "    \n",
    "    plot_confusion_matrix(fit_model, Xte, yte, values_format='6g')\n",
    "    plot_roc_curve(fit_model, Xte, yte)"
   ]
  },
  {
   "cell_type": "markdown",
   "metadata": {},
   "source": [
    "Now that we've got our imports, we need to read in the dataframe and create our target column."
   ]
  },
  {
   "cell_type": "code",
   "execution_count": 6,
   "metadata": {},
   "outputs": [],
   "source": [
    "# Read in dataframe\n",
    "df = pd.read_sas('data/nsch_2020_topical.sas7bdat')\n",
    "\n",
    "# Map target column to boolean and rename to target\n",
    "mask = {\n",
    "    1.0: 1.0,\n",
    "    2.0: 0.0\n",
    "}\n",
    "df['Target'] = df['K2Q35A'].map(mask)\n",
    "\n",
    "# Drop rows where target is null\n",
    "df.dropna(subset=['Target'], inplace=True)"
   ]
  },
  {
   "cell_type": "markdown",
   "metadata": {},
   "source": [
    "We had 443 columns, most of which had null values. We couldn't drop all of the null values or we'd lose a large chunk of our data, so instead we read through the [NSCH topical variable descriptions](https://www2.census.gov/programs-surveys/nsch/technical-documentation/codebook/2020-NSCH-Topical-Variable-List.pdf) and determined how to handle each column. See [this file](https://github.com/pjlannoo/ASD-Factors-ML/blob/main/Notebooks/DataNotes.md) for a short thought process about why each column was handled the way it was. Below we define how each column will be handled by our preprocessor."
   ]
  },
  {
   "cell_type": "code",
   "execution_count": 7,
   "metadata": {},
   "outputs": [],
   "source": [
    "# Define which columns to drop\n",
    "drop_cols = [\n",
    "    'A1_ACTIVE', 'A1_AGE', 'A1_BORN', 'A1_DEPLSTAT', 'A1_EMPLOYED', 'A1_GRADE', 'A1_LIVEUSA', 'A1_MARITAL',\n",
    "    'A1_MENTHEALTH', 'A1_PHYSHEALTH', 'A1_RELATION', 'A1_SEX', 'A2_ACTIVE', 'A2_AGE', 'A2_BORN', 'A2_DEPLSTAT', \n",
    "    'A2_EMPLOYED', 'A2_GRADE', 'A2_LIVEUSA', 'A2_MARITAL', 'A2_MENTHEALTH', 'A2_PHYSHEALTH', 'A2_RELATION', 'A2_SEX', \n",
    "    'ALLERGIES_DESC', 'ARTHRITIS_DESC', 'ASKQUESTION', 'ASKQUESTION2', 'AUTISMMED', 'AUTISMTREAT', 'BESTFORCHILD', \n",
    "    'BLOOD_DESC', 'BMICLASS', 'BREASTFEDEND_DAY_S', 'BREASTFEDEND_MO_S', 'BREASTFEDEND_WK_S', 'CALMDOWN', 'CERPALS_DESC',\n",
    "    'CLEAREXP', 'COLOR', 'CONFIDENT', 'COUNTTO', 'DIRECTIONS', 'DIRECTIONS2', 'DISCUSSOPT', 'DISTRACTED', 'DOCPRIVATE',\n",
    "    'FAMCOUNT', 'FIPSST', 'FORMTYPE', 'FRSTFORMULA_DAY_S', 'FRSTFORMULA_MO_S','FRSTFORMULA_WK_S', 'FRSTSOLIDS_DAY_S', \n",
    "    'FRSTSOLIDS_MO_S', 'FRSTSOLIDS_WK_S', 'GENETIC_DESC', 'HCEXTENT', 'HEADACHE_DESC', 'HEART_DESC', 'HHCOUNT',\n",
    "    'HHCOUNT_IF', 'HHID', 'HOURSLEEP', 'HOURSLEEP05', 'HURTSAD', 'K12Q01_A', 'K12Q01_B', 'K12Q01_C', 'K12Q01_D', \n",
    "    'K12Q01_E', 'K12Q01_F', 'K12Q01_G', 'K2Q30C', 'K2Q31C', 'K2Q32C', 'K2Q33C', 'K2Q34C', 'K2Q35A', 'K2Q35A_1_YEARS', \n",
    "    'K2Q35B', 'K2Q35C', 'K2Q35D', 'K2Q36C', 'K2Q37C', 'K2Q38C', 'K2Q40C', 'K2Q41C', 'K2Q42C', 'K2Q60C', 'K4Q26',\n",
    "    'K4Q28X_EAR','K4Q37', 'K5Q11','K5Q21', 'K5Q22', 'K5Q32','K6Q08_R','K6Q10','K6Q12','K6Q13A','K6Q13B','K6Q14A','K6Q14B',\n",
    "    'K6Q20','K6Q27', 'K6Q40', 'K6Q41R_STILL','K6Q42R_NEVER','K6Q43R_NEVER','K6Q60_R','K6Q61_R','K6Q70_R','K6Q72_R',\n",
    "    'K6Q73_R','K9Q41', 'KEEPINSADULT','LIVEUSA_MO','LIVEUSA_YR','LIVEUSA_YR', 'K6Q42R_NEVER','MEDHISTORY','NEWACTIVITY',\n",
    "    'ONEWORD','PLANNEEDS_R','PLAYWELL','POINT','RAISECONC','RECEIVECOPY','RECOGABC','RECOGBEGIN','RECSHAPES','RHYMEWORD',\n",
    "    'SC_K2Q11','SC_K2Q12','SC_K2Q14','SC_K2Q15','SC_K2Q17','SC_K2Q18','SC_K2Q20','SC_K2Q21','SC_K2Q23','SC_RACEAIAN',\n",
    "    'SC_RACEASIA','SESPLANMO','SESPLANYR','SIMPLEINST','SITSTILL','SLEEPPOS', 'SPCSERVMO','STARTSCHOOL','STRATUM',\n",
    "    'TELLSTORY','TEMPER','THREEWORDS','TREATADULT', 'TREATNEED', 'TWOWORDS','UNDERSTAND', 'UNDERSTAND2', 'USEPENCIL', \n",
    "    'WORKTOFIN', 'WRITENAME', 'HEALTHKNOW', 'K8Q35', 'EMOSUPSPO', 'EMOSUPFAM', 'EMOSUPHCP', 'EMOSUPWOR', 'EMOSUPADV', \n",
    "    'EMOSUPPEER', 'EMOSUPMHP', 'EMOSUPOTH', 'K3Q20', 'K3Q22', 'K3Q21B', 'K7Q02R_R', 'DOCROOM', 'K4Q02_R', 'DENTISTVISIT', \n",
    "    'FWC', 'A1_GRADE_IF', 'FPL_IF', 'HIGRADE_TVIS', 'HIGRADE', 'INSTYPE', 'INSGAP', 'CURRINS', 'HOUSE_GEN', 'SC_SEX_IF', \n",
    "    'SC_HISPANIC_R_IF', 'SC_RACE_R_IF', 'TOTFEMALE', 'TOTMALE', 'AGEPOS4', 'SC_AGE_LT10', 'SC_AGE_LT9', 'SC_AGE_LT6', \n",
    "    'SC_AGE_LT4', 'TOTNONSHCN', 'TOTCSHCN', 'TOTAGE_12_17', 'TOTAGE_6_11', 'TOTAGE_0_5', 'MPC_YN', 'YEAR', 'K3Q04_R', \n",
    "    'TENURE'\n",
    "]\n",
    "\n",
    "# Define which cols to impute with no\n",
    "no_cols = [\n",
    "    'SC_SEX', 'K4Q32X01', 'K4Q32X02', 'K4Q32X03', 'K4Q32X04', 'K4Q32X05', 'DENTALSERV1', 'DENTALSERV2', 'DENTALSERV3',\n",
    "    'DENTALSERV4', 'DENTALSERV5', 'DENTALSERV6', 'DENTALSERV7', 'K4Q28X01', 'K4Q28X02', 'K4Q28X03', 'K4Q28X04', 'K4Q28X05',\n",
    "    'BREATHING', 'SWALLOWING', 'STOMACH', 'PHYSICALPAIN', 'HANDS', 'COORDINATION', 'TOOTHACHES', 'GUMBLEED', 'CAVITIES',\n",
    "    'MEMORYCOND', 'WALKSTAIRS', 'DRESSING', 'ERRANDALONE', 'K2Q43B', 'BLINDNESS', 'ALLERGIES', 'ALLERGIES_CURR',\n",
    "    'ARTHRITIS', 'ARTHRITIS_CURR', 'K2Q40A', 'K2Q40B', 'K2Q61A', 'K2Q61B', 'K2Q41A', 'K2Q41B', 'K2Q42A', 'K2Q42B', 'HEART',\n",
    "    'HEART_BORN', 'HEART_CURR', 'HEADACHE', 'HEADACHE_CURR', 'K2Q38A', 'K2Q38B', 'K2Q33A', 'K2Q33B', 'K2Q32A', 'K2Q32B',\n",
    "    'DOWNSYN', 'BLOOD', 'SICKLECELL', 'THALASSEMIA', 'BLOOD_OTHER', 'BLOOD_SCREEN', 'CYSTFIB', 'CYSTFIB_SCREEN', 'GENETIC',\n",
    "    'GENETIC_SCREEN', 'K2Q34A', 'K2Q34B', 'K2Q36A', 'K2Q36B', 'K2Q60A', 'K2Q60B', 'K2Q37A', 'K2Q37B', 'K2Q30A', 'K2Q30B',\n",
    "    'K2Q31A', 'K2Q31B', 'K2Q31D', 'ADDTREAT', 'CONCUSSION', 'SEEKCARE', 'CONFIRMINJURY', 'K2Q05', 'OVERWEIGHT', 'K4Q01',\n",
    "    'USUALGO', 'USUALSICK', 'K4Q31_R', 'K4Q23', 'ALTHEALTH', 'K4Q27', 'NOTELIG', 'AVAILABLE', 'APPOINTMENT', 'TRANSPORTCC',\n",
    "    'NOTOPEN', 'ISSUECOST', 'HOSPITALSTAY', 'SESCURRSVC', 'K4Q36', 'K4Q38', 'K5Q10', 'DECISIONS', 'K12Q03', 'K12Q04',\n",
    "    'K12Q12', 'TRICARE', 'K11Q03R', 'HCCOVOTH', 'K3Q25', 'REPEATED', 'K7Q30', 'K7Q31', 'K7Q32', 'K7Q37', 'K7Q38', 'ACE3',\n",
    "    'ACE4', 'ACE5', 'ACE6', 'ACE7', 'ACE8', 'ACE9', 'ACE10', 'ACE12', 'ACE1', 'K7Q04R_R', 'WGTCONC', 'K4Q22_R', 'K4Q24_R',\n",
    "    'K4Q04_R', 'K5Q31_R',  'BIRTHWT', 'BIRTHWT_L', 'BIRTHWT_VL', 'SC_K2Q22', 'SC_K2Q19', 'SC_K2Q16', 'SC_K2Q13',\n",
    "    'SC_K2Q10', 'SC_CSHCN', 'K4Q30_R'\n",
    "]\n",
    "\n",
    "# Define which cols to impute with yes\n",
    "yes_cols = [\n",
    "    'S4Q01', 'CURRCOV', 'BORNUSA'\n",
    "]\n",
    "\n",
    "# Define which cols to impute with mode\n",
    "mode_cols = [\n",
    "    'HHLANGUAGE', 'K9Q40', 'K11Q60', 'K11Q61', 'K11Q62', 'S9Q34', 'K10Q11', 'K10Q12', 'K10Q13', 'K10Q14', 'K10Q20',\n",
    "    'K10Q22', 'K10Q23', 'K9Q96', 'BULLIED_R', 'BULLY', 'TOTKIDS_R', 'SC_AGE_YEARS', 'BIRTH_MO', 'BIRTH_YR', 'SC_RACER', \n",
    "    'SC_RACE_R'\n",
    "]\n",
    "\n",
    "# Define which cols to impute with median\n",
    "med_cols = [\n",
    "    'MOMAGE', 'K11Q43R', 'K2Q01', 'K2Q01_D', 'K6Q71_R', 'TALKABOUT', 'WKTOSOLVE', 'STRENGTHS', 'HOPEFUL', 'K10Q30',\n",
    "    'K10Q31', 'K10Q40_R', 'GOFORHELP', 'K10Q41_R', 'HOWMUCH', 'K8Q31', 'K8Q32', 'K8Q34', 'ATHOMEHC', 'ARRANGEHC',\n",
    "    'SCREENTIME', 'K8Q11', 'HCABILITY', 'K8Q30', 'FAMILY_R', 'BIRTHWT_OZ_S', 'SC_ENGLISH', 'MAKEFRIEND',\n",
    "    'BEDTIME', 'K7Q33'\n",
    "]\n",
    "\n",
    "# Define which cols to impute with median and add null flag\n",
    "med_flag_cols = [\n",
    "    'K5Q40', 'K5Q41', 'K5Q42', 'K5Q43', 'K5Q44', 'FOODSIT', 'MENBEVCOV'\n",
    "]\n",
    "\n",
    "# Define which cols to impute with constant 5\n",
    "five_cols = [\n",
    "    'K7Q84_R', 'K7Q85_R', 'K7Q82_R', 'K7Q83_R', 'K7Q70_R', 'K8Q21'\n",
    "]\n",
    "\n",
    "# Define lists to be used later\n",
    "\n",
    "bool_two_no = [\n",
    "    'SC_SEX', 'K4Q32X01', 'K4Q32X02', 'K4Q32X03', 'K4Q32X04', 'K4Q32X05', 'DENTALSERV1', 'DENTALSERV2', 'DENTALSERV3', \n",
    "    'DENTALSERV4', 'DENTALSERV5', 'DENTALSERV6', 'DENTALSERV7', 'K4Q28X01', 'K4Q28X02', 'K4Q28X03', 'K4Q28X04',\n",
    "    'K4Q28X05', 'BREATHING', 'SWALLOWING', 'STOMACH', 'PHYSICALPAIN', 'HANDS', 'COORDINATION', 'TOOTHACHES', 'GUMBLEED', \n",
    "    'CAVITIES', 'MEMORYCOND', 'WALKSTAIRS', 'DRESSING', 'ERRANDALONE', 'K2Q43B', 'BLINDNESS', 'BLINDNESS', 'ALLERGIES', \n",
    "    'ALLERGIES_CURR', 'ARTHRITIS', 'ARTHRITIS_CURR', 'K2Q40A', 'K2Q40B', 'K2Q61A', 'K2Q61B', 'K2Q41A', 'K2Q41B', 'K2Q41A', \n",
    "    'K2Q41B', 'K2Q42A', 'K2Q42B', 'HEART', 'HEART_BORN', 'HEART_CURR', 'HEADACHE', 'HEADACHE_CURR', 'K2Q38A', 'K2Q38B', \n",
    "    'K2Q33A', 'K2Q33B', 'K2Q32A', 'K2Q32B', 'DOWNSYN', 'BLOOD', 'SICKLECELL', 'THALASSEMIA', 'BLOOD_OTHER', 'BLOOD_SCREEN',\n",
    "    'CYSTFIB', 'CYSTFIB_SCREEN', 'GENETIC', 'GENETIC_SCREEN', 'K2Q34A', 'K2Q34B', 'K2Q36A', 'K2Q36B', 'K2Q60A', 'K2Q60B',\n",
    "    'K2Q37A', 'K2Q37B', 'K2Q30A', 'K2Q30B', 'K2Q31A', 'K2Q31B', 'K2Q31D', 'ADDTREAT', 'CONCUSSION', 'SEEKCARE', \n",
    "    'CONFIRMINJURY', 'K2Q05', 'OVERWEIGHT', 'K4Q01', 'USUALGO', 'USUALSICK', 'K4Q31_R', 'K4Q23', 'ALTHEALTH', 'K4Q27',\n",
    "    'NOTELIG', 'AVAILABLE', 'APPOINTMENT', 'TRANSPORTCC', 'NOTOPEN', 'ISSUECOST', 'HOSPITALSTAY', 'SESCURRSVC', 'K4Q36',\n",
    "    'K4Q38', 'K5Q10', 'DECISIONS', 'K12Q03', 'K12Q04', 'K12Q12', 'TRICARE', 'K11Q03R', 'HCCOVOTH', 'K3Q25', 'REPEATED',\n",
    "    'K7Q30', 'K7Q31', 'K7Q32', 'K7Q37', 'K7Q38', 'ACE3', 'ACE4', 'ACE5', 'ACE6', 'ACE7', 'ACE8', 'ACE9', 'ACE10', 'ACE12',\n",
    "    'ACE1', 'K4Q22_R', 'K4Q24_R', 'K5Q31_R', 'BIRTHWT', 'BIRTHWT_VL', 'SC_K2Q22', 'SC_K2Q19', 'SC_K2Q16', 'SC_K2Q13', \n",
    "    'SC_K2Q10', 'SC_CSHCN', 'S4Q01', 'CURRCOV', 'BORNUSA'\n",
    "]\n",
    "bool_two_yes = ['K7Q04R_R', 'WGTCONC', 'K4Q04_R', 'BIRTHWT', 'K4Q30_R']\n",
    "\n",
    "use_cols = [*no_cols, *yes_cols, *mode_cols, *med_cols, *med_flag_cols, *five_cols]\n",
    "\n",
    "# Adds remaining columns with many nulls to drop cols\n",
    "for col in df.columns:\n",
    "    if col not in use_cols and col not in drop_cols:\n",
    "        if (df[col].isna().sum() / len(df)) > .5:\n",
    "            drop_cols.append(col)"
   ]
  },
  {
   "cell_type": "markdown",
   "metadata": {},
   "source": [
    "Below we map our boolean columns to 0 and 1, since they started as 1 and 2 (and sometimes 3 as a 'no, but'); then we define the steps of our preprocessor."
   ]
  },
  {
   "cell_type": "code",
   "execution_count": 8,
   "metadata": {},
   "outputs": [],
   "source": [
    "# Map boolean columns to boolean\n",
    "bool_mask_1 = {\n",
    "    1: 1,\n",
    "    2: 0,\n",
    "    3: 0\n",
    "}\n",
    "bool_mask_2 = {\n",
    "    1: 1,\n",
    "    2: 1,\n",
    "    3: 0\n",
    "}\n",
    "for col in bool_two_no:\n",
    "    df[col] = df[col].map(bool_mask_1)\n",
    "for col in bool_two_yes:\n",
    "    df[col] = df[col].map(bool_mask_2)\n",
    "\n",
    "# Define imputers to make up preprocessor\n",
    "no_imp = Pipeline(steps=[\n",
    "    ('no_imp', SimpleImputer(strategy='constant', fill_value=0))\n",
    "])\n",
    "yes_imp = Pipeline(steps=[\n",
    "    ('yes_imp', SimpleImputer(strategy='constant', fill_value=1))\n",
    "])\n",
    "mode_imp = Pipeline(steps=[\n",
    "    ('mode_imp', SimpleImputer(strategy='most_frequent'))\n",
    "])\n",
    "med_imp = Pipeline(steps=[\n",
    "    ('med_imp', SimpleImputer(strategy='median'))\n",
    "])\n",
    "med_flag_imp = Pipeline(steps=[\n",
    "    ('med_flag_imp', SimpleImputer(strategy='median', add_indicator=True))\n",
    "])\n",
    "five_imp = Pipeline(steps=[\n",
    "    ('five_imp', SimpleImputer(strategy='constant', fill_value=5))\n",
    "])"
   ]
  },
  {
   "cell_type": "markdown",
   "metadata": {},
   "source": [
    "And now that the steps have been defined, we put them together into a column transformer, and split our dataframe into X and y and then into train and test data."
   ]
  },
  {
   "cell_type": "code",
   "execution_count": 9,
   "metadata": {},
   "outputs": [],
   "source": [
    "# Create full preprocessor\n",
    "full_preprocessor = ColumnTransformer(transformers=[\n",
    "    ('no_pre', no_imp, no_cols),\n",
    "    ('yes_pre', yes_imp, yes_cols),\n",
    "    ('mode_pre', mode_imp, mode_cols),\n",
    "    ('med_cols', med_imp, med_cols),\n",
    "    ('med_flag_cols', med_flag_imp, med_flag_cols),\n",
    "    ('five_cols', five_imp, five_cols)\n",
    "])"
   ]
  },
  {
   "cell_type": "code",
   "execution_count": 10,
   "metadata": {},
   "outputs": [],
   "source": [
    "# Drop the dropcols\n",
    "df = df.drop(columns=[*drop_cols])\n",
    "\n",
    "# Split to x and y\n",
    "y = df['Target']\n",
    "X = df.drop(columns=['Target'])"
   ]
  },
  {
   "cell_type": "code",
   "execution_count": 11,
   "metadata": {},
   "outputs": [],
   "source": [
    "# Train test split\n",
    "X_train, X_test, y_train, y_test = train_test_split(X, y, stratify=y, random_state=42)"
   ]
  },
  {
   "cell_type": "markdown",
   "metadata": {},
   "source": [
    "Since we have a class imbalance, we'll use an undersampler for some of our models, so we'll also define that and then our undersampled X and y train values."
   ]
  },
  {
   "cell_type": "code",
   "execution_count": 12,
   "metadata": {},
   "outputs": [],
   "source": [
    "under_sampler = RandomUnderSampler(random_state=42, replacement=True)\n",
    "X_train_undersampled, y_train_undersampled = under_sampler.fit_resample(X_train, y_train)"
   ]
  },
  {
   "cell_type": "markdown",
   "metadata": {},
   "source": [
    "### Modeling\n",
    "Now that we have our preprocessor, we can start modeling. We'll want to explore a few model types to see what we'll want to focus on. Let's start with a logistic regression."
   ]
  },
  {
   "cell_type": "markdown",
   "metadata": {},
   "source": [
    "#### Logistic Regression\n",
    "We'll run a logistic regression on the full dataframe and then one on the undersampled data to see how they both perform. Let's start with the full dataframe."
   ]
  },
  {
   "cell_type": "code",
   "execution_count": 13,
   "metadata": {},
   "outputs": [
    {
     "name": "stdout",
     "output_type": "stream",
     "text": [
      "\n",
      "Train Accuracy:\t\t0.9810376118655736\n",
      "Test Accuracy:\t\t0.976532432178729\n",
      "\n",
      "Train Recall:\t\t0.5341745531019979\n",
      "Test Recall:\t\t0.4384858044164038\n",
      "\n",
      "Train Precision:\t0.7570789865871833\n",
      "Test Precision:\t\t0.6587677725118484\n",
      "\n",
      "Train f1:\t\t0.6263871763255241\n",
      "Test f1:\t\t0.5265151515151516\n",
      "\n",
      "Train ROC-AUC:\t\t0.9753670493386437\n",
      "Test ROC-AUC:\t\t0.9622320931527184\n"
     ]
    },
    {
     "data": {
      "image/png": "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\n",
      "text/plain": [
       "<Figure size 432x288 with 2 Axes>"
      ]
     },
     "metadata": {
      "needs_background": "light"
     },
     "output_type": "display_data"
    },
    {
     "data": {
      "image/png": "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\n",
      "text/plain": [
       "<Figure size 432x288 with 1 Axes>"
      ]
     },
     "metadata": {
      "needs_background": "light"
     },
     "output_type": "display_data"
    }
   ],
   "source": [
    "full_logreg = Pipeline(steps=[\n",
    "    ('preprocessor', full_preprocessor),\n",
    "    ('scaler', StandardScaler()),\n",
    "    ('logreg', LogisticRegression(random_state=42, max_iter=10000))\n",
    "])\n",
    "full_logreg.fit(X_train, y_train)\n",
    "display_metrics(full_logreg, X_train, X_test, y_train, y_test)"
   ]
  },
  {
   "cell_type": "markdown",
   "metadata": {},
   "source": [
    "This model is not terrible, but we want to improve that recall score to minimize false negatives. Let's try the undersampled data."
   ]
  },
  {
   "cell_type": "code",
   "execution_count": 14,
   "metadata": {},
   "outputs": [
    {
     "name": "stdout",
     "output_type": "stream",
     "text": [
      "\n",
      "Train Accuracy:\t\t0.9437434279705573\n",
      "Test Accuracy:\t\t0.8937388529052849\n",
      "\n",
      "Train Recall:\t\t0.9442691903259727\n",
      "Test Recall:\t\t0.8927444794952681\n",
      "\n",
      "Train Precision:\t0.9432773109243697\n",
      "Test Precision:\t\t0.2049239681390297\n",
      "\n",
      "Train f1:\t\t0.9437729900157645\n",
      "Test f1:\t\t0.33333333333333337\n",
      "\n",
      "Train ROC-AUC:\t\t0.988330397688636\n",
      "Test ROC-AUC:\t\t0.9449973020089657\n"
     ]
    },
    {
     "data": {
      "image/png": "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\n",
      "text/plain": [
       "<Figure size 432x288 with 2 Axes>"
      ]
     },
     "metadata": {
      "needs_background": "light"
     },
     "output_type": "display_data"
    },
    {
     "data": {
      "image/png": "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\n",
      "text/plain": [
       "<Figure size 432x288 with 1 Axes>"
      ]
     },
     "metadata": {
      "needs_background": "light"
     },
     "output_type": "display_data"
    }
   ],
   "source": [
    "undersampled_logreg = Pipeline(steps=[\n",
    "    ('preprocessor', full_preprocessor),\n",
    "    ('scaler', StandardScaler()),\n",
    "    ('logreg', LogisticRegression(random_state=42, max_iter=10000))\n",
    "])\n",
    "undersampled_logreg.fit(X_train_undersampled, y_train_undersampled)\n",
    "display_metrics(undersampled_logreg, X_train_undersampled, X_test, y_train_undersampled, y_test)"
   ]
  },
  {
   "cell_type": "markdown",
   "metadata": {},
   "source": [
    "This model has a better recall, and worse precision; which works for our purposes. That said, let's explore other models before looking at more logistic regressions."
   ]
  },
  {
   "cell_type": "markdown",
   "metadata": {},
   "source": [
    "#### Decision Tree\n",
    "The decision tree has a built in class weight hyperparameter, so let's try setting that to 'balanced' and then a different tree using the undersampled data instead."
   ]
  },
  {
   "cell_type": "code",
   "execution_count": 15,
   "metadata": {},
   "outputs": [
    {
     "name": "stdout",
     "output_type": "stream",
     "text": [
      "\n",
      "Train Accuracy:\t\t1.0\n",
      "Test Accuracy:\t\t0.9647986482680935\n",
      "\n",
      "Train Recall:\t\t1.0\n",
      "Test Recall:\t\t0.36908517350157727\n",
      "\n",
      "Train Precision:\t1.0\n",
      "Test Precision:\t\t0.4006849315068493\n",
      "\n",
      "Train f1:\t\t1.0\n",
      "Test f1:\t\t0.3842364532019704\n",
      "\n",
      "Train ROC-AUC:\t\t1.0\n",
      "Test ROC-AUC:\t\t0.6760770294752468\n"
     ]
    },
    {
     "data": {
      "image/png": "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\n",
      "text/plain": [
       "<Figure size 432x288 with 2 Axes>"
      ]
     },
     "metadata": {
      "needs_background": "light"
     },
     "output_type": "display_data"
    },
    {
     "data": {
      "image/png": "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\n",
      "text/plain": [
       "<Figure size 432x288 with 1 Axes>"
      ]
     },
     "metadata": {
      "needs_background": "light"
     },
     "output_type": "display_data"
    }
   ],
   "source": [
    "full_tree = Pipeline(steps=[\n",
    "    ('preproc', full_preprocessor),\n",
    "    ('tree', DecisionTreeClassifier(random_state=42, class_weight='balanced'))\n",
    "])\n",
    "\n",
    "full_tree.fit(X_train, y_train)\n",
    "display_metrics(full_tree, X_train, X_test, y_train, y_test)"
   ]
  },
  {
   "cell_type": "code",
   "execution_count": 16,
   "metadata": {},
   "outputs": [
    {
     "name": "stdout",
     "output_type": "stream",
     "text": [
      "\n",
      "Train Accuracy:\t\t0.8604105388322173\n",
      "Test Accuracy:\t\t0.8437059983103351\n",
      "\n",
      "Train Recall:\t\t1.0\n",
      "Test Recall:\t\t0.8738170347003155\n",
      "\n",
      "Train Precision:\t0.17572062084257206\n",
      "Test Precision:\t\t0.1456361724500526\n",
      "\n",
      "Train f1:\t\t0.2989156058462989\n",
      "Test f1:\t\t0.24966200991437587\n",
      "\n",
      "Train ROC-AUC:\t\t0.9280646305672913\n",
      "Test ROC-AUC:\t\t0.8582997712201267\n"
     ]
    },
    {
     "data": {
      "image/png": "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\n",
      "text/plain": [
       "<Figure size 432x288 with 2 Axes>"
      ]
     },
     "metadata": {
      "needs_background": "light"
     },
     "output_type": "display_data"
    },
    {
     "data": {
      "image/png": "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\n",
      "text/plain": [
       "<Figure size 432x288 with 1 Axes>"
      ]
     },
     "metadata": {
      "needs_background": "light"
     },
     "output_type": "display_data"
    }
   ],
   "source": [
    "undersampled_tree = Pipeline(steps=[\n",
    "    ('preproc', full_preprocessor),\n",
    "    ('tree', DecisionTreeClassifier(random_state=42))\n",
    "])\n",
    "\n",
    "undersampled_tree.fit(X_train_undersampled, y_train_undersampled)\n",
    "display_metrics(undersampled_tree, X_train, X_test, y_train, y_test)"
   ]
  },
  {
   "cell_type": "markdown",
   "metadata": {},
   "source": [
    "Both of these models are interesting. Decision trees are prone to overfitting, so let's prune the tree to see how promising these really are.\n",
    "\n",
    "We ran a series of grid searches which will test every combination of the parameters in the param grid.  \n",
    "The grid was made based on the initial grid searches that were run in other notebooks. It tended to find that trees with max depth, min samples leaf, and min samples split all between 1 and 5. So we try that range, with outliers of None, 10, and 20 (with the understanding that if it finds 5, 10, or 20 as best feature then we shift the range to center around that and get more precise). We also use both the gini and entropy criterion.  \n",
    "The code for the grid searches is commented out below due to the fact it takes over 10 minutes to run."
   ]
  },
  {
   "cell_type": "code",
   "execution_count": 17,
   "metadata": {},
   "outputs": [],
   "source": [
    "# unpruned_full_tree = Pipeline(steps=[\n",
    "#     ('preproc', full_preprocessor),\n",
    "#     ('tree', DecisionTreeClassifier(random_state=42, class_weight='balanced'))\n",
    "# ])\n",
    "\n",
    "# full_param_grid = {\n",
    "#     'tree__criterion': ['gini', 'entropy'],\n",
    "#     'tree__max_depth': [None,1,2,3,4,5,10,20],\n",
    "#     'tree__min_samples_leaf': [1,2,3,5,10,20],\n",
    "#     'tree__min_samples_split': [1,2,3,5,10,20]\n",
    "# }\n",
    "\n",
    "# full_grid = GridSearchCV(estimator=unpruned_full_tree, param_grid=full_param_grid,\n",
    "#                                       n_jobs=-1,\n",
    "#                                       verbose=1,\n",
    "#                                       return_train_score=True,\n",
    "#                                       scoring='recall',\n",
    "#                                       cv=StratifiedKFold(n_splits=5))\n",
    "\n",
    "# full_grid.fit(X_train, y_train)"
   ]
  },
  {
   "cell_type": "code",
   "execution_count": 18,
   "metadata": {},
   "outputs": [],
   "source": [
    "# unpruned_undersampled_tree = Pipeline(steps=[\n",
    "#     ('preproc', full_preprocessor),\n",
    "#     ('tree', DecisionTreeClassifier(random_state=42))\n",
    "# ])\n",
    "\n",
    "# undersampled_param_grid = {\n",
    "#     'tree__criterion': ['gini', 'entropy'],\n",
    "#     'tree__max_depth': [None,1,2,3,4,5,10,20],\n",
    "#     'tree__min_samples_leaf': [1,2,3,5,10,20],\n",
    "#     'tree__min_samples_split': [1,2,3,5,10,20]\n",
    "# }\n",
    "\n",
    "# undersampled_grid = GridSearchCV(estimator=unpruned_undersampled_tree, param_grid=undersampled_param_grid,\n",
    "#                                  n_jobs=-1,\n",
    "#                                  verbose=1,\n",
    "#                                  return_train_score=True,\n",
    "#                                  scoring='recall',\n",
    "#                                  cv=StratifiedKFold(n_splits=5))\n",
    "\n",
    "# undersampled_grid.fit(X_train_undersampled, y_train_undersampled)"
   ]
  },
  {
   "cell_type": "code",
   "execution_count": 19,
   "metadata": {},
   "outputs": [],
   "source": [
    "# full_grid_tree = full_grid.best_estimator_\n",
    "\n",
    "# full_grid_tree.fit(X_train, y_train)\n",
    "\n",
    "# display_metrics(full_grid_tree, X_train, X_test, y_train, y_test)"
   ]
  },
  {
   "cell_type": "code",
   "execution_count": 20,
   "metadata": {},
   "outputs": [],
   "source": [
    "# undersampled_grid_tree = undersampled_grid.best_estimator_\n",
    "\n",
    "# undersampled_grid_tree.fit(X_train_undersampled, y_train_undersampled)\n",
    "\n",
    "# display_metrics(undersampled_grid_tree, X_train, X_test, y_train, y_test)"
   ]
  },
  {
   "cell_type": "code",
   "execution_count": 21,
   "metadata": {},
   "outputs": [],
   "source": [
    "# full_params = full_grid.best_params_\n",
    "# undersampled_params= undersampled_grid.best_params_\n",
    "\n",
    "# print(f'{full_params}\\n\\n{undersampled_params}')"
   ]
  },
  {
   "cell_type": "code",
   "execution_count": 22,
   "metadata": {},
   "outputs": [
    {
     "name": "stdout",
     "output_type": "stream",
     "text": [
      "\n",
      "Train Accuracy:\t\t0.9244007760185243\n",
      "Test Accuracy:\t\t0.9215244532056698\n",
      "\n",
      "Train Recall:\t\t0.8054679284963197\n",
      "Test Recall:\t\t0.8012618296529969\n",
      "\n",
      "Train Precision:\t0.25558892225558894\n",
      "Test Precision:\t\t0.24732229795520935\n",
      "\n",
      "Train f1:\t\t0.38804457953394117\n",
      "Test f1:\t\t0.3779761904761905\n",
      "\n",
      "Train ROC-AUC:\t\t0.9206644325793669\n",
      "Test ROC-AUC:\t\t0.9199297911925853\n"
     ]
    },
    {
     "data": {
      "image/png": "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\n",
      "text/plain": [
       "<Figure size 432x288 with 2 Axes>"
      ]
     },
     "metadata": {
      "needs_background": "light"
     },
     "output_type": "display_data"
    },
    {
     "data": {
      "image/png": "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\n",
      "text/plain": [
       "<Figure size 432x288 with 1 Axes>"
      ]
     },
     "metadata": {
      "needs_background": "light"
     },
     "output_type": "display_data"
    }
   ],
   "source": [
    "pruned_undersampled_tree = Pipeline(steps=[\n",
    "    ('preproc', full_preprocessor),\n",
    "    ('tree', DecisionTreeClassifier(random_state=42,\n",
    "                                    criterion='entropy',\n",
    "                                    max_depth=2, min_samples_leaf=1, min_samples_split=2))\n",
    "])\n",
    "\n",
    "pruned_undersampled_tree.fit(X_train_undersampled, y_train_undersampled)\n",
    "\n",
    "display_metrics(pruned_undersampled_tree, X_train, X_test, y_train, y_test)"
   ]
  },
  {
   "cell_type": "markdown",
   "metadata": {},
   "source": [
    "### Best Model\n",
    "The tree using balanced class weight from the grid search was our best model, the metrics for it are shown below."
   ]
  },
  {
   "cell_type": "code",
   "execution_count": 23,
   "metadata": {},
   "outputs": [
    {
     "name": "stdout",
     "output_type": "stream",
     "text": [
      "\n",
      "Train Accuracy:\t\t0.8607234495275049\n",
      "Test Accuracy:\t\t0.8531868957101286\n",
      "\n",
      "Train Recall:\t\t0.943217665615142\n",
      "Test Recall:\t\t0.9369085173501577\n",
      "\n",
      "Train Precision:\t0.16943709860219117\n",
      "Test Precision:\t\t0.16132536664856056\n",
      "\n",
      "Train f1:\t\t0.28726981585268213\n",
      "Test f1:\t\t0.2752548656163114\n",
      "\n",
      "Train ROC-AUC:\t\t0.9572321734480295\n",
      "Test ROC-AUC:\t\t0.947941591546132\n"
     ]
    },
    {
     "data": {
      "image/png": "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\n",
      "text/plain": [
       "<Figure size 432x288 with 2 Axes>"
      ]
     },
     "metadata": {
      "needs_background": "light"
     },
     "output_type": "display_data"
    },
    {
     "data": {
      "image/png": "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\n",
      "text/plain": [
       "<Figure size 432x288 with 1 Axes>"
      ]
     },
     "metadata": {
      "needs_background": "light"
     },
     "output_type": "display_data"
    }
   ],
   "source": [
    "pruned_full_tree = Pipeline(steps=[\n",
    "    ('preproc', full_preprocessor),\n",
    "    ('tree', DecisionTreeClassifier(random_state=42, class_weight='balanced',\n",
    "                                    criterion='entropy',\n",
    "                                    max_depth=4, min_samples_leaf=1, min_samples_split=2))\n",
    "])\n",
    "\n",
    "pruned_full_tree.fit(X_train, y_train)\n",
    "\n",
    "display_metrics(pruned_full_tree, X_train, X_test, y_train, y_test)"
   ]
  },
  {
   "cell_type": "markdown",
   "metadata": {},
   "source": [
    "Our gridsearches gave us models with decent recall scores and very low precision, which works for our purposes.\n",
    "\n",
    "## Findings\n",
    "Now that we've got some decent models, we can look at the feature importances for our models and see which ones will be useful to examine further."
   ]
  },
  {
   "cell_type": "code",
   "execution_count": 24,
   "metadata": {},
   "outputs": [
    {
     "name": "stdout",
     "output_type": "stream",
     "text": [
      "K2Q36A: 0.021362755359775148\n",
      "K2Q36B: 0.02500432651733189\n",
      "K4Q36: 0.6548480040849177\n",
      "SC_K2Q16: 0.0093234182323473\n",
      "SC_CSHCN: 0.11032067581862304\n",
      "HCABILITY: 0.020124307165527985\n",
      "MAKEFRIEND: 0.14939263049724197\n",
      "MENBEVCOV: 0.009623882324234868\n"
     ]
    }
   ],
   "source": [
    "full_feature_importance = dict(zip(use_cols, pruned_full_tree['tree'].feature_importances_))\n",
    "for key, val in full_feature_importance.items():\n",
    "    if val > 0:\n",
    "        print(f'{key}: {val}')"
   ]
  },
  {
   "cell_type": "code",
   "execution_count": 25,
   "metadata": {},
   "outputs": [
    {
     "name": "stdout",
     "output_type": "stream",
     "text": [
      "K4Q36: 0.7914168480954459\n",
      "SC_CSHCN: 0.20858315190455412\n"
     ]
    }
   ],
   "source": [
    "undersampled_feature_importance = dict(zip(use_cols, pruned_undersampled_tree['tree'].feature_importances_))\n",
    "for key, val in undersampled_feature_importance.items():\n",
    "    if val > 0:\n",
    "        print(f'{key}: {val}')"
   ]
  },
  {
   "cell_type": "markdown",
   "metadata": {},
   "source": [
    "Since the undersampled model had a max depth of 2, it didn't use many of our features and both of those features are used by the full tree as well, let's focus on the full tree's features.\n",
    "\n",
    "Looking at them, all of these features are easy to connect back to an ASD diagnosis in some way:\n",
    "\n",
    "K2Q36A indicates if the child has a developmental delay.  \n",
    "K2Q36B is a follow up asking if the child still has a developmental delay.  \n",
    "Developmental delay could refer to a few different autistic traits (a highly nonverbal autistic person could have delayed speech for example)\n",
    "\n",
    "K4Q36 indicates if the child has received special services such as speech, occupational, or behavioral therapy.  \n",
    "The therapies referenced as special services are often treatments meant to improve an autistic person's quality of life.\n",
    "\n",
    "SC_K2Q16 indicates if the child struggles to do things that most other children of their age are capable of.  \n",
    "Autistic children will often struggle in various areas of life that their allistic peers wouldn't.\n",
    "\n",
    "SC_CSHCN indicates if the child has special healthcare needs.  \n",
    "Special healthcare needs could directly refer to autism, so used in tandem with other features makes sense (and also explains our high rate of false positives if it's guessing all children with special healthcare needs are autistic)\n",
    "\n",
    "HCABILITY indicates if the child's ability to do things most other children of their age are capable of is impacted by health conditions the child has.  \n",
    "A health condition limiting a child's ability could directly refer to autism, so as above, when used with other features can be useful, but likely explains our high rate of false positives.\n",
    "\n",
    "MAKEFRIEND indicates if the child has trouble making friends or maintaining friendships.  \n",
    "A child struggling to make/maintain friendships could be due to the communication differences between an autistic child and their allistic peers.\n",
    "\n",
    "MENBEVCOV indicates how well the child's health insurance covers mental health needs.  \n",
    "If mental healthcare isn't covered by a child's insurance, they're unlikely to be diagnosed (since they'd be unlikely to even see a mental health professional in the first place)."
   ]
  },
  {
   "cell_type": "markdown",
   "metadata": {},
   "source": [
    "## Conclusion\n",
    "We've found a few factors that indicate a child is likely to be diagnosed with ASD, and they can be distilled down into a few key factors:\n",
    "- Is this child able to receive mental healthcare?\n",
    "- Does this child need more support than their peers in certain areas (especially areas of communication or socializing)?"
   ]
  },
  {
   "cell_type": "code",
   "execution_count": null,
   "metadata": {},
   "outputs": [],
   "source": []
  }
 ],
 "metadata": {
  "kernelspec": {
   "display_name": "Python (learn-env)",
   "language": "python",
   "name": "learn-env"
  },
  "language_info": {
   "codemirror_mode": {
    "name": "ipython",
    "version": 3
   },
   "file_extension": ".py",
   "mimetype": "text/x-python",
   "name": "python",
   "nbconvert_exporter": "python",
   "pygments_lexer": "ipython3",
   "version": "3.8.5"
  }
 },
 "nbformat": 4,
 "nbformat_minor": 4
}
}
