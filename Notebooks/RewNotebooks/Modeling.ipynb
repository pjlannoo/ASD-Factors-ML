{
 "cells": [
  {
   "cell_type": "code",
   "execution_count": 54,
   "metadata": {},
   "outputs": [],
   "source": [
    "# Initial imports \n",
    "# import pandas as pd\n",
    "# import numpy as np\n",
    "# import matplotlib.pyplot as plt\n",
    "# import seaborn as sns\n",
    "\n",
    "# from sklearn.impute import SimpleImputer\n",
    "# from sklearn.model_selection import train_test_split, cross_val_score, GridSearchCV\n",
    "# from sklearn.preprocessing import StandardScaler, OneHotEncoder, MinMaxScaler\n",
    "# from sklearn.metrics import accuracy_score, f1_score, recall_score, roc_auc_score, plot_confusion_matrix\n",
    "# from sklearn.metrics import confusion_matrix, plot_roc_curve, precision_score\n",
    "# from sklearn.pipeline import Pipeline\n",
    "# from sklearn.compose import ColumnTransformer\n",
    "# from sklearn.decomposition import PCA\n",
    "\n",
    "# from sklearn.linear_model import LogisticRegression\n",
    "# from sklearn.tree import DecisionTreeClassifier\n",
    "# from sklearn.neighbors import KNeighborsClassifier\n",
    "# from sklearn.ensemble import VotingClassifier, BaggingClassifier, RandomForestClassifier\n",
    "# from sklearn.ensemble import ExtraTreesClassifier, StackingRegressor, AdaBoostClassifier\n",
    "# from sklearn.naive_bayes import GaussianNB, MultinomialNB, ComplementNB\n",
    "\n",
    "\n",
    "# pd.set_option('display.max_columns', None)"
   ]
  },
  {
   "cell_type": "markdown",
   "metadata": {},
   "source": [
    "A1/2RELATION and A1/2MENTALHEALTH could be engineered into something indicating a biological parent with poor mental health"
   ]
  },
  {
   "cell_type": "code",
   "execution_count": 55,
   "metadata": {},
   "outputs": [],
   "source": [
    "# df = pd.read_sas('../../data/nsch_2020_topical.sas7bdat')\n",
    "# mask = {\n",
    "#     1.0: 1.0,\n",
    "#     2.0: 0.0\n",
    "# }\n",
    "# df['Target'] = df['K2Q35A'].map(mask)\n",
    "# df.dropna(subset=['Target'], inplace=True)"
   ]
  },
  {
   "cell_type": "code",
   "execution_count": 56,
   "metadata": {},
   "outputs": [],
   "source": [
    "# drop_cols = ['Target', 'K2Q35A', 'K2Q35A_1_YEARS', 'K2Q35B', 'K2Q35C', 'K2Q35D', 'AUTISMMED', 'AUTISMTREAT',\n",
    "#              'HHLANGUAGE', 'K4Q32X01', 'K4Q32X02', 'K4Q32X03', 'K4Q32X04', 'K4Q32X05', 'DENTALSERV1',\n",
    "#              'DENTALSERV2', 'DENTALSERV3', 'DENTALSERV4', 'DENTALSERV5', 'DENTALSERV6', 'DENTALSERV7',\n",
    "#              'K11Q43R', 'A1_AGE', 'A2_AGE', 'FAMCOUNT', 'BIRTH_YR', 'BIRTH_MO', 'MEMORYCOND', 'WALKSTAIRS',\n",
    "#              'DRESSING', 'K12Q03', 'K12Q04', 'K12Q12', 'TRICARE', 'K11Q03R', 'HCCOVOTH', 'K3Q25', 'REPEATED',\n",
    "#              'K7Q30', 'K7Q31', 'K7Q37', 'BORNUSA', 'EMOSUPSPO', 'EMOSUPFAM', 'EMOSUPHCP', 'EMOSUPWOR',\n",
    "#              'EMOSUPADV', 'EMOSUPPEER', 'EMOSUPMHP', 'K8Q35', 'EMOSUPOTH', 'K9Q96', 'A1_SEX', 'A1_BORN',\n",
    "#              'A1_EMPLOYED', 'A1_MARITAL', 'A1_RELATION', 'A2_SEX', 'A2_BORN', 'A2_EMPLOYED', 'A2_GRADE',\n",
    "#              'A2_MARITAL', 'A2_RELATION', 'A1_ACTIVE', 'A2_ACTIVE', 'A1_PHYSHEALTH', 'A1_MENTHEALTH',\n",
    "#              'A2_PHYSHEALTH', 'A2_MENTHEALTH', 'K3Q21B', ]\n",
    "\n",
    "# for col in df.columns:\n",
    "#     null_count = df[col].isna().sum()\n",
    "#     null_perc = df[col].isna().sum() / len(df)\n",
    "#     dtype = df[col].dtype\n",
    "#     if null_perc > 0.5:\n",
    "#         drop_cols.append(col)\n",
    "#     if dtype == 'object':\n",
    "#         drop_cols.append(col)\n",
    "\n",
    "# mode_cols = ['BREATHING', 'SWALLOWING', 'STOMACH', 'PHYSICALPAIN', 'TOOTHACHES', 'GUMBLEED', 'CAVITIES', 'K2Q43B',\n",
    "#             'BLINDNESS', 'ALLERGIES', 'ARTHRITIS', 'K2Q40A', 'K2Q61A', 'K2Q41A', 'K2Q42A', 'HEART', 'HEADACHE',\n",
    "#             'K2Q38A', 'K2Q33A', 'K2Q32A', 'DOWNSYN', 'BLOOD', 'CYSTFIB', 'GENETIC', 'K2Q34A', 'K2Q36A', 'K2Q60A',\n",
    "#             'K2Q37A', 'K2Q30A', 'K2Q31A', 'CONCUSSION', 'K2Q05', 'K4Q23', 'ALTHEALTH', 'K4Q27', 'HOSPITALSTAY',\n",
    "#             'K6Q15', 'K4Q36', 'K5Q10', 'DECISIONS', 'STOPWORK', 'CUTHOURS', 'AVOIDCHG', 'K9Q40', 'K11Q60', 'K11Q61',\n",
    "#             'K11Q62', 'S9Q34', 'K10Q13', 'K10Q20', 'K10Q22', 'K10Q23', 'ACE3', 'ACE4', 'ACE5', 'ACE6', 'ACE7',\n",
    "#             'S4Q01', 'OVERWEIGHT', 'K4Q01', 'USUALGO', 'USUALSICK', 'K4Q31_R', 'CURRCOV', 'K10Q11', 'K10Q12', 'K10Q14',\n",
    "#             'ACE8', 'ACE9', 'ACE10', 'ACE12', 'HOWMUCH', 'HOURSLEEP', 'K8Q11', 'FOODSIT']\n",
    "# mode_imp = Pipeline(steps=[\n",
    "#     ('mode_imp', SimpleImputer(strategy='most_frequent'))\n",
    "# ])\n",
    "\n",
    "# median_cols = ['MOMAGE', 'K2Q01', 'K2Q01_D', 'K6Q71_R', 'TALKABOUT', 'WKTOSOLVE', 'STRENGTHS', 'HOPEFUL', 'K10Q30',\n",
    "#                'K10Q31', 'K10Q40_R', 'GOFORHELP', 'K10Q41_R', 'K8Q31', 'K8Q32', 'K8Q34', 'C4Q04', ]\n",
    "# median_imp = Pipeline(steps=[\n",
    "#     ('median_imp', SimpleImputer(strategy='median'))\n",
    "# ])\n",
    "\n",
    "# four_cols = ['K5Q40', 'K5Q41', 'K5Q42', 'K5Q43', 'K5Q44', 'K3Q20', 'K3Q22', 'K7Q85_R', 'K7Q84_R', 'K7Q82_R',\n",
    "#              'K7Q83_R', 'K7Q70_R', ]\n",
    "# four_imp = Pipeline(steps=[\n",
    "#     ('four_imp', SimpleImputer(strategy='constant', fill_value=4))\n",
    "# ])\n",
    "\n",
    "# one_cols = ['BULLIED_R', 'BULLY', 'K7Q04R_R', 'PHYSACTIV', 'SCREENTIME', 'HCABILITY', 'K4Q20R', 'DOCROOM',\n",
    "#             'HOSPITALER', ]\n",
    "# one_imp = Pipeline(steps=[\n",
    "#     ('one_imp', SimpleImputer(strategy='constant', fill_value=1))\n",
    "# ])\n",
    "\n",
    "# six_cols = ['K7Q02R_R']\n",
    "# six_imp = Pipeline(steps=[\n",
    "#     ('six_imp', SimpleImputer(strategy='constant', fill_value=6))\n",
    "# ])\n",
    "\n",
    "# three_cols = ['WGTCONC', 'K4Q22_R', 'K4Q24_R', 'K4Q04_R']\n",
    "# three_imp = Pipeline(steps=[\n",
    "#     ('three_imp', SimpleImputer(strategy='constant', fill_value=3))\n",
    "# ])\n",
    "\n",
    "# seven_cols = ['K4Q02_R']\n",
    "# seven_imp = Pipeline(steps=[\n",
    "#     ('seven_imp', SimpleImputer(strategy='constant', fill_value=7))\n",
    "# ])\n",
    "\n",
    "# two_cols = ['DENTISTVISIT']\n",
    "# two_imp = Pipeline(steps=[\n",
    "#     ('two_imp', SimpleImputer(strategy='constant', fill_value=2))\n",
    "# ])"
   ]
  },
  {
   "cell_type": "code",
   "execution_count": 57,
   "metadata": {},
   "outputs": [],
   "source": [
    "# X['K4Q04_R'].value_counts()"
   ]
  },
  {
   "cell_type": "code",
   "execution_count": 58,
   "metadata": {},
   "outputs": [],
   "source": [
    "# y = df['Target']\n",
    "# X = df.drop(columns=['Target'])"
   ]
  },
  {
   "cell_type": "code",
   "execution_count": 59,
   "metadata": {},
   "outputs": [],
   "source": [
    "# for col in X.columns:\n",
    "#     if X[col].isna().sum() > 0:\n",
    "#         print(f\"{col}: {X[col].isna().sum()}\")"
   ]
  },
  {
   "cell_type": "code",
   "execution_count": 60,
   "metadata": {},
   "outputs": [],
   "source": [
    "#Initial imports\n",
    "import pandas as pd\n",
    "import numpy as np\n",
    "import matplotlib.pyplot as plt\n",
    "import seaborn as sns\n",
    "from sklearn.impute import SimpleImputer\n",
    "from sklearn.model_selection import train_test_split, cross_val_score, GridSearchCV\n",
    "from sklearn.preprocessing import StandardScaler, OneHotEncoder, MinMaxScaler\n",
    "from sklearn.metrics import accuracy_score, f1_score, recall_score, roc_auc_score, plot_confusion_matrix\n",
    "from sklearn.metrics import confusion_matrix, plot_roc_curve, precision_score\n",
    "from sklearn.pipeline import Pipeline\n",
    "from sklearn.compose import ColumnTransformer\n",
    "from sklearn.decomposition import PCA\n",
    "from sklearn.linear_model import LogisticRegression\n",
    "from sklearn.tree import DecisionTreeClassifier\n",
    "from sklearn.neighbors import KNeighborsClassifier\n",
    "from sklearn.ensemble import VotingClassifier, BaggingClassifier, RandomForestClassifier\n",
    "from sklearn.ensemble import ExtraTreesClassifier, StackingRegressor, AdaBoostClassifier\n",
    "from sklearn.naive_bayes import GaussianNB, MultinomialNB, ComplementNB\n",
    "pd.set_option('display.max_columns', None)"
   ]
  },
  {
   "cell_type": "code",
   "execution_count": 61,
   "metadata": {},
   "outputs": [],
   "source": [
    "df = pd.read_sas('../../data/nsch_2020_topical.sas7bdat')\n",
    "mask = {\n",
    "    1.0: 1.0,\n",
    "    2.0: 0.0\n",
    "}\n",
    "df['Target'] = df['K2Q35A'].map(mask)\n",
    "df.dropna(subset=['Target'], inplace=True)"
   ]
  },
  {
   "cell_type": "code",
   "execution_count": 62,
   "metadata": {},
   "outputs": [],
   "source": [
    "drop_cols = ['K2Q35A', 'K2Q35A_1_YEARS', 'K2Q35B', 'K2Q35C', 'K2Q35D', 'AUTISMMED', 'AUTISMTREAT',\n",
    "             'HHLANGUAGE', 'K4Q32X01', 'K4Q32X02', 'K4Q32X03', 'K4Q32X04', 'K4Q32X05', 'DENTALSERV1',\n",
    "             'DENTALSERV2', 'DENTALSERV3', 'DENTALSERV4', 'DENTALSERV5', 'DENTALSERV6', 'DENTALSERV7',\n",
    "             'K11Q43R', 'A1_AGE', 'A2_AGE', 'FAMCOUNT', 'BIRTH_YR', 'BIRTH_MO', 'MEMORYCOND', 'WALKSTAIRS',\n",
    "             'DRESSING', 'K12Q03', 'K12Q04', 'K12Q12', 'TRICARE', 'K11Q03R', 'HCCOVOTH', 'K3Q25', 'REPEATED',\n",
    "             'K7Q30', 'K7Q31', 'K7Q37', 'BORNUSA', 'EMOSUPSPO', 'EMOSUPFAM', 'EMOSUPHCP', 'EMOSUPWOR',\n",
    "             'EMOSUPADV', 'EMOSUPPEER', 'EMOSUPMHP', 'K8Q35', 'EMOSUPOTH', 'K9Q96', 'A1_SEX', 'A1_BORN',\n",
    "             'A1_EMPLOYED', 'A1_MARITAL', 'A1_RELATION', 'A2_SEX', 'A2_BORN', 'A2_EMPLOYED', 'A2_GRADE',\n",
    "             'A2_MARITAL', 'A2_RELATION', 'A1_ACTIVE', 'A2_ACTIVE', 'A1_PHYSHEALTH', 'A1_MENTHEALTH',\n",
    "             'A2_PHYSHEALTH', 'A2_MENTHEALTH', 'K3Q21B' ]\n",
    "for col in df.columns:\n",
    "    null_count = df[col].isna().sum()\n",
    "    null_perc = df[col].isna().sum() / len(df)\n",
    "    dtype = df[col].dtype\n",
    "    if null_perc > 0.5:\n",
    "        drop_cols.append(col)\n",
    "    if dtype == 'object':\n",
    "        drop_cols.append(col)\n",
    "mode_cols = ['BREATHING', 'SWALLOWING', 'STOMACH', 'PHYSICALPAIN', 'TOOTHACHES', 'GUMBLEED', 'CAVITIES', 'K2Q43B',\n",
    "            'BLINDNESS', 'ALLERGIES', 'ARTHRITIS', 'K2Q40A', 'K2Q61A', 'K2Q41A', 'K2Q42A', 'HEART', 'HEADACHE',\n",
    "            'K2Q38A', 'K2Q33A', 'K2Q32A', 'DOWNSYN', 'BLOOD', 'CYSTFIB', 'GENETIC', 'K2Q34A', 'K2Q36A', 'K2Q60A',\n",
    "            'K2Q37A', 'K2Q30A', 'K2Q31A', 'CONCUSSION', 'K2Q05', 'K4Q23', 'ALTHEALTH', 'K4Q27', 'HOSPITALSTAY',\n",
    "            'K6Q15', 'K4Q36', 'K5Q10', 'DECISIONS', 'STOPWORK', 'CUTHOURS', 'AVOIDCHG', 'K9Q40', 'K11Q60', 'K11Q61',\n",
    "            'K11Q62', 'S9Q34', 'K10Q13', 'K10Q20', 'K10Q22', 'K10Q23', 'ACE3', 'ACE4', 'ACE5', 'ACE6', 'ACE7',\n",
    "            'S4Q01', 'OVERWEIGHT', 'K4Q01', 'USUALGO', 'USUALSICK', 'K4Q31_R', 'CURRCOV', 'K10Q11', 'K10Q12', 'K10Q14',\n",
    "            'ACE8', 'ACE9', 'ACE10', 'ACE12', 'HOWMUCH', 'HOURSLEEP', 'K8Q11', 'FOODSIT']\n",
    "mode_imp = Pipeline(steps=[\n",
    "    ('mode_imp', SimpleImputer(strategy='most_frequent'))\n",
    "])\n",
    "median_cols = ['MOMAGE', 'K2Q01', 'K2Q01_D', 'K6Q71_R', 'TALKABOUT', 'WKTOSOLVE', 'STRENGTHS', 'HOPEFUL', 'K10Q30',\n",
    "               'K10Q31', 'K10Q40_R', 'GOFORHELP', 'K10Q41_R', 'K8Q31', 'K8Q32', 'K8Q34', 'C4Q04' ]\n",
    "median_imp = Pipeline(steps=[\n",
    "    ('median_imp', SimpleImputer(strategy='median'))\n",
    "])\n",
    "four_cols = ['K5Q40', 'K5Q41', 'K5Q42', 'K5Q43', 'K5Q44', 'K3Q20', 'K3Q22', 'K7Q85_R', 'K7Q84_R', 'K7Q82_R',\n",
    "             'K7Q83_R', 'K7Q70_R', ]\n",
    "four_imp = Pipeline(steps=[\n",
    "    ('four_imp', SimpleImputer(strategy='constant', fill_value=4))\n",
    "])\n",
    "one_cols = ['BULLIED_R', 'BULLY', 'K7Q04R_R', 'PHYSACTIV', 'SCREENTIME', 'HCABILITY', 'K4Q20R', 'DOCROOM',\n",
    "            'HOSPITALER', ]\n",
    "one_imp = Pipeline(steps=[\n",
    "    ('one_imp', SimpleImputer(strategy='constant', fill_value=1))\n",
    "])\n",
    "six_cols = ['K7Q02R_R']\n",
    "six_imp = Pipeline(steps=[\n",
    "    ('six_imp', SimpleImputer(strategy='constant', fill_value=6))\n",
    "])\n",
    "three_cols = ['WGTCONC', 'K4Q22_R', 'K4Q24_R', 'K4Q04_R']\n",
    "three_imp = Pipeline(steps=[\n",
    "    ('three_imp', SimpleImputer(strategy='constant', fill_value=3))\n",
    "])\n",
    "seven_cols = ['K4Q02_R']\n",
    "seven_imp = Pipeline(steps=[\n",
    "    ('seven_imp', SimpleImputer(strategy='constant', fill_value=7))\n",
    "])\n",
    "two_cols = ['DENTISTVISIT', 'K5Q20_R', 'K5Q31_R', ]\n",
    "two_imp = Pipeline(steps=[\n",
    "    ('two_imp', SimpleImputer(strategy='constant', fill_value=2))\n",
    "])\n",
    "five_cols = ['K8Q21']\n",
    "five_imp = Pipeline(steps=[\n",
    "    ('five_imp', SimpleImputer(strategy='constant', fill_value=5))\n",
    "])"
   ]
  },
  {
   "cell_type": "code",
   "execution_count": 63,
   "metadata": {},
   "outputs": [],
   "source": [
    "df = df.drop(columns=drop_cols)\n",
    "y = df['Target']\n",
    "X = df.drop(columns=['Target'])"
   ]
  },
  {
   "cell_type": "code",
   "execution_count": 64,
   "metadata": {},
   "outputs": [],
   "source": [
    "X_train, X_test, y_train, y_test = train_test_split(X, y,\n",
    "                                                  random_state=0, stratify=y)"
   ]
  },
  {
   "cell_type": "code",
   "execution_count": 65,
   "metadata": {},
   "outputs": [],
   "source": [
    "preprocessor = ColumnTransformer(transformers=[\n",
    "    ('mode_transformer', mode_imp, mode_cols),\n",
    "    ('median_transformer', median_imp, median_cols),\n",
    "    ('four_transformer', four_imp, four_cols),\n",
    "    ('one_transformer', one_imp, one_cols),\n",
    "    ('six_transformer', six_imp, six_cols),\n",
    "    ('three_transformer', three_imp, three_cols),\n",
    "    ('seven_transformer', seven_imp, seven_cols),\n",
    "    ('two_transformer', two_imp, two_cols),\n",
    "    ('five_transformer', five_imp, five_cols)\n",
    "])"
   ]
  },
  {
   "cell_type": "code",
   "execution_count": 66,
   "metadata": {},
   "outputs": [],
   "source": [
    "logreg = Pipeline(steps=[\n",
    "    ('preprocessor', preprocessor),\n",
    "    ('logreg', LogisticRegression(max_iter=5000))\n",
    "])"
   ]
  },
  {
   "cell_type": "code",
   "execution_count": 67,
   "metadata": {},
   "outputs": [
    {
     "data": {
      "text/plain": [
       "Pipeline(steps=[('preprocessor',\n",
       "                 ColumnTransformer(transformers=[('mode_transformer',\n",
       "                                                  Pipeline(steps=[('mode_imp',\n",
       "                                                                   SimpleImputer(strategy='most_frequent'))]),\n",
       "                                                  ['BREATHING', 'SWALLOWING',\n",
       "                                                   'STOMACH', 'PHYSICALPAIN',\n",
       "                                                   'TOOTHACHES', 'GUMBLEED',\n",
       "                                                   'CAVITIES', 'K2Q43B',\n",
       "                                                   'BLINDNESS', 'ALLERGIES',\n",
       "                                                   'ARTHRITIS', 'K2Q40A',\n",
       "                                                   'K2Q61A', 'K2Q41A', 'K2Q42A',\n",
       "                                                   'HEART', 'HEADACHE',\n",
       "                                                   'K2Q38A',...\n",
       "                                                                   SimpleImputer(fill_value=7,\n",
       "                                                                                 strategy='constant'))]),\n",
       "                                                  ['K4Q02_R']),\n",
       "                                                 ('two_transformer',\n",
       "                                                  Pipeline(steps=[('two_imp',\n",
       "                                                                   SimpleImputer(fill_value=2,\n",
       "                                                                                 strategy='constant'))]),\n",
       "                                                  ['DENTISTVISIT', 'K5Q20_R',\n",
       "                                                   'K5Q31_R']),\n",
       "                                                 ('five_transformer',\n",
       "                                                  Pipeline(steps=[('five_imp',\n",
       "                                                                   SimpleImputer(fill_value=5,\n",
       "                                                                                 strategy='constant'))]),\n",
       "                                                  ['K8Q21'])])),\n",
       "                ('logreg', LogisticRegression(max_iter=5000))])"
      ]
     },
     "execution_count": 67,
     "metadata": {},
     "output_type": "execute_result"
    }
   ],
   "source": [
    "logreg.fit(X_train, y_train)"
   ]
  },
  {
   "cell_type": "code",
   "execution_count": 68,
   "metadata": {
    "scrolled": true
   },
   "outputs": [
    {
     "data": {
      "text/plain": [
       "0.9759371675323862"
      ]
     },
     "execution_count": 68,
     "metadata": {},
     "output_type": "execute_result"
    }
   ],
   "source": [
    "logreg.score(X_train, y_train)"
   ]
  },
  {
   "cell_type": "code",
   "execution_count": 69,
   "metadata": {},
   "outputs": [],
   "source": [
    "used_cols = [ *mode_cols, *median_cols, *four_cols, *one_cols, *six_cols, *three_cols, *seven_cols, *two_cols]"
   ]
  },
  {
   "cell_type": "code",
   "execution_count": 70,
   "metadata": {
    "scrolled": true
   },
   "outputs": [
    {
     "data": {
      "text/plain": [
       "[('BREATHING', 0.25424186033166296),\n",
       " ('SWALLOWING', 0.5334671753197986),\n",
       " ('STOMACH', 0.05094133889892858),\n",
       " ('PHYSICALPAIN', 0.23064786757634553),\n",
       " ('TOOTHACHES', 0.19768011333418758),\n",
       " ('GUMBLEED', -0.019762439940652014),\n",
       " ('CAVITIES', 0.3216581559467371),\n",
       " ('K2Q43B', 0.40647449201397107),\n",
       " ('BLINDNESS', 0.4172012405160808),\n",
       " ('ALLERGIES', -0.02173688881757067),\n",
       " ('ARTHRITIS', -0.9440041910047406),\n",
       " ('K2Q40A', -0.211545618386314),\n",
       " ('K2Q61A', 1.655938041818106),\n",
       " ('K2Q41A', -0.47395870286279523),\n",
       " ('K2Q42A', 0.11176366195478021),\n",
       " ('HEART', 0.12505027203772073),\n",
       " ('HEADACHE', -0.006182376513186711),\n",
       " ('K2Q38A', -1.289821953965289),\n",
       " ('K2Q33A', -0.4339536884387513),\n",
       " ('K2Q32A', 0.2222767545028986),\n",
       " ('DOWNSYN', 1.7543615127714625),\n",
       " ('BLOOD', -0.07604877099759941),\n",
       " ('CYSTFIB', 0.373043459195527),\n",
       " ('GENETIC', -0.42831612789103546),\n",
       " ('K2Q34A', -1.0567073197720789),\n",
       " ('K2Q36A', -1.178333839891881),\n",
       " ('K2Q60A', -0.24077932757775136),\n",
       " ('K2Q37A', -0.1799917789847754),\n",
       " ('K2Q30A', -0.25707034851060373),\n",
       " ('K2Q31A', -0.20211880999896506),\n",
       " ('CONCUSSION', 0.38886432784330244),\n",
       " ('K2Q05', 0.07188673487390053),\n",
       " ('K4Q23', 0.11011058662953083),\n",
       " ('ALTHEALTH', -0.19325384523026673),\n",
       " ('K4Q27', -0.17144885996947),\n",
       " ('HOSPITALSTAY', 0.2709564358857124),\n",
       " ('K6Q15', -1.0891816286869305),\n",
       " ('K4Q36', -1.3624371230816315),\n",
       " ('K5Q10', -0.1260098311257259),\n",
       " ('DECISIONS', 0.0427070323909475),\n",
       " ('STOPWORK', -0.024261544511949753),\n",
       " ('CUTHOURS', -0.09522474985312036),\n",
       " ('AVOIDCHG', -0.010297878580906873),\n",
       " ('K9Q40', -0.08194787472562857),\n",
       " ('K11Q60', -0.12128412331302975),\n",
       " ('K11Q61', 0.10033991742725948),\n",
       " ('K11Q62', -0.055885067022201515),\n",
       " ('S9Q34', 0.24117236835342912),\n",
       " ('K10Q13', -0.10089130760629256),\n",
       " ('K10Q20', 0.04025779794229926),\n",
       " ('K10Q22', 0.11160677154665176),\n",
       " ('K10Q23', -0.26325791330536036),\n",
       " ('ACE3', -0.0793862361534568),\n",
       " ('ACE4', -0.0825085379446101),\n",
       " ('ACE5', 0.22071076748614957),\n",
       " ('ACE6', 0.09139651365617164),\n",
       " ('ACE7', 0.10785763117354874),\n",
       " ('S4Q01', -0.10105484544581869),\n",
       " ('OVERWEIGHT', -0.1575193193407681),\n",
       " ('K4Q01', -0.19505721352659283),\n",
       " ('USUALGO', -0.04896233665674293),\n",
       " ('USUALSICK', -0.09324335012417528),\n",
       " ('K4Q31_R', -0.00245942415016759),\n",
       " ('CURRCOV', -0.36882107167580896),\n",
       " ('K10Q11', -0.10685645854471622),\n",
       " ('K10Q12', 0.12908202154672307),\n",
       " ('K10Q14', 0.09887805909615008),\n",
       " ('ACE8', -0.16854392320634792),\n",
       " ('ACE9', 0.441996571091275),\n",
       " ('ACE10', 0.7922536156695401),\n",
       " ('ACE12', -0.1279310705207247),\n",
       " ('HOWMUCH', -0.0369717276133941),\n",
       " ('HOURSLEEP', -0.12876159721477204),\n",
       " ('K8Q11', -0.03402454952380842),\n",
       " ('FOODSIT', -0.008576679390911852),\n",
       " ('MOMAGE', 0.009640395496792709),\n",
       " ('K2Q01', -0.1576795580479456),\n",
       " ('K2Q01_D', 0.04360722898725448),\n",
       " ('K6Q71_R', 0.18176198370744337),\n",
       " ('TALKABOUT', 0.2969525833387636),\n",
       " ('WKTOSOLVE', -0.4623424965029367),\n",
       " ('STRENGTHS', 0.1570971466529052),\n",
       " ('HOPEFUL', -0.02379002463070029),\n",
       " ('K10Q30', -0.028969112639549963),\n",
       " ('K10Q31', 0.14218648484765753),\n",
       " ('K10Q40_R', -0.14409826119641317),\n",
       " ('GOFORHELP', 0.004884706589140062),\n",
       " ('K10Q41_R', -0.11912779917375317),\n",
       " ('K8Q31', 0.3133360767872269),\n",
       " ('K8Q32', -0.0996486028155731),\n",
       " ('K8Q34', -0.3085254516335215),\n",
       " ('C4Q04', 0.16440318600656617),\n",
       " ('K5Q40', -0.033969806878679044),\n",
       " ('K5Q41', -0.16649492015798745),\n",
       " ('K5Q42', 0.23188347619909097),\n",
       " ('K5Q43', 0.2000187937821969),\n",
       " ('K5Q44', -0.2131446794281457),\n",
       " ('K3Q20', -0.05375604919587326),\n",
       " ('K3Q22', 0.2052507027749959),\n",
       " ('K7Q85_R', 0.25140966477906546),\n",
       " ('K7Q84_R', -0.31164305900530076),\n",
       " ('K7Q82_R', -0.10578111307336628),\n",
       " ('K7Q83_R', -0.03573452198895912),\n",
       " ('K7Q70_R', 0.18498151933900675),\n",
       " ('BULLIED_R', 0.23287954016020196),\n",
       " ('BULLY', -0.25818900535965633),\n",
       " ('K7Q04R_R', -0.09355644076362549),\n",
       " ('PHYSACTIV', -0.0028968287763099627),\n",
       " ('SCREENTIME', 0.2310737742651602),\n",
       " ('HCABILITY', 0.40020940040723624),\n",
       " ('K4Q20R', -0.15881391667124892),\n",
       " ('DOCROOM', -0.001582826907887822),\n",
       " ('HOSPITALER', -0.07041437018669336),\n",
       " ('K7Q02R_R', -0.07389986167372267),\n",
       " ('WGTCONC', -0.08399201212052522),\n",
       " ('K4Q22_R', -0.09043864520053956),\n",
       " ('K4Q24_R', 0.06593416765418539),\n",
       " ('K4Q04_R', 0.13701128839646834),\n",
       " ('K4Q02_R', 0.04085157784776094),\n",
       " ('DENTISTVISIT', 0.14751229801989185),\n",
       " ('K5Q20_R', 0.11581925741146215),\n",
       " ('K5Q31_R', -0.03441431612803385)]"
      ]
     },
     "execution_count": 70,
     "metadata": {},
     "output_type": "execute_result"
    }
   ],
   "source": [
    "used_cols_coef = list(zip(used_cols, list(*logreg.named_steps['logreg'].coef_)))\n",
    "used_cols_coef"
   ]
  },
  {
   "cell_type": "code",
   "execution_count": 71,
   "metadata": {},
   "outputs": [
    {
     "data": {
      "text/plain": [
       "[('DOWNSYN', 1.7543615127714625),\n",
       " ('K2Q61A', 1.655938041818106),\n",
       " ('ACE10', 0.7922536156695401),\n",
       " ('SWALLOWING', 0.5334671753197986),\n",
       " ('ACE9', 0.441996571091275),\n",
       " ('BLINDNESS', 0.4172012405160808),\n",
       " ('K2Q43B', 0.40647449201397107),\n",
       " ('HCABILITY', 0.40020940040723624),\n",
       " ('CONCUSSION', 0.38886432784330244),\n",
       " ('CYSTFIB', 0.373043459195527),\n",
       " ('CAVITIES', 0.3216581559467371),\n",
       " ('K8Q31', 0.3133360767872269),\n",
       " ('TALKABOUT', 0.2969525833387636),\n",
       " ('HOSPITALSTAY', 0.2709564358857124),\n",
       " ('BREATHING', 0.25424186033166296),\n",
       " ('K7Q85_R', 0.25140966477906546),\n",
       " ('S9Q34', 0.24117236835342912),\n",
       " ('BULLIED_R', 0.23287954016020196),\n",
       " ('K5Q42', 0.23188347619909097),\n",
       " ('SCREENTIME', 0.2310737742651602),\n",
       " ('PHYSICALPAIN', 0.23064786757634553),\n",
       " ('K2Q32A', 0.2222767545028986),\n",
       " ('ACE5', 0.22071076748614957),\n",
       " ('K3Q22', 0.2052507027749959),\n",
       " ('K5Q43', 0.2000187937821969),\n",
       " ('TOOTHACHES', 0.19768011333418758),\n",
       " ('K7Q70_R', 0.18498151933900675),\n",
       " ('K6Q71_R', 0.18176198370744337),\n",
       " ('C4Q04', 0.16440318600656617),\n",
       " ('STRENGTHS', 0.1570971466529052),\n",
       " ('DENTISTVISIT', 0.14751229801989185),\n",
       " ('K10Q31', 0.14218648484765753),\n",
       " ('K4Q04_R', 0.13701128839646834),\n",
       " ('K10Q12', 0.12908202154672307),\n",
       " ('HEART', 0.12505027203772073),\n",
       " ('K5Q20_R', 0.11581925741146215),\n",
       " ('K2Q42A', 0.11176366195478021),\n",
       " ('K10Q22', 0.11160677154665176),\n",
       " ('K4Q23', 0.11011058662953083),\n",
       " ('ACE7', 0.10785763117354874),\n",
       " ('K11Q61', 0.10033991742725948),\n",
       " ('K10Q14', 0.09887805909615008),\n",
       " ('ACE6', 0.09139651365617164),\n",
       " ('K2Q05', 0.07188673487390053),\n",
       " ('K4Q24_R', 0.06593416765418539),\n",
       " ('STOMACH', 0.05094133889892858),\n",
       " ('K2Q01_D', 0.04360722898725448),\n",
       " ('DECISIONS', 0.0427070323909475),\n",
       " ('K4Q02_R', 0.04085157784776094),\n",
       " ('K10Q20', 0.04025779794229926),\n",
       " ('MOMAGE', 0.009640395496792709),\n",
       " ('GOFORHELP', 0.004884706589140062),\n",
       " ('DOCROOM', -0.001582826907887822),\n",
       " ('K4Q31_R', -0.00245942415016759),\n",
       " ('PHYSACTIV', -0.0028968287763099627),\n",
       " ('HEADACHE', -0.006182376513186711),\n",
       " ('FOODSIT', -0.008576679390911852),\n",
       " ('AVOIDCHG', -0.010297878580906873),\n",
       " ('GUMBLEED', -0.019762439940652014),\n",
       " ('ALLERGIES', -0.02173688881757067),\n",
       " ('HOPEFUL', -0.02379002463070029),\n",
       " ('STOPWORK', -0.024261544511949753),\n",
       " ('K10Q30', -0.028969112639549963),\n",
       " ('K5Q40', -0.033969806878679044),\n",
       " ('K8Q11', -0.03402454952380842),\n",
       " ('K5Q31_R', -0.03441431612803385),\n",
       " ('K7Q83_R', -0.03573452198895912),\n",
       " ('HOWMUCH', -0.0369717276133941),\n",
       " ('USUALGO', -0.04896233665674293),\n",
       " ('K3Q20', -0.05375604919587326),\n",
       " ('K11Q62', -0.055885067022201515),\n",
       " ('HOSPITALER', -0.07041437018669336),\n",
       " ('K7Q02R_R', -0.07389986167372267),\n",
       " ('BLOOD', -0.07604877099759941),\n",
       " ('ACE3', -0.0793862361534568),\n",
       " ('K9Q40', -0.08194787472562857),\n",
       " ('ACE4', -0.0825085379446101),\n",
       " ('WGTCONC', -0.08399201212052522),\n",
       " ('K4Q22_R', -0.09043864520053956),\n",
       " ('USUALSICK', -0.09324335012417528),\n",
       " ('K7Q04R_R', -0.09355644076362549),\n",
       " ('CUTHOURS', -0.09522474985312036),\n",
       " ('K8Q32', -0.0996486028155731),\n",
       " ('K10Q13', -0.10089130760629256),\n",
       " ('S4Q01', -0.10105484544581869),\n",
       " ('K7Q82_R', -0.10578111307336628),\n",
       " ('K10Q11', -0.10685645854471622),\n",
       " ('K10Q41_R', -0.11912779917375317),\n",
       " ('K11Q60', -0.12128412331302975),\n",
       " ('K5Q10', -0.1260098311257259),\n",
       " ('ACE12', -0.1279310705207247),\n",
       " ('HOURSLEEP', -0.12876159721477204),\n",
       " ('K10Q40_R', -0.14409826119641317),\n",
       " ('OVERWEIGHT', -0.1575193193407681),\n",
       " ('K2Q01', -0.1576795580479456),\n",
       " ('K4Q20R', -0.15881391667124892),\n",
       " ('K5Q41', -0.16649492015798745),\n",
       " ('ACE8', -0.16854392320634792),\n",
       " ('K4Q27', -0.17144885996947),\n",
       " ('K2Q37A', -0.1799917789847754),\n",
       " ('ALTHEALTH', -0.19325384523026673),\n",
       " ('K4Q01', -0.19505721352659283),\n",
       " ('K2Q31A', -0.20211880999896506),\n",
       " ('K2Q40A', -0.211545618386314),\n",
       " ('K5Q44', -0.2131446794281457),\n",
       " ('K2Q60A', -0.24077932757775136),\n",
       " ('K2Q30A', -0.25707034851060373),\n",
       " ('BULLY', -0.25818900535965633),\n",
       " ('K10Q23', -0.26325791330536036),\n",
       " ('K8Q34', -0.3085254516335215),\n",
       " ('K7Q84_R', -0.31164305900530076),\n",
       " ('CURRCOV', -0.36882107167580896),\n",
       " ('GENETIC', -0.42831612789103546),\n",
       " ('K2Q33A', -0.4339536884387513),\n",
       " ('WKTOSOLVE', -0.4623424965029367),\n",
       " ('K2Q41A', -0.47395870286279523),\n",
       " ('ARTHRITIS', -0.9440041910047406),\n",
       " ('K2Q34A', -1.0567073197720789),\n",
       " ('K6Q15', -1.0891816286869305),\n",
       " ('K2Q36A', -1.178333839891881),\n",
       " ('K2Q38A', -1.289821953965289),\n",
       " ('K4Q36', -1.3624371230816315)]"
      ]
     },
     "execution_count": 71,
     "metadata": {},
     "output_type": "execute_result"
    }
   ],
   "source": [
    "used_cols_coef = sorted(used_cols_coef, key=lambda x: x[1], reverse=True)\n",
    "used_cols_coef"
   ]
  },
  {
   "cell_type": "code",
   "execution_count": 72,
   "metadata": {},
   "outputs": [],
   "source": [
    "tree = Pipeline(steps=[\n",
    "    ('preprocessor', preprocessor),\n",
    "    ('tree', DecisionTreeClassifier(max_features='auto'))\n",
    "])"
   ]
  },
  {
   "cell_type": "code",
   "execution_count": 73,
   "metadata": {
    "scrolled": true
   },
   "outputs": [
    {
     "data": {
      "text/plain": [
       "Pipeline(steps=[('preprocessor',\n",
       "                 ColumnTransformer(transformers=[('mode_transformer',\n",
       "                                                  Pipeline(steps=[('mode_imp',\n",
       "                                                                   SimpleImputer(strategy='most_frequent'))]),\n",
       "                                                  ['BREATHING', 'SWALLOWING',\n",
       "                                                   'STOMACH', 'PHYSICALPAIN',\n",
       "                                                   'TOOTHACHES', 'GUMBLEED',\n",
       "                                                   'CAVITIES', 'K2Q43B',\n",
       "                                                   'BLINDNESS', 'ALLERGIES',\n",
       "                                                   'ARTHRITIS', 'K2Q40A',\n",
       "                                                   'K2Q61A', 'K2Q41A', 'K2Q42A',\n",
       "                                                   'HEART', 'HEADACHE',\n",
       "                                                   'K2Q38A',...\n",
       "                                                                   SimpleImputer(fill_value=7,\n",
       "                                                                                 strategy='constant'))]),\n",
       "                                                  ['K4Q02_R']),\n",
       "                                                 ('two_transformer',\n",
       "                                                  Pipeline(steps=[('two_imp',\n",
       "                                                                   SimpleImputer(fill_value=2,\n",
       "                                                                                 strategy='constant'))]),\n",
       "                                                  ['DENTISTVISIT', 'K5Q20_R',\n",
       "                                                   'K5Q31_R']),\n",
       "                                                 ('five_transformer',\n",
       "                                                  Pipeline(steps=[('five_imp',\n",
       "                                                                   SimpleImputer(fill_value=5,\n",
       "                                                                                 strategy='constant'))]),\n",
       "                                                  ['K8Q21'])])),\n",
       "                ('tree', DecisionTreeClassifier(max_features='auto'))])"
      ]
     },
     "execution_count": 73,
     "metadata": {},
     "output_type": "execute_result"
    }
   ],
   "source": [
    "tree.fit(X_train, y_train)"
   ]
  },
  {
   "cell_type": "code",
   "execution_count": 74,
   "metadata": {
    "scrolled": true
   },
   "outputs": [
    {
     "data": {
      "text/plain": [
       "1.0"
      ]
     },
     "execution_count": 74,
     "metadata": {},
     "output_type": "execute_result"
    }
   ],
   "source": [
    "tree.score(X_train, y_train)"
   ]
  },
  {
   "cell_type": "code",
   "execution_count": 75,
   "metadata": {},
   "outputs": [
    {
     "data": {
      "text/plain": [
       "[('BREATHING', 0.00672327868281585),\n",
       " ('SWALLOWING', 0.0017682490463478363),\n",
       " ('STOMACH', 0.0010345129705070714),\n",
       " ('PHYSICALPAIN', 0.004947601140055615),\n",
       " ('TOOTHACHES', 0.0015930973837581582),\n",
       " ('GUMBLEED', 0.0007133531066983454),\n",
       " ('CAVITIES', 0.0026657016904043304),\n",
       " ('K2Q43B', 0.0013091324857829047),\n",
       " ('BLINDNESS', 0.000475548702462559),\n",
       " ('ALLERGIES', 0.005285296171403493),\n",
       " ('ARTHRITIS', 2.064334272213649e-05),\n",
       " ('K2Q40A', 0.005551827379786021),\n",
       " ('K2Q61A', 0.001405335254545449),\n",
       " ('K2Q41A', 0.002034019975108216),\n",
       " ('K2Q42A', 0.0017060970648179361),\n",
       " ('HEART', 0.002353128491544335),\n",
       " ('HEADACHE', 0.00239933204722167),\n",
       " ('K2Q38A', 0.004387466856540539),\n",
       " ('K2Q33A', 0.006375555068588581),\n",
       " ('K2Q32A', 0.0028895643942572747),\n",
       " ('DOWNSYN', 0.0),\n",
       " ('BLOOD', 0.0),\n",
       " ('CYSTFIB', 0.0),\n",
       " ('GENETIC', 0.006201617930760527),\n",
       " ('K2Q34A', 0.01932724701354885),\n",
       " ('K2Q36A', 0.026962807587062383),\n",
       " ('K2Q60A', 0.007182632728255039),\n",
       " ('K2Q37A', 0.043865478713456446),\n",
       " ('K2Q30A', 0.05818511913283239),\n",
       " ('K2Q31A', 0.00825248754195938),\n",
       " ('CONCUSSION', 0.002505474604427734),\n",
       " ('K2Q05', 0.0036506303432134574),\n",
       " ('K4Q23', 0.005012317028696396),\n",
       " ('ALTHEALTH', 0.004559922146264328),\n",
       " ('K4Q27', 0.0027031920516294586),\n",
       " ('HOSPITALSTAY', 0.0023254221475637895),\n",
       " ('K6Q15', 0.014846181487204308),\n",
       " ('K4Q36', 0.022126282833519747),\n",
       " ('K5Q10', 0.002757384785509329),\n",
       " ('DECISIONS', 0.005037536401280987),\n",
       " ('STOPWORK', 0.005593924456207511),\n",
       " ('CUTHOURS', 0.003994605181114779),\n",
       " ('AVOIDCHG', 0.004801722781105532),\n",
       " ('K9Q40', 0.00483842653140317),\n",
       " ('K11Q60', 0.0033849483587385224),\n",
       " ('K11Q61', 0.005158301878633878),\n",
       " ('K11Q62', 0.005737027920195959),\n",
       " ('S9Q34', 0.0014968660766542683),\n",
       " ('K10Q13', 0.010068058423104816),\n",
       " ('K10Q20', 0.0018064634045232958),\n",
       " ('K10Q22', 0.005040893110499829),\n",
       " ('K10Q23', 0.003315836924743185),\n",
       " ('ACE3', 0.004386235907066198),\n",
       " ('ACE4', 0.0019414791363689444),\n",
       " ('ACE5', 0.00913484920194312),\n",
       " ('ACE6', 0.004022599790045808),\n",
       " ('ACE7', 0.0022210590963209383),\n",
       " ('S4Q01', 0.0019002426962858507),\n",
       " ('OVERWEIGHT', 0.003188989318278825),\n",
       " ('K4Q01', 0.002055508334453279),\n",
       " ('USUALGO', 0.0018001335484208929),\n",
       " ('USUALSICK', 0.0029864035804690893),\n",
       " ('K4Q31_R', 0.007180800600303205),\n",
       " ('CURRCOV', 0.0022393866740031696),\n",
       " ('K10Q11', 0.007284239054238792),\n",
       " ('K10Q12', 0.005955439162054571),\n",
       " ('K10Q14', 0.0026970115664111966),\n",
       " ('ACE8', 0.004005065941247745),\n",
       " ('ACE9', 0.004183293372086529),\n",
       " ('ACE10', 0.001367621455341547),\n",
       " ('ACE12', 0.002182603423225896),\n",
       " ('HOWMUCH', 0.014357957972757853),\n",
       " ('HOURSLEEP', 0.015275837183458405),\n",
       " ('K8Q11', 0.008375735148606121),\n",
       " ('FOODSIT', 0.009919473873811528),\n",
       " ('MOMAGE', 0.03408702466940776),\n",
       " ('K2Q01', 0.01355417542510655),\n",
       " ('K2Q01_D', 0.010395353974014037),\n",
       " ('K6Q71_R', 0.02704539512359042),\n",
       " ('TALKABOUT', 0.011342482738934219),\n",
       " ('WKTOSOLVE', 0.010599471291901051),\n",
       " ('STRENGTHS', 0.0040620146167056155),\n",
       " ('HOPEFUL', 0.005906849400584782),\n",
       " ('K10Q30', 0.012720947191803104),\n",
       " ('K10Q31', 0.019767072014814178),\n",
       " ('K10Q40_R', 0.0026487944526233363),\n",
       " ('GOFORHELP', 0.012257021667128219),\n",
       " ('K10Q41_R', 0.005099916203527062),\n",
       " ('K8Q31', 0.04146677010153019),\n",
       " ('K8Q32', 0.01004270299076967),\n",
       " ('K8Q34', 0.011528820300530703),\n",
       " ('C4Q04', 0.012613565737776507),\n",
       " ('K5Q40', 0.006766510429033822),\n",
       " ('K5Q41', 0.003240589916663867),\n",
       " ('K5Q42', 0.009588419987038962),\n",
       " ('K5Q43', 0.00627987647512951),\n",
       " ('K5Q44', 0.007835228225543766),\n",
       " ('K3Q20', 0.011622366461923023),\n",
       " ('K3Q22', 0.011351549674539699),\n",
       " ('K7Q85_R', 0.010595331848016603),\n",
       " ('K7Q84_R', 0.007283879274937639),\n",
       " ('K7Q82_R', 0.009259224988260468),\n",
       " ('K7Q83_R', 0.011915178493058993),\n",
       " ('K7Q70_R', 0.009036015215246626),\n",
       " ('BULLIED_R', 0.01124070878542449),\n",
       " ('BULLY', 0.010508658572706175),\n",
       " ('K7Q04R_R', 0.006608884570404845),\n",
       " ('PHYSACTIV', 0.01461343484215852),\n",
       " ('SCREENTIME', 0.013433547437973977),\n",
       " ('HCABILITY', 0.030754046317234243),\n",
       " ('K4Q20R', 0.006234645901584737),\n",
       " ('DOCROOM', 0.009473088902907052),\n",
       " ('HOSPITALER', 0.0021328404510811243),\n",
       " ('K7Q02R_R', 0.014663282238417513),\n",
       " ('WGTCONC', 0.005773160578248122),\n",
       " ('K4Q22_R', 0.0070824883309043235),\n",
       " ('K4Q24_R', 0.005318164082949253),\n",
       " ('K4Q04_R', 0.006683502450115803),\n",
       " ('K4Q02_R', 0.0041792098078507495),\n",
       " ('DENTISTVISIT', 0.005406597238217494),\n",
       " ('K5Q20_R', 0.004168159797857313),\n",
       " ('K5Q31_R', 0.01551130561522793)]"
      ]
     },
     "execution_count": 75,
     "metadata": {},
     "output_type": "execute_result"
    }
   ],
   "source": [
    "used_cols_coef_2 = list(zip(used_cols, list(tree.named_steps['tree'].feature_importances_)))\n",
    "used_cols_coef_2"
   ]
  },
  {
   "cell_type": "code",
   "execution_count": 76,
   "metadata": {},
   "outputs": [
    {
     "data": {
      "text/plain": [
       "[('K2Q30A', 0.05818511913283239),\n",
       " ('K2Q37A', 0.043865478713456446),\n",
       " ('K8Q31', 0.04146677010153019),\n",
       " ('MOMAGE', 0.03408702466940776),\n",
       " ('HCABILITY', 0.030754046317234243),\n",
       " ('K6Q71_R', 0.02704539512359042),\n",
       " ('K2Q36A', 0.026962807587062383),\n",
       " ('K4Q36', 0.022126282833519747),\n",
       " ('K10Q31', 0.019767072014814178),\n",
       " ('K2Q34A', 0.01932724701354885),\n",
       " ('K5Q31_R', 0.01551130561522793),\n",
       " ('HOURSLEEP', 0.015275837183458405),\n",
       " ('K6Q15', 0.014846181487204308),\n",
       " ('K7Q02R_R', 0.014663282238417513),\n",
       " ('PHYSACTIV', 0.01461343484215852),\n",
       " ('HOWMUCH', 0.014357957972757853),\n",
       " ('K2Q01', 0.01355417542510655),\n",
       " ('SCREENTIME', 0.013433547437973977),\n",
       " ('K10Q30', 0.012720947191803104),\n",
       " ('C4Q04', 0.012613565737776507),\n",
       " ('GOFORHELP', 0.012257021667128219),\n",
       " ('K7Q83_R', 0.011915178493058993),\n",
       " ('K3Q20', 0.011622366461923023),\n",
       " ('K8Q34', 0.011528820300530703),\n",
       " ('K3Q22', 0.011351549674539699),\n",
       " ('TALKABOUT', 0.011342482738934219),\n",
       " ('BULLIED_R', 0.01124070878542449),\n",
       " ('WKTOSOLVE', 0.010599471291901051),\n",
       " ('K7Q85_R', 0.010595331848016603),\n",
       " ('BULLY', 0.010508658572706175),\n",
       " ('K2Q01_D', 0.010395353974014037),\n",
       " ('K10Q13', 0.010068058423104816),\n",
       " ('K8Q32', 0.01004270299076967),\n",
       " ('FOODSIT', 0.009919473873811528),\n",
       " ('K5Q42', 0.009588419987038962),\n",
       " ('DOCROOM', 0.009473088902907052),\n",
       " ('K7Q82_R', 0.009259224988260468),\n",
       " ('ACE5', 0.00913484920194312),\n",
       " ('K7Q70_R', 0.009036015215246626),\n",
       " ('K8Q11', 0.008375735148606121),\n",
       " ('K2Q31A', 0.00825248754195938),\n",
       " ('K5Q44', 0.007835228225543766),\n",
       " ('K10Q11', 0.007284239054238792),\n",
       " ('K7Q84_R', 0.007283879274937639),\n",
       " ('K2Q60A', 0.007182632728255039),\n",
       " ('K4Q31_R', 0.007180800600303205),\n",
       " ('K4Q22_R', 0.0070824883309043235),\n",
       " ('K5Q40', 0.006766510429033822),\n",
       " ('BREATHING', 0.00672327868281585),\n",
       " ('K4Q04_R', 0.006683502450115803),\n",
       " ('K7Q04R_R', 0.006608884570404845),\n",
       " ('K2Q33A', 0.006375555068588581),\n",
       " ('K5Q43', 0.00627987647512951),\n",
       " ('K4Q20R', 0.006234645901584737),\n",
       " ('GENETIC', 0.006201617930760527),\n",
       " ('K10Q12', 0.005955439162054571),\n",
       " ('HOPEFUL', 0.005906849400584782),\n",
       " ('WGTCONC', 0.005773160578248122),\n",
       " ('K11Q62', 0.005737027920195959),\n",
       " ('STOPWORK', 0.005593924456207511),\n",
       " ('K2Q40A', 0.005551827379786021),\n",
       " ('DENTISTVISIT', 0.005406597238217494),\n",
       " ('K4Q24_R', 0.005318164082949253),\n",
       " ('ALLERGIES', 0.005285296171403493),\n",
       " ('K11Q61', 0.005158301878633878),\n",
       " ('K10Q41_R', 0.005099916203527062),\n",
       " ('K10Q22', 0.005040893110499829),\n",
       " ('DECISIONS', 0.005037536401280987),\n",
       " ('K4Q23', 0.005012317028696396),\n",
       " ('PHYSICALPAIN', 0.004947601140055615),\n",
       " ('K9Q40', 0.00483842653140317),\n",
       " ('AVOIDCHG', 0.004801722781105532),\n",
       " ('ALTHEALTH', 0.004559922146264328),\n",
       " ('K2Q38A', 0.004387466856540539),\n",
       " ('ACE3', 0.004386235907066198),\n",
       " ('ACE9', 0.004183293372086529),\n",
       " ('K4Q02_R', 0.0041792098078507495),\n",
       " ('K5Q20_R', 0.004168159797857313),\n",
       " ('STRENGTHS', 0.0040620146167056155),\n",
       " ('ACE6', 0.004022599790045808),\n",
       " ('ACE8', 0.004005065941247745),\n",
       " ('CUTHOURS', 0.003994605181114779),\n",
       " ('K2Q05', 0.0036506303432134574),\n",
       " ('K11Q60', 0.0033849483587385224),\n",
       " ('K10Q23', 0.003315836924743185),\n",
       " ('K5Q41', 0.003240589916663867),\n",
       " ('OVERWEIGHT', 0.003188989318278825),\n",
       " ('USUALSICK', 0.0029864035804690893),\n",
       " ('K2Q32A', 0.0028895643942572747),\n",
       " ('K5Q10', 0.002757384785509329),\n",
       " ('K4Q27', 0.0027031920516294586),\n",
       " ('K10Q14', 0.0026970115664111966),\n",
       " ('CAVITIES', 0.0026657016904043304),\n",
       " ('K10Q40_R', 0.0026487944526233363),\n",
       " ('CONCUSSION', 0.002505474604427734),\n",
       " ('HEADACHE', 0.00239933204722167),\n",
       " ('HEART', 0.002353128491544335),\n",
       " ('HOSPITALSTAY', 0.0023254221475637895),\n",
       " ('CURRCOV', 0.0022393866740031696),\n",
       " ('ACE7', 0.0022210590963209383),\n",
       " ('ACE12', 0.002182603423225896),\n",
       " ('HOSPITALER', 0.0021328404510811243),\n",
       " ('K4Q01', 0.002055508334453279),\n",
       " ('K2Q41A', 0.002034019975108216),\n",
       " ('ACE4', 0.0019414791363689444),\n",
       " ('S4Q01', 0.0019002426962858507),\n",
       " ('K10Q20', 0.0018064634045232958),\n",
       " ('USUALGO', 0.0018001335484208929),\n",
       " ('SWALLOWING', 0.0017682490463478363),\n",
       " ('K2Q42A', 0.0017060970648179361),\n",
       " ('TOOTHACHES', 0.0015930973837581582),\n",
       " ('S9Q34', 0.0014968660766542683),\n",
       " ('K2Q61A', 0.001405335254545449),\n",
       " ('ACE10', 0.001367621455341547),\n",
       " ('K2Q43B', 0.0013091324857829047),\n",
       " ('STOMACH', 0.0010345129705070714),\n",
       " ('GUMBLEED', 0.0007133531066983454),\n",
       " ('BLINDNESS', 0.000475548702462559),\n",
       " ('ARTHRITIS', 2.064334272213649e-05),\n",
       " ('DOWNSYN', 0.0),\n",
       " ('BLOOD', 0.0),\n",
       " ('CYSTFIB', 0.0)]"
      ]
     },
     "execution_count": 76,
     "metadata": {},
     "output_type": "execute_result"
    }
   ],
   "source": [
    "used_cols_coef_2 = sorted(used_cols_coef_2, key=lambda x: x[1], reverse=True)\n",
    "used_cols_coef_2"
   ]
  },
  {
   "cell_type": "markdown",
   "metadata": {},
   "source": [
    "### Make a list of better columns to use to in Models"
   ]
  },
  {
   "cell_type": "markdown",
   "metadata": {},
   "source": [
    "Log Reg Model"
   ]
  },
  {
   "cell_type": "code",
   "execution_count": 77,
   "metadata": {},
   "outputs": [],
   "source": [
    "better_cols = ['DOWNSYN','K2Q61A','ACE10','SWALLOWING', 'ACE9', 'BLINDNESS','K2Q43B', 'HCABILITY']"
   ]
  },
  {
   "cell_type": "code",
   "execution_count": 78,
   "metadata": {},
   "outputs": [],
   "source": [
    "mode_cols_2 = ['DOWNSYN', 'K2Q61A', 'ACE10', 'SWALLOWING', 'ACE9', 'BLINDNESS','K2Q43B']\n",
    "mode_imp_2 = Pipeline(steps=[\n",
    "    ('mode_imp_2', SimpleImputer(strategy='most_frequent'))\n",
    "])\n",
    "one_cols_2 = ['HCABILITY']\n",
    "one_imp_2 = Pipeline(steps=[\n",
    "    ('one_imp_2', SimpleImputer(strategy='constant', fill_value=1))\n",
    "])"
   ]
  },
  {
   "cell_type": "code",
   "execution_count": 79,
   "metadata": {},
   "outputs": [],
   "source": [
    "y_2 = df['Target']\n",
    "X_2 = df[better_cols]"
   ]
  },
  {
   "cell_type": "code",
   "execution_count": 80,
   "metadata": {},
   "outputs": [],
   "source": [
    "X_train_2, X_test_2, y_train_2, y_test_2 = train_test_split(X_2, y_2,\n",
    "                                                  random_state=0, stratify=y)"
   ]
  },
  {
   "cell_type": "code",
   "execution_count": 81,
   "metadata": {},
   "outputs": [],
   "source": [
    "better_preprocessor = ColumnTransformer(transformers=[\n",
    "    ('mode_transformer_2', mode_imp_2, mode_cols_2),\n",
    "    ('one_transformer_2', one_imp_2, one_cols_2)\n",
    "])"
   ]
  },
  {
   "cell_type": "code",
   "execution_count": 82,
   "metadata": {},
   "outputs": [],
   "source": [
    "logreg_2 = Pipeline(steps=[\n",
    "    ('preprocessor', better_preprocessor),\n",
    "    ('logreg', LogisticRegression(max_iter=5000))\n",
    "])"
   ]
  },
  {
   "cell_type": "code",
   "execution_count": 83,
   "metadata": {},
   "outputs": [
    {
     "data": {
      "text/plain": [
       "Pipeline(steps=[('preprocessor',\n",
       "                 ColumnTransformer(transformers=[('mode_transformer_2',\n",
       "                                                  Pipeline(steps=[('mode_imp_2',\n",
       "                                                                   SimpleImputer(strategy='most_frequent'))]),\n",
       "                                                  ['DOWNSYN', 'K2Q61A', 'ACE10',\n",
       "                                                   'SWALLOWING', 'ACE9',\n",
       "                                                   'BLINDNESS', 'K2Q43B']),\n",
       "                                                 ('one_transformer_2',\n",
       "                                                  Pipeline(steps=[('one_imp_2',\n",
       "                                                                   SimpleImputer(fill_value=1,\n",
       "                                                                                 strategy='constant'))]),\n",
       "                                                  ['HCABILITY'])])),\n",
       "                ('logreg', LogisticRegression(max_iter=5000))])"
      ]
     },
     "execution_count": 83,
     "metadata": {},
     "output_type": "execute_result"
    }
   ],
   "source": [
    "logreg_2.fit(X_train_2[better_cols], y_train_2)"
   ]
  },
  {
   "cell_type": "code",
   "execution_count": 84,
   "metadata": {
    "scrolled": true
   },
   "outputs": [
    {
     "data": {
      "text/plain": [
       "0.9696476625571062"
      ]
     },
     "execution_count": 84,
     "metadata": {},
     "output_type": "execute_result"
    }
   ],
   "source": [
    "logreg_2.score(X_train_2, y_train)"
   ]
  },
  {
   "cell_type": "markdown",
   "metadata": {},
   "source": [
    "Decision Tree Model"
   ]
  },
  {
   "cell_type": "code",
   "execution_count": 85,
   "metadata": {},
   "outputs": [],
   "source": [
    "tree_2 = Pipeline(steps=[\n",
    "    ('preprocessor', better_preprocessor),\n",
    "    ('tree', DecisionTreeClassifier(max_features='auto', class_weight=\"balanced\"))\n",
    "])"
   ]
  },
  {
   "cell_type": "code",
   "execution_count": 86,
   "metadata": {},
   "outputs": [
    {
     "data": {
      "text/plain": [
       "Pipeline(steps=[('preprocessor',\n",
       "                 ColumnTransformer(transformers=[('mode_transformer_2',\n",
       "                                                  Pipeline(steps=[('mode_imp_2',\n",
       "                                                                   SimpleImputer(strategy='most_frequent'))]),\n",
       "                                                  ['DOWNSYN', 'K2Q61A', 'ACE10',\n",
       "                                                   'SWALLOWING', 'ACE9',\n",
       "                                                   'BLINDNESS', 'K2Q43B']),\n",
       "                                                 ('one_transformer_2',\n",
       "                                                  Pipeline(steps=[('one_imp_2',\n",
       "                                                                   SimpleImputer(fill_value=1,\n",
       "                                                                                 strategy='constant'))]),\n",
       "                                                  ['HCABILITY'])])),\n",
       "                ('tree',\n",
       "                 DecisionTreeClassifier(class_weight='balanced',\n",
       "                                        max_features='auto'))])"
      ]
     },
     "execution_count": 86,
     "metadata": {},
     "output_type": "execute_result"
    }
   ],
   "source": [
    "tree_2.fit(X_train_2, y_train)"
   ]
  },
  {
   "cell_type": "code",
   "execution_count": 87,
   "metadata": {},
   "outputs": [
    {
     "data": {
      "text/plain": [
       "0.8605044120408035"
      ]
     },
     "execution_count": 87,
     "metadata": {},
     "output_type": "execute_result"
    }
   ],
   "source": [
    "tree_2.score(X_train_2, y_train)"
   ]
  },
  {
   "cell_type": "code",
   "execution_count": 88,
   "metadata": {},
   "outputs": [
    {
     "data": {
      "text/plain": [
       "array([4.97367565e-03, 2.58351002e-03, 7.52302152e-04, 5.26399779e-03,\n",
       "       2.00202899e-02, 2.69447836e-02, 3.95113841e-03, 9.35510302e-01])"
      ]
     },
     "execution_count": 88,
     "metadata": {},
     "output_type": "execute_result"
    }
   ],
   "source": [
    "tree_2.named_steps['tree'].feature_importances_"
   ]
  },
  {
   "cell_type": "markdown",
   "metadata": {},
   "source": [
    "Trying a undersampling technique I found through google. https://www.analyticsvidhya.com/blog/2020/07/10-techniques-to-deal-with-class-imbalance-in-machine-learning/"
   ]
  },
  {
   "cell_type": "code",
   "execution_count": 89,
   "metadata": {},
   "outputs": [],
   "source": [
    "from imblearn.under_sampling import RandomUnderSampler"
   ]
  },
  {
   "cell_type": "code",
   "execution_count": 102,
   "metadata": {},
   "outputs": [],
   "source": [
    "X_train, X_test, y_train, y_test = train_test_split(X_2, y_2,\n",
    "                                                  random_state=0, stratify=y)"
   ]
  },
  {
   "cell_type": "code",
   "execution_count": 103,
   "metadata": {},
   "outputs": [],
   "source": [
    "rus = RandomUnderSampler(random_state=42, replacement=True)"
   ]
  },
  {
   "cell_type": "code",
   "execution_count": 104,
   "metadata": {},
   "outputs": [],
   "source": [
    "x_rus, y_rus = rus.fit_resample(X_train, y_train)"
   ]
  },
  {
   "cell_type": "code",
   "execution_count": 105,
   "metadata": {},
   "outputs": [
    {
     "data": {
      "text/plain": [
       "1.0    951\n",
       "0.0    951\n",
       "Name: Target, dtype: int64"
      ]
     },
     "execution_count": 105,
     "metadata": {},
     "output_type": "execute_result"
    }
   ],
   "source": [
    "y_rus.value_counts()"
   ]
  },
  {
   "cell_type": "code",
   "execution_count": 106,
   "metadata": {},
   "outputs": [],
   "source": [
    "tree_3 = Pipeline(steps=[\n",
    "    ('preprocessor', better_preprocessor),\n",
    "    ('tree', DecisionTreeClassifier(class_weight=\"balanced\", max_features='auto'))\n",
    "    \n",
    "])"
   ]
  },
  {
   "cell_type": "code",
   "execution_count": 107,
   "metadata": {},
   "outputs": [
    {
     "data": {
      "text/plain": [
       "Pipeline(steps=[('preprocessor',\n",
       "                 ColumnTransformer(transformers=[('mode_transformer_2',\n",
       "                                                  Pipeline(steps=[('mode_imp_2',\n",
       "                                                                   SimpleImputer(strategy='most_frequent'))]),\n",
       "                                                  ['DOWNSYN', 'K2Q61A', 'ACE10',\n",
       "                                                   'SWALLOWING', 'ACE9',\n",
       "                                                   'BLINDNESS', 'K2Q43B']),\n",
       "                                                 ('one_transformer_2',\n",
       "                                                  Pipeline(steps=[('one_imp_2',\n",
       "                                                                   SimpleImputer(fill_value=1,\n",
       "                                                                                 strategy='constant'))]),\n",
       "                                                  ['HCABILITY'])])),\n",
       "                ('tree',\n",
       "                 DecisionTreeClassifier(class_weight='balanced',\n",
       "                                        max_features='auto'))])"
      ]
     },
     "execution_count": 107,
     "metadata": {},
     "output_type": "execute_result"
    }
   ],
   "source": [
    "tree_3.fit(x_rus, y_rus)"
   ]
  },
  {
   "cell_type": "code",
   "execution_count": 108,
   "metadata": {
    "scrolled": true
   },
   "outputs": [
    {
     "data": {
      "text/plain": [
       "0.7991587802313355"
      ]
     },
     "execution_count": 108,
     "metadata": {},
     "output_type": "execute_result"
    }
   ],
   "source": [
    "tree_2.score(x_rus, y_rus)"
   ]
  },
  {
   "cell_type": "code",
   "execution_count": null,
   "metadata": {},
   "outputs": [],
   "source": []
  }
 ],
 "metadata": {
  "kernelspec": {
   "display_name": "Python (learn-env)",
   "language": "python",
   "name": "learn-env"
  },
  "language_info": {
   "codemirror_mode": {
    "name": "ipython",
    "version": 3
   },
   "file_extension": ".py",
   "mimetype": "text/x-python",
   "name": "python",
   "nbconvert_exporter": "python",
   "pygments_lexer": "ipython3",
   "version": "3.8.5"
  }
 },
 "nbformat": 4,
 "nbformat_minor": 4
}
