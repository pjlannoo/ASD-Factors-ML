{
 "cells": [
  {
   "cell_type": "markdown",
   "metadata": {},
   "source": [
    "## Data Handling Rationale"
   ]
  },
  {
   "cell_type": "markdown",
   "metadata": {},
   "source": [
    "We looked at each column's description on the [NSCH topical variable descriptions](https://www2.census.gov/programs-surveys/nsch/technical-documentation/codebook/2020-NSCH-Topical-Variable-List.pdf) as well as the breakdown of values in the 2020 data to determine how each column should be handled. The following is our rationale for each column."
   ]
  },
  {
   "cell_type": "markdown",
   "metadata": {},
   "source": [
    "ATHOMEHC, ARRANGEHC: Impute with mode; indicates no at home health care\n",
    "\n",
    "K7Q02R_R: Impute with constant 6; indicates the child isn't enrolled in school (since most nulls come from form type T1 indicating a young child)\n",
    "\n",
    "K7Q04R_R: Impute with constant 1; indicates the child isn't enrolled in school (since most nulls come from form type T1 indicating a young child)\n",
    "\n",
    "PHYSACTIV: Impute with constant 1, indicating no exercise since most nulls come from form type T1 indicating a young child\n",
    "\n",
    "HOURSLEEP: Impute with mode, indicating the most common amount of sleep per night. Most nulls come from form type T1, which is likely not relevant, but worth noting\n",
    "\n",
    "SCREENTIME: Impute with constant 1; most nulls come from form type T1; I'm assuming 0-5 year olds typically are not on screens more than 1 hour per day\n",
    "\n",
    "K8Q11: Imputed with mode; assuming that most families eat together most days seems reasonable for the small portion of null values in this column\n",
    "\n",
    "FOODSIT: Imputed with mode, assuming most families have food security seems reasonable for the small portion of null values in this column\n",
    "\n",
    "HCABILITY: Imputed with constant 1; assuming the child has no health conditions affecting their ability\n",
    "\n",
    "K4Q20R, DOCROOM: Imputed with constant 1; this column is mostly null where the child has not seen a doctor in the past 12 months, meaning they have not had preventative checkups\n",
    "\n",
    "WGTCONC: Imputed with constant 3; if this column is blank it seems reasonable to assume the parent is not concerned about the child's weight\n",
    "\n",
    "K4Q02_R: Imputed with constant 7; column is null when child doesn't have a usual place they go when sick; 7 indicates other\n",
    "\n",
    "DENTISTVISIT: Imputed with constant 2; column is null when child hasn't seen a dentist, meaning they haven't had preventative care\n",
    "\n",
    "K4Q22_R: Imputed with constant 3; if column is null it is reasonable to assume they have not seen a mental health professional.\n",
    "\n",
    "K4Q24_R: Imputed with constant 3; if column is null it is reasonable to assume they have not seen a specialist\n",
    "\n",
    "C4Q04: Imputed with constant 1; if column is null it is reasonable to assume the median answer\n",
    "\n",
    "HOSPITALER: Imputed with constant 1; if column is null it is reasonable to assume the child hasn't been to the ER\n",
    "\n",
    "K4Q04_R: Imputed with constant 3; if column is null it is reasonable to assume the child doesn't have a personal doctor\n",
    "\n"
   ]
  },
  {
   "cell_type": "code",
   "execution_count": null,
   "metadata": {},
   "outputs": [],
   "source": []
  }
 ],
 "metadata": {
  "kernelspec": {
   "display_name": "Python (learn-env)",
   "language": "python",
   "name": "learn-env"
  },
  "language_info": {
   "codemirror_mode": {
    "name": "ipython",
    "version": 3
   },
   "file_extension": ".py",
   "mimetype": "text/x-python",
   "name": "python",
   "nbconvert_exporter": "python",
   "pygments_lexer": "ipython3",
   "version": "3.8.5"
  }
 },
 "nbformat": 4,
 "nbformat_minor": 4
}
