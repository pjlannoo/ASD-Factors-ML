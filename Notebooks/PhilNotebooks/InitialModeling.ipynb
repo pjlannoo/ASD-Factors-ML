{
 "cells": [
  {
   "cell_type": "code",
   "execution_count": 1,
   "metadata": {},
   "outputs": [],
   "source": [
    "#Initial imports \n",
    "import pandas as pd\n",
    "import numpy as np\n",
    "import matplotlib.pyplot as plt\n",
    "import seaborn as sns\n",
    "\n",
    "from sklearn.impute import SimpleImputer\n",
    "from sklearn.model_selection import train_test_split, cross_val_score, GridSearchCV, StratifiedKFold\n",
    "from sklearn.preprocessing import StandardScaler, OneHotEncoder, MinMaxScaler\n",
    "from sklearn.metrics import accuracy_score, f1_score, recall_score, roc_auc_score, plot_confusion_matrix\n",
    "from sklearn.metrics import confusion_matrix, plot_roc_curve, precision_score\n",
    "from sklearn.pipeline import Pipeline\n",
    "from sklearn.compose import ColumnTransformer\n",
    "from sklearn.decomposition import PCA\n",
    "\n",
    "from imblearn.under_sampling import RandomUnderSampler\n",
    "\n",
    "from sklearn.linear_model import LogisticRegression\n",
    "from sklearn.tree import DecisionTreeClassifier\n",
    "from sklearn.neighbors import KNeighborsClassifier\n",
    "from sklearn.ensemble import VotingClassifier, BaggingClassifier, RandomForestClassifier\n",
    "from sklearn.ensemble import ExtraTreesClassifier, StackingRegressor, AdaBoostClassifier\n",
    "from sklearn.naive_bayes import GaussianNB, MultinomialNB, ComplementNB\n",
    "\n",
    "# Set pandas to display all columns, since our data has many columns and we'd like to see them all\n",
    "pd.set_option('display.max_columns', None)"
   ]
  },
  {
   "cell_type": "code",
   "execution_count": 1,
   "metadata": {},
   "outputs": [],
   "source": [
    "def display_metrics(fit_model, Xtr, Xte, ytr, yte):\n",
    "    '''\n",
    "    This function takes in a fitted model, X train, X test, y train, and y test data.\n",
    "    It uses the fitted model to get predicted values for the train and test data,\n",
    "    and then uses sklearn's score functions to print out the accuracy, recall, precision,  f1, and roc-auc scores.\n",
    "    It then plots a confusion matrix and roc-auc curve of the test data.\n",
    "    '''\n",
    "    \n",
    "    train_preds = fit_model.predict(Xtr)\n",
    "    test_preds = fit_model.predict(Xte)\n",
    "    train_probs = fit_model.predict_proba(Xtr)[:,1]\n",
    "    test_probs = fit_model.predict_proba(Xte)[:,1]\n",
    "\n",
    "    train_accuracy = accuracy_score(ytr, train_preds)\n",
    "    test_accuracy = accuracy_score(yte, test_preds)\n",
    "    train_recall = recall_score(ytr, train_preds, zero_division=0)\n",
    "    test_recall = recall_score(yte, test_preds, zero_division=0)\n",
    "    train_precision = precision_score(ytr, train_preds, zero_division=0)\n",
    "    test_precision = precision_score(yte, test_preds, zero_division=0)\n",
    "    train_f1 = f1_score(ytr, train_preds, zero_division=0)\n",
    "    test_f1 = f1_score(yte, test_preds, zero_division=0)\n",
    "    train_rocauc = roc_auc_score(ytr, train_probs)\n",
    "    test_rocauc = roc_auc_score(yte, test_probs)\n",
    "\n",
    "    print(F'\\nTrain Accuracy:\\t\\t{train_accuracy}')\n",
    "    print(F'Test Accuracy:\\t\\t{test_accuracy}')\n",
    "    print(F\"\\nTrain Recall:\\t\\t{train_recall}\")\n",
    "    print(F'Test Recall:\\t\\t{test_recall}')\n",
    "    print(F\"\\nTrain Precision:\\t{train_precision}\")\n",
    "    print(F'Test Precision:\\t\\t{test_precision}')\n",
    "    print(F\"\\nTrain f1:\\t\\t{train_f1}\")\n",
    "    print(F'Test f1:\\t\\t{test_f1}')\n",
    "    print(F\"\\nTrain ROC-AUC:\\t\\t{train_rocauc}\")\n",
    "    print(F'Test ROC-AUC:\\t\\t{test_rocauc}')\n",
    "    \n",
    "    plot_confusion_matrix(fit_model, Xte, yte)\n",
    "    plot_roc_curve(fit_model, Xte, yte)"
   ]
  },
  {
   "cell_type": "code",
   "execution_count": 3,
   "metadata": {},
   "outputs": [],
   "source": [
    "# Read in dataframe\n",
    "df = pd.read_sas('../../data/nsch_2020_topical.sas7bdat')\n",
    "\n",
    "# Map target column to boolean and rename to target\n",
    "mask = {\n",
    "    1.0: 1.0,\n",
    "    2.0: 0.0\n",
    "}\n",
    "df['Target'] = df['K2Q35A'].map(mask)\n",
    "\n",
    "# Drop rows where target is null\n",
    "df.dropna(subset=['Target'], inplace=True)"
   ]
  },
  {
   "cell_type": "code",
   "execution_count": 4,
   "metadata": {},
   "outputs": [],
   "source": [
    "# Define which columns to drop\n",
    "drop_cols = [\n",
    "    'A1_ACTIVE', 'A1_AGE', 'A1_BORN', 'A1_DEPLSTAT', 'A1_EMPLOYED', 'A1_GRADE', 'A1_LIVEUSA', 'A1_MARITAL',\n",
    "    'A1_MENTHEALTH', 'A1_PHYSHEALTH', 'A1_RELATION', 'A1_SEX', 'A2_ACTIVE', 'A2_AGE', 'A2_BORN', 'A2_DEPLSTAT', \n",
    "    'A2_EMPLOYED', 'A2_GRADE', 'A2_LIVEUSA', 'A2_MARITAL', 'A2_MENTHEALTH', 'A2_PHYSHEALTH', 'A2_RELATION', 'A2_SEX', \n",
    "    'ALLERGIES_DESC', 'ARTHRITIS_DESC', 'ASKQUESTION', 'ASKQUESTION2', 'AUTISMMED', 'AUTISMTREAT', 'BESTFORCHILD', \n",
    "    'BLOOD_DESC', 'BMICLASS', 'BREASTFEDEND_DAY_S', 'BREASTFEDEND_MO_S', 'BREASTFEDEND_WK_S', 'CALMDOWN', 'CERPALS_DESC',\n",
    "    'CLEAREXP', 'COLOR', 'CONFIDENT', 'COUNTTO', 'DIRECTIONS', 'DIRECTIONS2', 'DISCUSSOPT', 'DISTRACTED', 'DOCPRIVATE',\n",
    "    'FAMCOUNT', 'FIPSST', 'FORMTYPE', 'FRSTFORMULA_DAY_S', 'FRSTFORMULA_MO_S','FRSTFORMULA_WK_S', 'FRSTSOLIDS_DAY_S', \n",
    "    'FRSTSOLIDS_MO_S', 'FRSTSOLIDS_WK_S', 'GENETIC_DESC', 'HCEXTENT', 'HEADACHE_DESC', 'HEART_DESC', 'HHCOUNT',\n",
    "    'HHCOUNT_IF', 'HHID', 'HOURSLEEP', 'HOURSLEEP05', 'HURTSAD', 'K12Q01_A', 'K12Q01_B', 'K12Q01_C', 'K12Q01_D', \n",
    "    'K12Q01_E', 'K12Q01_F', 'K12Q01_G', 'K2Q30C', 'K2Q31C', 'K2Q32C', 'K2Q33C', 'K2Q34C', 'K2Q35A', 'K2Q35A_1_YEARS', \n",
    "    'K2Q35B', 'K2Q35C', 'K2Q35D', 'K2Q36C', 'K2Q37C', 'K2Q38C', 'K2Q40C', 'K2Q41C', 'K2Q42C', 'K2Q60C', 'K4Q26',\n",
    "    'K4Q28X_EAR','K4Q37', 'K5Q11','K5Q21', 'K5Q22', 'K5Q32','K6Q08_R','K6Q10','K6Q12','K6Q13A','K6Q13B','K6Q14A','K6Q14B',\n",
    "    'K6Q20','K6Q27', 'K6Q40', 'K6Q41R_STILL','K6Q42R_NEVER','K6Q43R_NEVER','K6Q60_R','K6Q61_R','K6Q70_R','K6Q72_R',\n",
    "    'K6Q73_R','K9Q41', 'KEEPINSADULT','LIVEUSA_MO','LIVEUSA_YR','LIVEUSA_YR', 'K6Q42R_NEVER','MEDHISTORY','NEWACTIVITY',\n",
    "    'ONEWORD','PLANNEEDS_R','PLAYWELL','POINT','RAISECONC','RECEIVECOPY','RECOGABC','RECOGBEGIN','RECSHAPES','RHYMEWORD',\n",
    "    'SC_K2Q11','SC_K2Q12','SC_K2Q14','SC_K2Q15','SC_K2Q17','SC_K2Q18','SC_K2Q20','SC_K2Q21','SC_K2Q23','SC_RACEAIAN',\n",
    "    'SC_RACEASIA','SESPLANMO','SESPLANYR','SIMPLEINST','SITSTILL','SLEEPPOS', 'SPCSERVMO','STARTSCHOOL','STRATUM',\n",
    "    'TELLSTORY','TEMPER','THREEWORDS','TREATADULT', 'TREATNEED', 'TWOWORDS','UNDERSTAND', 'UNDERSTAND2', 'USEPENCIL', \n",
    "    'WORKTOFIN', 'WRITENAME', 'HEALTHKNOW', 'K8Q35', 'EMOSUPSPO', 'EMOSUPFAM', 'EMOSUPHCP', 'EMOSUPWOR', 'EMOSUPADV', \n",
    "    'EMOSUPPEER', 'EMOSUPMHP', 'EMOSUPOTH', 'K3Q20', 'K3Q22', 'K3Q21B', 'K7Q02R_R', 'DOCROOM', 'K4Q02_R', 'DENTISTVISIT', \n",
    "    'FWC', 'A1_GRADE_IF', 'FPL_IF', 'HIGRADE_TVIS', 'HIGRADE', 'INSTYPE', 'INSGAP', 'CURRINS', 'HOUSE_GEN', 'SC_SEX_IF', \n",
    "    'SC_HISPANIC_R_IF', 'SC_RACE_R_IF', 'TOTFEMALE', 'TOTMALE', 'AGEPOS4', 'SC_AGE_LT10', 'SC_AGE_LT9', 'SC_AGE_LT6', \n",
    "    'SC_AGE_LT4', 'TOTNONSHCN', 'TOTCSHCN', 'TOTAGE_12_17', 'TOTAGE_6_11', 'TOTAGE_0_5', 'MPC_YN', 'YEAR', 'K3Q04_R', \n",
    "    'TENURE'\n",
    "]\n",
    "\n",
    "# Define which cols to impute with no\n",
    "no_cols = [\n",
    "    'SC_SEX', 'K4Q32X01', 'K4Q32X02', 'K4Q32X03', 'K4Q32X04', 'K4Q32X05', 'DENTALSERV1', 'DENTALSERV2', 'DENTALSERV3',\n",
    "    'DENTALSERV4', 'DENTALSERV5', 'DENTALSERV6', 'DENTALSERV7', 'K4Q28X01', 'K4Q28X02', 'K4Q28X03', 'K4Q28X04', 'K4Q28X05',\n",
    "    'BREATHING', 'SWALLOWING', 'STOMACH', 'PHYSICALPAIN', 'HANDS', 'COORDINATION', 'TOOTHACHES', 'GUMBLEED', 'CAVITIES',\n",
    "    'MEMORYCOND', 'WALKSTAIRS', 'DRESSING', 'ERRANDALONE', 'K2Q43B', 'BLINDNESS', 'ALLERGIES', 'ALLERGIES_CURR',\n",
    "    'ARTHRITIS', 'ARTHRITIS_CURR', 'K2Q40A', 'K2Q40B', 'K2Q61A', 'K2Q61B', 'K2Q41A', 'K2Q41B', 'K2Q42A', 'K2Q42B', 'HEART',\n",
    "    'HEART_BORN', 'HEART_CURR', 'HEADACHE', 'HEADACHE_CURR', 'K2Q38A', 'K2Q38B', 'K2Q33A', 'K2Q33B', 'K2Q32A', 'K2Q32B',\n",
    "    'DOWNSYN', 'BLOOD', 'SICKLECELL', 'THALASSEMIA', 'BLOOD_OTHER', 'BLOOD_SCREEN', 'CYSTFIB', 'CYSTFIB_SCREEN', 'GENETIC',\n",
    "    'GENETIC_SCREEN', 'K2Q34A', 'K2Q34B', 'K2Q36A', 'K2Q36B', 'K2Q60A', 'K2Q60B', 'K2Q37A', 'K2Q37B', 'K2Q30A', 'K2Q30B',\n",
    "    'K2Q31A', 'K2Q31B', 'K2Q31D', 'ADDTREAT', 'CONCUSSION', 'SEEKCARE', 'CONFIRMINJURY', 'K2Q05', 'OVERWEIGHT', 'K4Q01',\n",
    "    'USUALGO', 'USUALSICK', 'K4Q31_R', 'K4Q23', 'ALTHEALTH', 'K4Q27', 'NOTELIG', 'AVAILABLE', 'APPOINTMENT', 'TRANSPORTCC',\n",
    "    'NOTOPEN', 'ISSUECOST', 'HOSPITALSTAY', 'SESCURRSVC', 'K4Q36', 'K4Q38', 'K5Q10', 'DECISIONS', 'K12Q03', 'K12Q04',\n",
    "    'K12Q12', 'TRICARE', 'K11Q03R', 'HCCOVOTH', 'K3Q25', 'REPEATED', 'K7Q30', 'K7Q31', 'K7Q32', 'K7Q37', 'K7Q38', 'ACE3',\n",
    "    'ACE4', 'ACE5', 'ACE6', 'ACE7', 'ACE8', 'ACE9', 'ACE10', 'ACE12', 'ACE1', 'K7Q04R_R', 'WGTCONC', 'K4Q22_R', 'K4Q24_R',\n",
    "    'K4Q04_R', 'K5Q31_R',  'BIRTHWT', 'BIRTHWT_L', 'BIRTHWT_VL', 'SC_K2Q22', 'SC_K2Q19', 'SC_K2Q16', 'SC_K2Q13',\n",
    "    'SC_K2Q10', 'SC_CSHCN', 'K4Q30_R'\n",
    "]\n",
    "\n",
    "# Define which cols to impute with yes\n",
    "yes_cols = [\n",
    "    'S4Q01', 'CURRCOV', 'BORNUSA'\n",
    "]\n",
    "\n",
    "# Define which cols to impute with mode\n",
    "mode_cols = [\n",
    "    'HHLANGUAGE', 'K9Q40', 'K11Q60', 'K11Q61', 'K11Q62', 'S9Q34', 'K10Q11', 'K10Q12', 'K10Q13', 'K10Q14', 'K10Q20',\n",
    "    'K10Q22', 'K10Q23', 'K9Q96', 'BULLIED_R', 'BULLY', 'TOTKIDS_R', 'SC_AGE_YEARS', 'BIRTH_MO', 'BIRTH_YR', 'SC_RACER', \n",
    "    'SC_RACE_R'\n",
    "]\n",
    "\n",
    "# Define which cols to impute with median\n",
    "med_cols = [\n",
    "    'MOMAGE', 'K11Q43R', 'K2Q01', 'K2Q01_D', 'K6Q71_R', 'TALKABOUT', 'WKTOSOLVE', 'STRENGTHS', 'HOPEFUL', 'K10Q30',\n",
    "    'K10Q31', 'K10Q40_R', 'GOFORHELP', 'K10Q41_R', 'HOWMUCH', 'K8Q31', 'K8Q32', 'K8Q34', 'ATHOMEHC', 'ARRANGEHC',\n",
    "    'SCREENTIME', 'K8Q11', 'HCABILITY', 'K8Q30', 'FAMILY_R', 'BIRTHWT_OZ_S', 'SC_ENGLISH', 'MAKEFRIEND',\n",
    "    'BEDTIME', 'K7Q33'\n",
    "]\n",
    "\n",
    "# Define which cols to impute with median and add null flag\n",
    "med_flag_cols = [\n",
    "    'K5Q40', 'K5Q41', 'K5Q42', 'K5Q43', 'K5Q44', 'FOODSIT', 'MENBEVCOV'\n",
    "]\n",
    "\n",
    "# Define which cols to impute with constant 5\n",
    "five_cols = [\n",
    "    'K7Q84_R', 'K7Q85_R', 'K7Q82_R', 'K7Q83_R', 'K7Q70_R', 'K8Q21'\n",
    "]\n",
    "\n",
    "# Define lists to be used later\n",
    "\n",
    "bool_two_no = [\n",
    "    'SC_SEX', 'K4Q32X01', 'K4Q32X02', 'K4Q32X03', 'K4Q32X04', 'K4Q32X05', 'DENTALSERV1', 'DENTALSERV2', 'DENTALSERV3', \n",
    "    'DENTALSERV4', 'DENTALSERV5', 'DENTALSERV6', 'DENTALSERV7', 'K4Q28X01', 'K4Q28X02', 'K4Q28X03', 'K4Q28X04',\n",
    "    'K4Q28X05', 'BREATHING', 'SWALLOWING', 'STOMACH', 'PHYSICALPAIN', 'HANDS', 'COORDINATION', 'TOOTHACHES', 'GUMBLEED', \n",
    "    'CAVITIES', 'MEMORYCOND', 'WALKSTAIRS', 'DRESSING', 'ERRANDALONE', 'K2Q43B', 'BLINDNESS', 'BLINDNESS', 'ALLERGIES', \n",
    "    'ALLERGIES_CURR', 'ARTHRITIS', 'ARTHRITIS_CURR', 'K2Q40A', 'K2Q40B', 'K2Q61A', 'K2Q61B', 'K2Q41A', 'K2Q41B', 'K2Q41A', \n",
    "    'K2Q41B', 'K2Q42A', 'K2Q42B', 'HEART', 'HEART_BORN', 'HEART_CURR', 'HEADACHE', 'HEADACHE_CURR', 'K2Q38A', 'K2Q38B', \n",
    "    'K2Q33A', 'K2Q33B', 'K2Q32A', 'K2Q32B', 'DOWNSYN', 'BLOOD', 'SICKLECELL', 'THALASSEMIA', 'BLOOD_OTHER', 'BLOOD_SCREEN',\n",
    "    'CYSTFIB', 'CYSTFIB_SCREEN', 'GENETIC', 'GENETIC_SCREEN', 'K2Q34A', 'K2Q34B', 'K2Q36A', 'K2Q36B', 'K2Q60A', 'K2Q60B',\n",
    "    'K2Q37A', 'K2Q37B', 'K2Q30A', 'K2Q30B', 'K2Q31A', 'K2Q31B', 'K2Q31D', 'ADDTREAT', 'CONCUSSION', 'SEEKCARE', \n",
    "    'CONFIRMINJURY', 'K2Q05', 'OVERWEIGHT', 'K4Q01', 'USUALGO', 'USUALSICK', 'K4Q31_R', 'K4Q23', 'ALTHEALTH', 'K4Q27',\n",
    "    'NOTELIG', 'AVAILABLE', 'APPOINTMENT', 'TRANSPORTCC', 'NOTOPEN', 'ISSUECOST', 'HOSPITALSTAY', 'SESCURRSVC', 'K4Q36',\n",
    "    'K4Q38', 'K5Q10', 'DECISIONS', 'K12Q03', 'K12Q04', 'K12Q12', 'TRICARE', 'K11Q03R', 'HCCOVOTH', 'K3Q25', 'REPEATED',\n",
    "    'K7Q30', 'K7Q31', 'K7Q32', 'K7Q37', 'K7Q38', 'ACE3', 'ACE4', 'ACE5', 'ACE6', 'ACE7', 'ACE8', 'ACE9', 'ACE10', 'ACE12',\n",
    "    'ACE1', 'K4Q22_R', 'K4Q24_R', 'K5Q31_R', 'BIRTHWT', 'BIRTHWT_VL', 'SC_K2Q22', 'SC_K2Q19', 'SC_K2Q16', 'SC_K2Q13', \n",
    "    'SC_K2Q10', 'SC_CSHCN', 'S4Q01', 'CURRCOV', 'BORNUSA'\n",
    "]\n",
    "bool_two_yes = ['K7Q04R_R', 'WGTCONC', 'K4Q04_R', 'BIRTHWT', 'K4Q30_R']\n",
    "\n",
    "use_cols = [*no_cols, *yes_cols, *mode_cols, *med_cols, *med_flag_cols, *five_cols]\n",
    "\n",
    "# Adds remaining columns with many nulls to drop cols\n",
    "for col in df.columns:\n",
    "    if col not in use_cols and col not in drop_cols:\n",
    "        if (df[col].isna().sum() / len(df)) > .5:\n",
    "            drop_cols.append(col)"
   ]
  },
  {
   "cell_type": "code",
   "execution_count": 5,
   "metadata": {},
   "outputs": [],
   "source": [
    "# Map boolean columns to boolean\n",
    "bool_mask_1 = {\n",
    "    1: 1,\n",
    "    2: 0,\n",
    "    3: 0\n",
    "}\n",
    "bool_mask_2 = {\n",
    "    1: 1,\n",
    "    2: 1,\n",
    "    3: 0\n",
    "}\n",
    "for col in bool_two_no:\n",
    "    df[col] = df[col].map(bool_mask_1)\n",
    "for col in bool_two_yes:\n",
    "    df[col] = df[col].map(bool_mask_2)\n",
    "\n",
    "# Define imputers to make up preprocessor\n",
    "no_imp = Pipeline(steps=[\n",
    "    ('no_imp', SimpleImputer(strategy='constant', fill_value=0))\n",
    "])\n",
    "yes_imp = Pipeline(steps=[\n",
    "    ('yes_imp', SimpleImputer(strategy='constant', fill_value=1))\n",
    "])\n",
    "mode_imp = Pipeline(steps=[\n",
    "    ('mode_imp', SimpleImputer(strategy='most_frequent'))\n",
    "])\n",
    "med_imp = Pipeline(steps=[\n",
    "    ('med_imp', SimpleImputer(strategy='median'))\n",
    "])\n",
    "med_flag_imp = Pipeline(steps=[\n",
    "    ('med_flag_imp', SimpleImputer(strategy='median', add_indicator=True))\n",
    "])\n",
    "five_imp = Pipeline(steps=[\n",
    "    ('five_imp', SimpleImputer(strategy='constant', fill_value=5))\n",
    "])"
   ]
  },
  {
   "cell_type": "code",
   "execution_count": 6,
   "metadata": {},
   "outputs": [],
   "source": [
    "# Create full preprocessor\n",
    "full_preprocessor = ColumnTransformer(transformers=[\n",
    "    ('no_pre', no_imp, no_cols),\n",
    "    ('yes_pre', yes_imp, yes_cols),\n",
    "    ('mode_pre', mode_imp, mode_cols),\n",
    "    ('med_cols', med_imp, med_cols),\n",
    "    ('med_flag_cols', med_flag_imp, med_flag_cols),\n",
    "    ('five_cols', five_imp, five_cols)\n",
    "])"
   ]
  },
  {
   "cell_type": "code",
   "execution_count": 7,
   "metadata": {},
   "outputs": [],
   "source": [
    "# Drop the dropcols\n",
    "df = df.drop(columns=[*drop_cols])\n",
    "\n",
    "# Split to x and y\n",
    "y = df['Target']\n",
    "X = df.drop(columns=['Target'])"
   ]
  },
  {
   "cell_type": "code",
   "execution_count": 8,
   "metadata": {},
   "outputs": [],
   "source": [
    "# Train test split\n",
    "X_train, X_test, y_train, y_test = train_test_split(X, y, stratify=y)"
   ]
  },
  {
   "cell_type": "code",
   "execution_count": 9,
   "metadata": {},
   "outputs": [],
   "source": [
    "under_sampler = RandomUnderSampler(random_state=42, replacement=True)\n",
    "X_train_u, y_train_u = under_sampler.fit_resample(X_train, y_train)"
   ]
  },
  {
   "cell_type": "markdown",
   "metadata": {},
   "source": [
    "Running an untuned logistic regression, "
   ]
  },
  {
   "cell_type": "code",
   "execution_count": 10,
   "metadata": {
    "scrolled": false
   },
   "outputs": [
    {
     "name": "stdout",
     "output_type": "stream",
     "text": [
      "\n",
      "Train Accuracy:\t\t0.7597266035751841\n",
      "Test Accuracy:\t\t0.9771895240777246\n",
      "\n",
      "Train Recall:\t\t0.526813880126183\n",
      "Test Recall:\t\t0.4479495268138801\n",
      "\n",
      "Train Precision:\t0.9862204724409449\n",
      "Test Precision:\t\t0.6761904761904762\n",
      "\n",
      "Train f1:\t\t0.6867717614804661\n",
      "Test f1:\t\t0.538899430740038\n",
      "\n",
      "Train ROC-AUC:\t\t0.9740900330716132\n",
      "Test ROC-AUC:\t\t0.9656302189645575\n"
     ]
    },
    {
     "data": {
      "image/png": "[encoded data removed]",
      "text/plain": [
       "<Figure size 432x288 with 2 Axes>"
      ]
     },
     "metadata": {
      "needs_background": "light"
     },
     "output_type": "display_data"
    }
   ],
   "source": [
    "sink_logreg = Pipeline(steps=[\n",
    "    ('preprocessor', full_preprocessor),\n",
    "    ('logreg', LogisticRegression(random_state=42, max_iter=10000))\n",
    "])\n",
    "sink_logreg.fit(X_train, y_train)\n",
    "display_metrics(sink_logreg, X_train_u, X_test, y_train_u, y_test)"
   ]
  },
  {
   "cell_type": "markdown",
   "metadata": {},
   "source": [
    "Running an untuned decision tree"
   ]
  },
  {
   "cell_type": "code",
   "execution_count": 11,
   "metadata": {},
   "outputs": [
    {
     "name": "stdout",
     "output_type": "stream",
     "text": [
      "\n",
      "Train Accuracy:\t\t1.0\n",
      "Test Accuracy:\t\t0.9633905941988172\n",
      "\n",
      "Train Recall:\t\t1.0\n",
      "Test Recall:\t\t0.3438485804416404\n",
      "\n",
      "Train Precision:\t1.0\n",
      "Test Precision:\t\t0.3745704467353952\n",
      "\n",
      "Train f1:\t\t1.0\n",
      "Test f1:\t\t0.35855263157894735\n",
      "\n",
      "Train ROC-AUC:\t\t1.0\n",
      "Test ROC-AUC:\t\t0.6631201106542568\n"
     ]
    },
    {
     "data": {
      "image/png": "[encoded data removed]",
      "text/plain": [
       "<Figure size 432x288 with 2 Axes>"
      ]
     },
     "metadata": {
      "needs_background": "light"
     },
     "output_type": "display_data"
    }
   ],
   "source": [
    "sink_tree = Pipeline(steps=[\n",
    "    ('preprocessor', full_preprocessor),\n",
    "    ('tree', DecisionTreeClassifier(\n",
    "        class_weight='balanced'\n",
    "    ))\n",
    "])\n",
    "\n",
    "sink_tree.fit(X_train, y_train)\n",
    "display_metrics(sink_tree, X_train, X_test, y_train, y_test)"
   ]
  },
  {
   "cell_type": "code",
   "execution_count": 12,
   "metadata": {},
   "outputs": [
    {
     "data": {
      "text/plain": [
       "48"
      ]
     },
     "execution_count": 12,
     "metadata": {},
     "output_type": "execute_result"
    }
   ],
   "source": [
    "sink_tree.named_steps['tree'].tree_.max_depth"
   ]
  },
  {
   "cell_type": "markdown",
   "metadata": {},
   "source": [
    "Tuning the tree"
   ]
  },
  {
   "cell_type": "code",
   "execution_count": 50,
   "metadata": {},
   "outputs": [
    {
     "name": "stdout",
     "output_type": "stream",
     "text": [
      "Fitting 5 folds for each of 300 candidates, totalling 1500 fits\n"
     ]
    },
    {
     "name": "stderr",
     "output_type": "stream",
     "text": [
      "[Parallel(n_jobs=-1)]: Using backend LokyBackend with 8 concurrent workers.\n",
      "[Parallel(n_jobs=-1)]: Done  25 tasks      | elapsed:   18.7s\n",
      "[Parallel(n_jobs=-1)]: Done 146 tasks      | elapsed:  1.2min\n",
      "[Parallel(n_jobs=-1)]: Done 349 tasks      | elapsed:  2.3min\n",
      "[Parallel(n_jobs=-1)]: Done 632 tasks      | elapsed:  4.5min\n",
      "[Parallel(n_jobs=-1)]: Done 997 tasks      | elapsed:  7.0min\n",
      "[Parallel(n_jobs=-1)]: Done 1442 tasks      | elapsed: 10.1min\n",
      "[Parallel(n_jobs=-1)]: Done 1500 out of 1500 | elapsed: 10.6min finished\n"
     ]
    },
    {
     "data": {
      "text/plain": [
       "GridSearchCV(cv=StratifiedKFold(n_splits=5, random_state=None, shuffle=False),\n",
       "             estimator=Pipeline(steps=[('preproc',\n",
       "                                        ColumnTransformer(transformers=[('no_pre',\n",
       "                                                                         Pipeline(steps=[('no_imp',\n",
       "                                                                                          SimpleImputer(fill_value=0,\n",
       "                                                                                                        strategy='constant'))]),\n",
       "                                                                         ['SC_SEX',\n",
       "                                                                          'K4Q32X01',\n",
       "                                                                          'K4Q32X02',\n",
       "                                                                          'K4Q32X03',\n",
       "                                                                          'K4Q32X04',\n",
       "                                                                          'K4Q32X05',\n",
       "                                                                          'DENTALSERV1',\n",
       "                                                                          'DENTALSERV2',\n",
       "                                                                          'DENTALSERV3',\n",
       "                                                                          'DENTALSERV...\n",
       "                                                                          'K7Q85_R',\n",
       "                                                                          'K7Q82_R',\n",
       "                                                                          'K7Q83_R',\n",
       "                                                                          'K7Q70_R',\n",
       "                                                                          'K8Q21'])])),\n",
       "                                       ('tree',\n",
       "                                        DecisionTreeClassifier(class_weight='balanced',\n",
       "                                                               random_state=42))]),\n",
       "             n_jobs=-1,\n",
       "             param_grid={'tree__criterion': ['gini', 'entropy'],\n",
       "                         'tree__max_depth': [None, 1, 5, 10, 25, 50],\n",
       "                         'tree__min_samples_leaf': [1, 2, 5, 10, 20],\n",
       "                         'tree__min_samples_split': [1, 2, 5, 10, 20]},\n",
       "             return_train_score=True, scoring='recall', verbose=2)"
      ]
     },
     "execution_count": 50,
     "metadata": {},
     "output_type": "execute_result"
    }
   ],
   "source": [
    "tuned_tree = Pipeline(steps=[\n",
    "    ('preproc', full_preprocessor),\n",
    "    ('tree', DecisionTreeClassifier(class_weight='balanced', random_state=42))\n",
    "])\n",
    "\n",
    "param_grid = {\n",
    "    'tree__criterion': ['gini', 'entropy'],\n",
    "    'tree__max_depth': [None, 1, 5, 10, 25, 50],\n",
    "    'tree__min_samples_leaf': [1, 2, 5, 10, 20],\n",
    "    'tree__min_samples_split': [1, 2, 5, 10, 20]\n",
    "}\n",
    "\n",
    "grid_search = GridSearchCV(estimator=tuned_tree, param_grid=param_grid,\n",
    "                           n_jobs=-1, \n",
    "                           verbose=2, \n",
    "                           return_train_score=True,\n",
    "                           scoring='recall',\n",
    "                           cv=StratifiedKFold(n_splits=5)\n",
    ")\n",
    "\n",
    "grid_search.fit(X_train, y_train)"
   ]
  },
  {
   "cell_type": "code",
   "execution_count": 51,
   "metadata": {},
   "outputs": [
    {
     "data": {
      "text/plain": [
       "{'tree__criterion': 'entropy',\n",
       " 'tree__max_depth': 5,\n",
       " 'tree__min_samples_leaf': 20,\n",
       " 'tree__min_samples_split': 2}"
      ]
     },
     "execution_count": 51,
     "metadata": {},
     "output_type": "execute_result"
    }
   ],
   "source": [
    "new_tree = grid_search.best_estimator_\n",
    "grid_search.best_params_"
   ]
  },
  {
   "cell_type": "code",
   "execution_count": 52,
   "metadata": {
    "scrolled": false
   },
   "outputs": [
    {
     "name": "stdout",
     "output_type": "stream",
     "text": [
      "\n",
      "Train Accuracy:\t\t0.8953626634958383\n",
      "Test Accuracy:\t\t0.8912982258518727\n",
      "\n",
      "Train Recall:\t\t0.9400630914826499\n",
      "Test Recall:\t\t0.8927444794952681\n",
      "\n",
      "Train Precision:\t0.21382444391293948\n",
      "Test Precision:\t\t0.20113717128642503\n",
      "\n",
      "Train f1:\t\t0.34840218238503506\n",
      "Test f1:\t\t0.3283062645011601\n",
      "\n",
      "Train ROC-AUC:\t\t0.9676350684627131\n",
      "Test ROC-AUC:\t\t0.9422832878377982\n"
     ]
    },
    {
     "data": {
      "image/png": "[encoded data removed]",
      "text/plain": [
       "<Figure size 432x288 with 2 Axes>"
      ]
     },
     "metadata": {
      "needs_background": "light"
     },
     "output_type": "display_data"
    }
   ],
   "source": [
    "display_metrics(new_tree, X_train, X_test, y_train, y_test)"
   ]
  },
  {
   "cell_type": "markdown",
   "metadata": {},
   "source": [
    "Gridsearch returned best metrics as default; tuning tree proving difficult, but can extract feature importance"
   ]
  },
  {
   "cell_type": "code",
   "execution_count": 16,
   "metadata": {},
   "outputs": [],
   "source": [
    "feature_importance = dict(zip(use_cols, list(new_tree.named_steps['tree'].feature_importances_)))"
   ]
  },
  {
   "cell_type": "code",
   "execution_count": 17,
   "metadata": {
    "scrolled": true
   },
   "outputs": [
    {
     "data": {
      "text/plain": [
       "{'SC_SEX': 0.007267292933884545,\n",
       " 'K4Q32X01': 6.258213905746909e-05,\n",
       " 'K4Q32X02': 0.0016563257418085754,\n",
       " 'K4Q32X03': 6.159927326492427e-05,\n",
       " 'K4Q32X04': 0.0004987024172289391,\n",
       " 'K4Q32X05': 0.0004756816599852909,\n",
       " 'DENTALSERV1': 6.237943168567754e-05,\n",
       " 'DENTALSERV2': 7.017889922478559e-19,\n",
       " 'DENTALSERV3': 1.0655734902702134e-17,\n",
       " 'DENTALSERV4': 0.000521473123758979,\n",
       " 'DENTALSERV5': 0.0005020221961877796,\n",
       " 'DENTALSERV6': 0.0021139631776892842,\n",
       " 'DENTALSERV7': 0.0,\n",
       " 'K4Q28X01': 0.0,\n",
       " 'K4Q28X02': 4.4398895427925574e-18,\n",
       " 'K4Q28X03': 6.398413615484845e-05,\n",
       " 'K4Q28X04': 0.0,\n",
       " 'K4Q28X05': 0.0020456024598524887,\n",
       " 'BREATHING': 0.00012224657294318281,\n",
       " 'SWALLOWING': 0.00018008335657158497,\n",
       " 'STOMACH': 0.00018941405892364493,\n",
       " 'PHYSICALPAIN': 0.0001263407813161856,\n",
       " 'HANDS': 0.00018612089446433527,\n",
       " 'COORDINATION': 0.00018570470045012138,\n",
       " 'TOOTHACHES': 0.0,\n",
       " 'GUMBLEED': 6.31185882404946e-05,\n",
       " 'CAVITIES': 1.6730826832403332e-06,\n",
       " 'MEMORYCOND': 0.00012154729709184816,\n",
       " 'WALKSTAIRS': 6.106009965966937e-05,\n",
       " 'DRESSING': 0.00019163308554816854,\n",
       " 'ERRANDALONE': 0.0032133871437252403,\n",
       " 'K2Q43B': 0.000499399846190003,\n",
       " 'BLINDNESS': 0.0006650692777366131,\n",
       " 'ALLERGIES': 6.25821390574438e-05,\n",
       " 'ALLERGIES_CURR': 0.0006926938635810104,\n",
       " 'ARTHRITIS': 0.00012049733603076156,\n",
       " 'ARTHRITIS_CURR': 6.31388863760958e-05,\n",
       " 'K2Q40A': 0.00037318651885297167,\n",
       " 'K2Q40B': 0.0006638482486272727,\n",
       " 'K2Q61A': 0.0005455841690950685,\n",
       " 'K2Q61B': 0.0005530720559897736,\n",
       " 'K2Q41A': 0.00018404194074631139,\n",
       " 'K2Q41B': 0.0006540246252116737,\n",
       " 'K2Q42A': 0.001232288347574567,\n",
       " 'K2Q42B': 0.00035788978300520333,\n",
       " 'HEART': 0.0007616555909877846,\n",
       " 'HEART_BORN': 0.0003665014505362716,\n",
       " 'HEART_CURR': 0.00042363902214351214,\n",
       " 'HEADACHE': 0.0010753032470362626,\n",
       " 'HEADACHE_CURR': 0.001951187297066231,\n",
       " 'K2Q38A': 0.00012124970656545404,\n",
       " 'K2Q38B': 0.00012499636109349914,\n",
       " 'K2Q33A': 0.0018481660922163299,\n",
       " 'K2Q33B': 0.0,\n",
       " 'K2Q32A': 0.0004141503752403402,\n",
       " 'K2Q32B': 0.0013988985007441495,\n",
       " 'DOWNSYN': 0.0005054451461584449,\n",
       " 'BLOOD': 0.0,\n",
       " 'SICKLECELL': 0.0,\n",
       " 'THALASSEMIA': 0.0,\n",
       " 'BLOOD_OTHER': 0.000120006958788602,\n",
       " 'BLOOD_SCREEN': 0.0,\n",
       " 'CYSTFIB': 6.060711091430337e-05,\n",
       " 'CYSTFIB_SCREEN': 0.0,\n",
       " 'GENETIC': 0.0018692781763391822,\n",
       " 'GENETIC_SCREEN': 6.941053094917549e-06,\n",
       " 'K2Q34A': 0.0013762493853044621,\n",
       " 'K2Q34B': 0.002536743973326797,\n",
       " 'K2Q36A': 0.020749103656962465,\n",
       " 'K2Q36B': 0.010267982809933929,\n",
       " 'K2Q60A': 0.0,\n",
       " 'K2Q60B': 1.2782585215943085e-18,\n",
       " 'K2Q37A': 0.0003044911201948843,\n",
       " 'K2Q37B': 0.0,\n",
       " 'K2Q30A': 0.0055509168653721025,\n",
       " 'K2Q30B': 0.0021257936329837153,\n",
       " 'K2Q31A': 3.308433820597035e-18,\n",
       " 'K2Q31B': 0.0018388310373406696,\n",
       " 'K2Q31D': 0.0015420288417357778,\n",
       " 'ADDTREAT': 0.0018627960667642201,\n",
       " 'CONCUSSION': 0.0001253004522700407,\n",
       " 'SEEKCARE': 0.0007315275429844776,\n",
       " 'CONFIRMINJURY': 0.0011081153575230387,\n",
       " 'K2Q05': 0.0016033956030677688,\n",
       " 'OVERWEIGHT': 0.00029606504503758486,\n",
       " 'K4Q01': 0.0021882212811948905,\n",
       " 'USUALGO': 0.00012535847485302883,\n",
       " 'USUALSICK': 0.00031061378772153476,\n",
       " 'K4Q31_R': 0.0010532364943724804,\n",
       " 'K4Q23': 0.0012151408986046167,\n",
       " 'ALTHEALTH': 0.0,\n",
       " 'K4Q27': 0.00047009163424633813,\n",
       " 'NOTELIG': 6.39122952478684e-05,\n",
       " 'AVAILABLE': 0.00018230380337485585,\n",
       " 'APPOINTMENT': 6.352382528703504e-05,\n",
       " 'TRANSPORTCC': 0.00012571053184996269,\n",
       " 'NOTOPEN': 6.129888797627549e-05,\n",
       " 'ISSUECOST': 0.0001895361109309504,\n",
       " 'HOSPITALSTAY': 0.0004525970101704012,\n",
       " 'SESCURRSVC': 0.0037092869451647707,\n",
       " 'K4Q36': 0.5328087589491206,\n",
       " 'K4Q38': 9.66034031165671e-18,\n",
       " 'K5Q10': 0.0018347917777190846,\n",
       " 'DECISIONS': 0.0026226067524193273,\n",
       " 'K12Q03': 0.0011493296613445318,\n",
       " 'K12Q04': 0.001471976436329101,\n",
       " 'K12Q12': 0.0009022090455233662,\n",
       " 'TRICARE': 0.0024741286923973273,\n",
       " 'K11Q03R': 0.0005380955604707857,\n",
       " 'HCCOVOTH': 0.0002997248278765262,\n",
       " 'K3Q25': 6.404753512208592e-05,\n",
       " 'REPEATED': 0.00036509448896778195,\n",
       " 'K7Q30': 0.0019841062042840617,\n",
       " 'K7Q31': 0.00044658274229461597,\n",
       " 'K7Q32': 1.445521245395274e-05,\n",
       " 'K7Q37': 0.0015525396654857341,\n",
       " 'K7Q38': 0.0007888342564028705,\n",
       " 'ACE3': 4.442037876442294e-17,\n",
       " 'ACE4': 0.00031281163435037607,\n",
       " 'ACE5': 0.0006755119598270274,\n",
       " 'ACE6': 0.0001273475217659021,\n",
       " 'ACE7': 0.0029012591374168836,\n",
       " 'ACE8': 0.0006317546986748937,\n",
       " 'ACE9': 0.00018774641717233598,\n",
       " 'ACE10': 0.0007210756314714508,\n",
       " 'ACE12': 0.00024315280377053904,\n",
       " 'ACE1': 0.0005395110345562521,\n",
       " 'K7Q04R_R': 0.0005813082468565638,\n",
       " 'WGTCONC': 0.0003178406734891753,\n",
       " 'K4Q22_R': 6.352382528691964e-05,\n",
       " 'K4Q24_R': 0.001271061334137172,\n",
       " 'K4Q04_R': 0.0002796264191037996,\n",
       " 'K5Q31_R': 0.002373951544964998,\n",
       " 'BIRTHWT': 0.0012854200968334182,\n",
       " 'BIRTHWT_L': 0.0008623450883569975,\n",
       " 'BIRTHWT_VL': 9.557242565640542e-07,\n",
       " 'SC_K2Q22': 0.002766706713635542,\n",
       " 'SC_K2Q19': 0.003070596161044754,\n",
       " 'SC_K2Q16': 0.0003368559085756178,\n",
       " 'SC_K2Q13': 0.02475995154373794,\n",
       " 'SC_K2Q10': 0.0003670905772340871,\n",
       " 'SC_CSHCN': 0.04949227529015936,\n",
       " 'K4Q30_R': 0.0010586795840089615,\n",
       " 'S4Q01': 0.0016036247491724588,\n",
       " 'CURRCOV': 0.00018457646750511488,\n",
       " 'BORNUSA': 0.00025651890416872797,\n",
       " 'HHLANGUAGE': 0.0016360486046472333,\n",
       " 'K9Q40': 0.0003501662731851979,\n",
       " 'K11Q60': 0.0008756426884962512,\n",
       " 'K11Q61': 0.0001902655383342954,\n",
       " 'K11Q62': 0.003132820137226671,\n",
       " 'S9Q34': 0.00317434437633719,\n",
       " 'K10Q11': 0.0024781542188843293,\n",
       " 'K10Q12': 0.001157194311027015,\n",
       " 'K10Q13': 0.0012861056813188317,\n",
       " 'K10Q14': 0.00018507465355967223,\n",
       " 'K10Q20': 0.0003738777957299723,\n",
       " 'K10Q22': 0.0004367740873634237,\n",
       " 'K10Q23': 0.0007163540935107872,\n",
       " 'K9Q96': 0.002078130496378905,\n",
       " 'BULLIED_R': 0.0008113279290638962,\n",
       " 'BULLY': 0.005765033903527503,\n",
       " 'TOTKIDS_R': 0.0021661399305908245,\n",
       " 'SC_AGE_YEARS': 0.01441780606788292,\n",
       " 'BIRTH_MO': 0.009442894588490864,\n",
       " 'BIRTH_YR': 0.004340198148087945,\n",
       " 'SC_RACER': 6.384880602726445e-05,\n",
       " 'SC_RACE_R': 0.0047828736871242256,\n",
       " 'MOMAGE': 0.013416843106179807,\n",
       " 'K11Q43R': 0.006856968229147242,\n",
       " 'K2Q01': 0.0005611140832525728,\n",
       " 'K2Q01_D': 0.003396501143430547,\n",
       " 'K6Q71_R': 0.0016602124299008945,\n",
       " 'TALKABOUT': 0.0013862069932539134,\n",
       " 'WKTOSOLVE': 0.001033251874568284,\n",
       " 'STRENGTHS': 0.0033350447809825778,\n",
       " 'HOPEFUL': 0.003835734030406624,\n",
       " 'K10Q30': 0.0015531754989968223,\n",
       " 'K10Q31': 0.0008960021779254054,\n",
       " 'K10Q40_R': 0.0007623989891559454,\n",
       " 'GOFORHELP': 0.00027165169926852983,\n",
       " 'K10Q41_R': 0.00036306445793854496,\n",
       " 'HOWMUCH': 0.0021993328899526303,\n",
       " 'K8Q31': 0.002800642709631936,\n",
       " 'K8Q32': 0.001251854975959818,\n",
       " 'K8Q34': 0.0030479161924970425,\n",
       " 'ATHOMEHC': 0.004910094861878056,\n",
       " 'ARRANGEHC': 0.0016341417526154322,\n",
       " 'SCREENTIME': 0.0050482098475123065,\n",
       " 'K8Q11': 0.002642996229005989,\n",
       " 'HCABILITY': 0.00287201408056165,\n",
       " 'K8Q30': 0.0020873371981903516,\n",
       " 'FAMILY_R': 0.0018605687110873612,\n",
       " 'BIRTHWT_OZ_S': 0.010523198247382693,\n",
       " 'SC_ENGLISH': 0.0007748493856498578,\n",
       " 'MAKEFRIEND': 0.07527830428221434,\n",
       " 'BEDTIME': 0.005121456005063243,\n",
       " 'K7Q33': 0.005841939164536272,\n",
       " 'K5Q40': 0.002452462836214295,\n",
       " 'K5Q41': 0.00017882372227651425,\n",
       " 'K5Q42': 0.0014164638650991396,\n",
       " 'K5Q43': 0.00032711680409661076,\n",
       " 'K5Q44': 0.0020080885974411325,\n",
       " 'FOODSIT': 0.0004146930256769303,\n",
       " 'MENBEVCOV': 0.005909559122212807,\n",
       " 'K7Q84_R': 6.384880602726673e-05,\n",
       " 'K7Q85_R': 6.1907814673292994e-18,\n",
       " 'K7Q82_R': 3.8183050068015974e-17,\n",
       " 'K7Q83_R': 0.0,\n",
       " 'K7Q70_R': 9.456158253894776e-18,\n",
       " 'K8Q21': 0.002188902851400571}"
      ]
     },
     "execution_count": 17,
     "metadata": {},
     "output_type": "execute_result"
    }
   ],
   "source": [
    "feature_importance"
   ]
  },
  {
   "cell_type": "code",
   "execution_count": 18,
   "metadata": {},
   "outputs": [
    {
     "name": "stdout",
     "output_type": "stream",
     "text": [
      "SC_SEX, 0.007267292933884545\n",
      "K2Q36A, 0.020749103656962465\n",
      "K2Q36B, 0.010267982809933929\n",
      "K2Q30A, 0.0055509168653721025\n",
      "K4Q36, 0.5328087589491206\n",
      "SC_K2Q13, 0.02475995154373794\n",
      "SC_CSHCN, 0.04949227529015936\n",
      "BULLY, 0.005765033903527503\n",
      "SC_AGE_YEARS, 0.01441780606788292\n",
      "BIRTH_MO, 0.009442894588490864\n",
      "MOMAGE, 0.013416843106179807\n",
      "K11Q43R, 0.006856968229147242\n",
      "SCREENTIME, 0.0050482098475123065\n",
      "BIRTHWT_OZ_S, 0.010523198247382693\n",
      "MAKEFRIEND, 0.07527830428221434\n",
      "BEDTIME, 0.005121456005063243\n",
      "K7Q33, 0.005841939164536272\n",
      "MENBEVCOV, 0.005909559122212807\n"
     ]
    }
   ],
   "source": [
    "new_cols = []\n",
    "for key, value in feature_importance.items():\n",
    "    if value > .005:\n",
    "#         print(f'{key}, {value}')\n",
    "        new_cols.append(key)"
   ]
  },
  {
   "cell_type": "code",
   "execution_count": 26,
   "metadata": {},
   "outputs": [],
   "source": [
    "light_preproc = ColumnTransformer(transformers=[\n",
    "    ('no_imp', no_imp, ['SC_SEX', 'K2Q36A', 'K2Q36B', 'K2Q30A', 'K4Q36', 'SC_K2Q13', 'SC_CSHCN']),\n",
    "    ('mode_imp', mode_imp, ['SC_AGE_YEARS', 'BIRTH_MO']),\n",
    "    ('med_imp', med_imp, ['MOMAGE', 'K11Q43R', 'SCREENTIME', 'BIRTHWT_OZ_S', 'MAKEFRIEND', 'BEDTIME', 'K7Q33']),\n",
    "    ('med_flag_imp', med_flag_imp, ['MENBEVCOV'])\n",
    "])"
   ]
  },
  {
   "cell_type": "code",
   "execution_count": 25,
   "metadata": {},
   "outputs": [
    {
     "name": "stdout",
     "output_type": "stream",
     "text": [
      "\n",
      "SC_SEX no_cols\n",
      "\n",
      "K2Q36A no_cols\n",
      "\n",
      "K2Q36B no_cols\n",
      "\n",
      "K2Q30A no_cols\n",
      "\n",
      "K4Q36 no_cols\n",
      "\n",
      "SC_K2Q13 no_cols\n",
      "\n",
      "SC_CSHCN no_cols\n",
      "\n",
      "BULLY mode_cols\n",
      "\n",
      "SC_AGE_YEARS mode_cols\n",
      "\n",
      "BIRTH_MO mode_cols\n",
      "\n",
      "MOMAGE med_cols\n",
      "\n",
      "K11Q43R med_cols\n",
      "\n",
      "SCREENTIME med_cols\n",
      "\n",
      "BIRTHWT_OZ_S med_cols\n",
      "\n",
      "MAKEFRIEND med_cols\n",
      "\n",
      "BEDTIME med_cols\n",
      "\n",
      "K7Q33 med_cols\n",
      "\n",
      "MENBEVCOV med_flag_cols\n"
     ]
    }
   ],
   "source": [
    "for col in new_cols:\n",
    "    if col in no_cols:\n",
    "        print(f'\\n{col} no_cols')\n",
    "    if col in yes_cols:\n",
    "        print(f'\\n{col} yes_cols')\n",
    "    if col in mode_cols:\n",
    "        print(f'\\n{col} mode_cols')\n",
    "    if col in med_cols:\n",
    "        print(f'\\n{col} med_cols')\n",
    "    if col in med_flag_cols:\n",
    "        print(f'\\n{col} med_flag_cols')\n",
    "    if col in five_cols:\n",
    "        print(f'\\n{col} five_cols')"
   ]
  },
  {
   "cell_type": "code",
   "execution_count": 30,
   "metadata": {},
   "outputs": [
    {
     "name": "stdout",
     "output_type": "stream",
     "text": [
      "Fitting 5 folds for each of 224 candidates, totalling 1120 fits\n"
     ]
    },
    {
     "name": "stderr",
     "output_type": "stream",
     "text": [
      "[Parallel(n_jobs=-1)]: Using backend LokyBackend with 8 concurrent workers.\n",
      "[Parallel(n_jobs=-1)]: Done  25 tasks      | elapsed:   13.2s\n",
      "[Parallel(n_jobs=-1)]: Done 146 tasks      | elapsed:   48.5s\n",
      "[Parallel(n_jobs=-1)]: Done 349 tasks      | elapsed:  1.9min\n",
      "[Parallel(n_jobs=-1)]: Done 632 tasks      | elapsed:  3.5min\n",
      "[Parallel(n_jobs=-1)]: Done 997 tasks      | elapsed:  5.7min\n",
      "[Parallel(n_jobs=-1)]: Done 1120 out of 1120 | elapsed:  6.6min finished\n"
     ]
    },
    {
     "data": {
      "text/plain": [
       "GridSearchCV(cv=StratifiedKFold(n_splits=5, random_state=None, shuffle=False),\n",
       "             estimator=Pipeline(steps=[('preproc',\n",
       "                                        ColumnTransformer(transformers=[('no_pre',\n",
       "                                                                         Pipeline(steps=[('no_imp',\n",
       "                                                                                          SimpleImputer(fill_value=0,\n",
       "                                                                                                        strategy='constant'))]),\n",
       "                                                                         ['SC_SEX',\n",
       "                                                                          'K4Q32X01',\n",
       "                                                                          'K4Q32X02',\n",
       "                                                                          'K4Q32X03',\n",
       "                                                                          'K4Q32X04',\n",
       "                                                                          'K4Q32X05',\n",
       "                                                                          'DENTALSERV1',\n",
       "                                                                          'DENTALSERV2',\n",
       "                                                                          'DENTALSERV3',\n",
       "                                                                          'DENTALSERV...\n",
       "                                                                                                        strategy='constant'))]),\n",
       "                                                                         ['K7Q84_R',\n",
       "                                                                          'K7Q85_R',\n",
       "                                                                          'K7Q82_R',\n",
       "                                                                          'K7Q83_R',\n",
       "                                                                          'K7Q70_R',\n",
       "                                                                          'K8Q21'])])),\n",
       "                                       ('tree',\n",
       "                                        DecisionTreeClassifier(class_weight='balanced',\n",
       "                                                               random_state=42))]),\n",
       "             n_jobs=-1,\n",
       "             param_grid={'tree__criterion': ['gini', 'entropy'],\n",
       "                         'tree__max_depth': [None, 1, 5, 10, 25, 50, 100],\n",
       "                         'tree__min_samples_leaf': [1, 2, 5, 10],\n",
       "                         'tree__min_samples_split': [1, 2, 5, 10]},\n",
       "             return_train_score=True, verbose=2)"
      ]
     },
     "execution_count": 30,
     "metadata": {},
     "output_type": "execute_result"
    }
   ],
   "source": [
    "fewer_tree = Pipeline(steps=[\n",
    "    ('preproc', light_preproc),\n",
    "    ('tree', DecisionTreeClassifier(class_weight='balanced'))\n",
    "])\n",
    "\n",
    "param_grid = {\n",
    "    'tree__criterion': ['gini', 'entropy'],\n",
    "    'tree__max_depth': [None, 1, 5, 10, 25, 50, 100],\n",
    "    'tree__min_samples_leaf': [1, 2, 5, 10],\n",
    "    'tree__min_samples_split': [1, 2, 5, 10]\n",
    "}\n",
    "\n",
    "grid_search = GridSearchCV(estimator=tuned_tree, param_grid=param_grid,\n",
    "                           n_jobs=-1, \n",
    "                           verbose=2, \n",
    "                           return_train_score=True,\n",
    "                           cv=StratifiedKFold(n_splits=5)\n",
    ")\n",
    "\n",
    "grid_search.fit(X_train, y_train)"
   ]
  },
  {
   "cell_type": "code",
   "execution_count": 31,
   "metadata": {},
   "outputs": [
    {
     "name": "stdout",
     "output_type": "stream",
     "text": [
      "\n",
      "Train Accuracy:\t\t1.0\n",
      "Test Accuracy:\t\t0.9647047779968084\n",
      "\n",
      "Train Recall:\t\t1.0\n",
      "Test Recall:\t\t0.38485804416403785\n",
      "\n",
      "Train Precision:\t1.0\n",
      "Test Precision:\t\t0.40264026402640263\n",
      "\n",
      "Train f1:\t\t1.0\n",
      "Test f1:\t\t0.39354838709677414\n",
      "\n",
      "Train ROC-AUC:\t\t1.0\n",
      "Test ROC-AUC:\t\t0.6836732171284585\n"
     ]
    },
    {
     "data": {
      "image/png": "[encoded data removed]",
      "text/plain": [
       "<Figure size 432x288 with 2 Axes>"
      ]
     },
     "metadata": {
      "needs_background": "light"
     },
     "output_type": "display_data"
    }
   ],
   "source": [
    "display_metrics(grid_search.best_estimator_, X_train, X_test, y_train, y_test)"
   ]
  },
  {
   "cell_type": "code",
   "execution_count": 32,
   "metadata": {},
   "outputs": [
    {
     "data": {
      "text/plain": [
       "{'tree__criterion': 'gini',\n",
       " 'tree__max_depth': None,\n",
       " 'tree__min_samples_leaf': 1,\n",
       " 'tree__min_samples_split': 2}"
      ]
     },
     "execution_count": 32,
     "metadata": {},
     "output_type": "execute_result"
    }
   ],
   "source": [
    "grid_search.best_params_"
   ]
  },
  {
   "cell_type": "code",
   "execution_count": null,
   "metadata": {},
   "outputs": [],
   "source": []
  },
  {
   "cell_type": "code",
   "execution_count": 44,
   "metadata": {},
   "outputs": [
    {
     "data": {
      "text/plain": [
       "Pipeline(steps=[('preprocessor',\n",
       "                 ColumnTransformer(transformers=[('no_pre',\n",
       "                                                  Pipeline(steps=[('no_imp',\n",
       "                                                                   SimpleImputer(fill_value=0,\n",
       "                                                                                 strategy='constant'))]),\n",
       "                                                  ['SC_SEX', 'K4Q32X01',\n",
       "                                                   'K4Q32X02', 'K4Q32X03',\n",
       "                                                   'K4Q32X04', 'K4Q32X05',\n",
       "                                                   'DENTALSERV1', 'DENTALSERV2',\n",
       "                                                   'DENTALSERV3', 'DENTALSERV4',\n",
       "                                                   'DENTALSERV5', 'DENTALSERV6',\n",
       "                                                   'DENTALSERV7', 'K4Q28X01',\n",
       "                                                   'K4Q28X02', 'K4Q28X03',\n",
       "                                                   'K4...\n",
       "                                                   'BEDTIME', 'K7Q33']),\n",
       "                                                 ('med_flag_cols',\n",
       "                                                  Pipeline(steps=[('med_flag_imp',\n",
       "                                                                   SimpleImputer(add_indicator=True,\n",
       "                                                                                 strategy='median'))]),\n",
       "                                                  ['K5Q40', 'K5Q41', 'K5Q42',\n",
       "                                                   'K5Q43', 'K5Q44', 'FOODSIT',\n",
       "                                                   'MENBEVCOV']),\n",
       "                                                 ('five_cols',\n",
       "                                                  Pipeline(steps=[('five_imp',\n",
       "                                                                   SimpleImputer(fill_value=5,\n",
       "                                                                                 strategy='constant'))]),\n",
       "                                                  ['K7Q84_R', 'K7Q85_R',\n",
       "                                                   'K7Q82_R', 'K7Q83_R',\n",
       "                                                   'K7Q70_R', 'K8Q21'])])),\n",
       "                ('nb', MultinomialNB())])"
      ]
     },
     "execution_count": 44,
     "metadata": {},
     "output_type": "execute_result"
    }
   ],
   "source": [
    "nb = Pipeline(steps=[\n",
    "    ('preprocessor', full_preprocessor),\n",
    "    ('nb', MultinomialNB())\n",
    "])\n",
    "\n",
    "nb.fit(X_train, y_train)"
   ]
  },
  {
   "cell_type": "code",
   "execution_count": 45,
   "metadata": {},
   "outputs": [
    {
     "name": "stdout",
     "output_type": "stream",
     "text": [
      "\n",
      "Train Accuracy:\t\t0.9044996557982352\n",
      "Test Accuracy:\t\t0.9019055665070872\n",
      "\n",
      "Train Recall:\t\t0.8422712933753943\n",
      "Test Recall:\t\t0.8138801261829653\n",
      "\n",
      "Train Precision:\t0.21631109910883067\n",
      "Test Precision:\t\t0.20739549839228297\n",
      "\n",
      "Train f1:\t\t0.3442200257842715\n",
      "Test f1:\t\t0.33055733504164\n",
      "\n",
      "Train ROC-AUC:\t\t0.9472444860573358\n",
      "Test ROC-AUC:\t\t0.9412268290181754\n"
     ]
    },
    {
     "data": {
      "image/png": "[encoded data removed]",
      "text/plain": [
       "<Figure size 432x288 with 2 Axes>"
      ]
     },
     "metadata": {
      "needs_background": "light"
     },
     "output_type": "display_data"
    }
   ],
   "source": [
    "display_metrics(nb, X_train, X_test, y_train, y_test)"
   ]
  },
  {
   "cell_type": "code",
   "execution_count": null,
   "metadata": {},
   "outputs": [],
   "source": []
  },
  {
   "cell_type": "code",
   "execution_count": 46,
   "metadata": {},
   "outputs": [],
   "source": [
    "nb_coef = dict(zip(use_cols, list(nb.named_steps['nb'].coef_[0])))"
   ]
  },
  {
   "cell_type": "code",
   "execution_count": null,
   "metadata": {},
   "outputs": [],
   "source": [
    "for key, val in nb_coef.items():\n",
    "    if"
   ]
  }
 ],
 "metadata": {
  "kernelspec": {
   "display_name": "Python (learn-env)",
   "language": "python",
   "name": "learn-env"
  },
  "language_info": {
   "codemirror_mode": {
    "name": "ipython",
    "version": 3
   },
   "file_extension": ".py",
   "mimetype": "text/x-python",
   "name": "python",
   "nbconvert_exporter": "python",
   "pygments_lexer": "ipython3",
   "version": "3.8.5"
  }
 },
 "nbformat": 4,
 "nbformat_minor": 4
}
