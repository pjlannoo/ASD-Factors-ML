{
 "cells": [
  {
   "cell_type": "code",
   "execution_count": 1,
   "metadata": {},
   "outputs": [],
   "source": [
    "#Initial imports \n",
    "import pandas as pd\n",
    "import numpy as np\n",
    "import matplotlib.pyplot as plt\n",
    "import seaborn as sns\n",
    "\n",
    "from sklearn.impute import SimpleImputer\n",
    "from sklearn.model_selection import train_test_split, cross_val_score, GridSearchCV, StratifiedKFold\n",
    "from sklearn.preprocessing import StandardScaler, OneHotEncoder, MinMaxScaler\n",
    "from sklearn.metrics import accuracy_score, f1_score, recall_score, roc_auc_score, plot_confusion_matrix\n",
    "from sklearn.metrics import confusion_matrix, plot_roc_curve, precision_score\n",
    "from sklearn.pipeline import Pipeline\n",
    "from sklearn.compose import ColumnTransformer\n",
    "from sklearn.decomposition import PCA\n",
    "\n",
    "from sklearn.linear_model import LogisticRegression\n",
    "from sklearn.tree import DecisionTreeClassifier\n",
    "from sklearn.neighbors import KNeighborsClassifier\n",
    "from sklearn.ensemble import VotingClassifier, BaggingClassifier, RandomForestClassifier\n",
    "from sklearn.ensemble import ExtraTreesClassifier, StackingRegressor, AdaBoostClassifier\n",
    "from sklearn.naive_bayes import GaussianNB, MultinomialNB, ComplementNB\n",
    "\n",
    "# Set pandas to display all columns, since our data has many columns and we'd like to see them all\n",
    "pd.set_option('display.max_columns', None)"
   ]
  },
  {
   "cell_type": "code",
   "execution_count": 2,
   "metadata": {},
   "outputs": [],
   "source": [
    "def display_metrics(fit_model, Xtr, Xte, ytr, yte):\n",
    "    '''\n",
    "    This function takes in a model that's already been fit, then X and y train and test data.\n",
    "    It uses the fitted model to get predicted values for the train and test data,\n",
    "    and then uses sklearn's score functions to print out the accuracy, recall, precision,  f1, and roc-auc scores.\n",
    "    It then plots a confusion matrix of the test data.\n",
    "    '''\n",
    "    train_preds = fit_model.predict(Xtr)\n",
    "    test_preds = fit_model.predict(Xte)\n",
    "    train_probs = fit_model.predict_proba(Xtr)[:,1]\n",
    "    test_probs = fit_model.predict_proba(Xte)[:,1]\n",
    "\n",
    "    train_accuracy = accuracy_score(ytr, train_preds)\n",
    "    test_accuracy = accuracy_score(yte, test_preds)\n",
    "    train_recall = recall_score(ytr, train_preds, zero_division=0)\n",
    "    test_recall = recall_score(yte, test_preds, zero_division=0)\n",
    "    train_precision = precision_score(ytr, train_preds, zero_division=0)\n",
    "    test_precision = precision_score(yte, test_preds, zero_division=0)\n",
    "    train_f1 = f1_score(ytr, train_preds, zero_division=0)\n",
    "    test_f1 = f1_score(yte, test_preds, zero_division=0)\n",
    "    train_rocauc = roc_auc_score(ytr, train_probs)\n",
    "    test_rocauc = roc_auc_score(yte, test_probs)\n",
    "\n",
    "    print(F'\\nTrain Accuracy:\\t\\t{train_accuracy}')\n",
    "    print(F'Test Accuracy:\\t\\t{test_accuracy}')\n",
    "    print(F\"\\nTrain Recall:\\t\\t{train_recall}\")\n",
    "    print(F'Test Recall:\\t\\t{test_recall}')\n",
    "    print(F\"\\nTrain Precision:\\t{train_precision}\")\n",
    "    print(F'Test Precision:\\t\\t{test_precision}')\n",
    "    print(F\"\\nTrain f1:\\t\\t{train_f1}\")\n",
    "    print(F'Test f1:\\t\\t{test_f1}')\n",
    "    print(F\"\\nTrain ROC-AUC:\\t\\t{train_rocauc}\")\n",
    "    print(F'Test ROC-AUC:\\t\\t{test_rocauc}')\n",
    "    \n",
    "    plot_confusion_matrix(fit_model, Xte, yte)\n",
    "    plot_roc_curve(fit_model, Xte, yte)"
   ]
  },
  {
   "cell_type": "code",
   "execution_count": 3,
   "metadata": {},
   "outputs": [],
   "source": [
    "# Read in dataframe\n",
    "df = pd.read_sas('../../data/nsch_2020_topical.sas7bdat')\n",
    "\n",
    "# Map target column to boolean and rename to target\n",
    "mask = {\n",
    "    1.0: 1.0,\n",
    "    2.0: 0.0\n",
    "}\n",
    "df['Target'] = df['K2Q35A'].map(mask)\n",
    "\n",
    "# Drop rows where target is null\n",
    "df.dropna(subset=['Target'], inplace=True)"
   ]
  },
  {
   "cell_type": "code",
   "execution_count": 4,
   "metadata": {},
   "outputs": [],
   "source": [
    "# Define which columns to drop\n",
    "drop_cols = [\n",
    "    'A1_ACTIVE', 'A1_AGE', 'A1_BORN', 'A1_DEPLSTAT', 'A1_EMPLOYED', 'A1_GRADE', 'A1_LIVEUSA', 'A1_MARITAL',\n",
    "    'A1_MENTHEALTH', 'A1_PHYSHEALTH', 'A1_RELATION', 'A1_SEX', 'A2_ACTIVE', 'A2_AGE', 'A2_BORN', 'A2_DEPLSTAT', \n",
    "    'A2_EMPLOYED', 'A2_GRADE', 'A2_LIVEUSA', 'A2_MARITAL', 'A2_MENTHEALTH', 'A2_PHYSHEALTH', 'A2_RELATION', 'A2_SEX', \n",
    "    'ALLERGIES_DESC', 'ARTHRITIS_DESC', 'ASKQUESTION', 'ASKQUESTION2', 'AUTISMMED', 'AUTISMTREAT', 'BESTFORCHILD', \n",
    "    'BLOOD_DESC', 'BMICLASS', 'BREASTFEDEND_DAY_S', 'BREASTFEDEND_MO_S', 'BREASTFEDEND_WK_S', 'CALMDOWN', 'CERPALS_DESC',\n",
    "    'CLEAREXP', 'COLOR', 'CONFIDENT', 'COUNTTO', 'DIRECTIONS', 'DIRECTIONS2', 'DISCUSSOPT', 'DISTRACTED', 'DOCPRIVATE',\n",
    "    'FAMCOUNT', 'FIPSST', 'FORMTYPE', 'FRSTFORMULA_DAY_S', 'FRSTFORMULA_MO_S','FRSTFORMULA_WK_S', 'FRSTSOLIDS_DAY_S', \n",
    "    'FRSTSOLIDS_MO_S', 'FRSTSOLIDS_WK_S', 'GENETIC_DESC', 'HCEXTENT', 'HEADACHE_DESC', 'HEART_DESC', 'HHCOUNT',\n",
    "    'HHCOUNT_IF', 'HHID', 'HOURSLEEP', 'HOURSLEEP05', 'HURTSAD', 'K12Q01_A', 'K12Q01_B', 'K12Q01_C', 'K12Q01_D', \n",
    "    'K12Q01_E', 'K12Q01_F', 'K12Q01_G', 'K2Q30C', 'K2Q31C', 'K2Q32C', 'K2Q33C', 'K2Q34C', 'K2Q35A', 'K2Q35A_1_YEARS', \n",
    "    'K2Q35B', 'K2Q35C', 'K2Q35D', 'K2Q36C', 'K2Q37C', 'K2Q38C', 'K2Q40C', 'K2Q41C', 'K2Q42C', 'K2Q60C', 'K4Q26',\n",
    "    'K4Q28X_EAR','K4Q37', 'K5Q11','K5Q21', 'K5Q22', 'K5Q32','K6Q08_R','K6Q10','K6Q12','K6Q13A','K6Q13B','K6Q14A','K6Q14B',\n",
    "    'K6Q20','K6Q27', 'K6Q40', 'K6Q41R_STILL','K6Q42R_NEVER','K6Q43R_NEVER','K6Q60_R','K6Q61_R','K6Q70_R','K6Q72_R',\n",
    "    'K6Q73_R','K9Q41', 'KEEPINSADULT','LIVEUSA_MO','LIVEUSA_YR','LIVEUSA_YR', 'K6Q42R_NEVER','MEDHISTORY','NEWACTIVITY',\n",
    "    'ONEWORD','PLANNEEDS_R','PLAYWELL','POINT','RAISECONC','RECEIVECOPY','RECOGABC','RECOGBEGIN','RECSHAPES','RHYMEWORD',\n",
    "    'SC_K2Q11','SC_K2Q12','SC_K2Q14','SC_K2Q15','SC_K2Q17','SC_K2Q18','SC_K2Q20','SC_K2Q21','SC_K2Q23','SC_RACEAIAN',\n",
    "    'SC_RACEASIA','SESPLANMO','SESPLANYR','SIMPLEINST','SITSTILL','SLEEPPOS', 'SPCSERVMO','STARTSCHOOL','STRATUM',\n",
    "    'TELLSTORY','TEMPER','THREEWORDS','TREATADULT', 'TREATNEED', 'TWOWORDS','UNDERSTAND', 'UNDERSTAND2', 'USEPENCIL', \n",
    "    'WORKTOFIN', 'WRITENAME', 'HEALTHKNOW', 'K8Q35', 'EMOSUPSPO', 'EMOSUPFAM', 'EMOSUPHCP', 'EMOSUPWOR', 'EMOSUPADV', \n",
    "    'EMOSUPPEER', 'EMOSUPMHP', 'EMOSUPOTH', 'K3Q20', 'K3Q22', 'K3Q21B', 'K7Q02R_R', 'DOCROOM', 'K4Q02_R', 'DENTISTVISIT', \n",
    "    'FWC', 'A1_GRADE_IF', 'FPL_IF', 'HIGRADE_TVIS', 'HIGRADE', 'INSTYPE', 'INSGAP', 'CURRINS', 'HOUSE_GEN', 'SC_SEX_IF', \n",
    "    'SC_HISPANIC_R_IF', 'SC_RACE_R_IF', 'TOTFEMALE', 'TOTMALE', 'AGEPOS4', 'SC_AGE_LT10', 'SC_AGE_LT9', 'SC_AGE_LT6', \n",
    "    'SC_AGE_LT4', 'TOTNONSHCN', 'TOTCSHCN', 'TOTAGE_12_17', 'TOTAGE_6_11', 'TOTAGE_0_5', 'MPC_YN', 'YEAR', 'K3Q04_R', \n",
    "    'TENURE'\n",
    "]\n",
    "\n",
    "# Define which cols to impute with no\n",
    "no_cols = [\n",
    "    'SC_SEX', 'K4Q32X01', 'K4Q32X02', 'K4Q32X03', 'K4Q32X04', 'K4Q32X05', 'DENTALSERV1', 'DENTALSERV2', 'DENTALSERV3',\n",
    "    'DENTALSERV4', 'DENTALSERV5', 'DENTALSERV6', 'DENTALSERV7', 'K4Q28X01', 'K4Q28X02', 'K4Q28X03', 'K4Q28X04', 'K4Q28X05',\n",
    "    'BREATHING', 'SWALLOWING', 'STOMACH', 'PHYSICALPAIN', 'HANDS', 'COORDINATION', 'TOOTHACHES', 'GUMBLEED', 'CAVITIES',\n",
    "    'MEMORYCOND', 'WALKSTAIRS', 'DRESSING', 'ERRANDALONE', 'K2Q43B', 'BLINDNESS', 'ALLERGIES', 'ALLERGIES_CURR',\n",
    "    'ARTHRITIS', 'ARTHRITIS_CURR', 'K2Q40A', 'K2Q40B', 'K2Q61A', 'K2Q61B', 'K2Q41A', 'K2Q41B', 'K2Q42A', 'K2Q42B', 'HEART',\n",
    "    'HEART_BORN', 'HEART_CURR', 'HEADACHE', 'HEADACHE_CURR', 'K2Q38A', 'K2Q38B', 'K2Q33A', 'K2Q33B', 'K2Q32A', 'K2Q32B',\n",
    "    'DOWNSYN', 'BLOOD', 'SICKLECELL', 'THALASSEMIA', 'BLOOD_OTHER', 'BLOOD_SCREEN', 'CYSTFIB', 'CYSTFIB_SCREEN', 'GENETIC',\n",
    "    'GENETIC_SCREEN', 'K2Q34A', 'K2Q34B', 'K2Q36A', 'K2Q36B', 'K2Q60A', 'K2Q60B', 'K2Q37A', 'K2Q37B', 'K2Q30A', 'K2Q30B',\n",
    "    'K2Q31A', 'K2Q31B', 'K2Q31D', 'ADDTREAT', 'CONCUSSION', 'SEEKCARE', 'CONFIRMINJURY', 'K2Q05', 'OVERWEIGHT', 'K4Q01',\n",
    "    'USUALGO', 'USUALSICK', 'K4Q31_R', 'K4Q23', 'ALTHEALTH', 'K4Q27', 'NOTELIG', 'AVAILABLE', 'APPOINTMENT', 'TRANSPORTCC',\n",
    "    'NOTOPEN', 'ISSUECOST', 'HOSPITALSTAY', 'SESCURRSVC', 'K4Q36', 'K4Q38', 'K5Q10', 'DECISIONS', 'K12Q03', 'K12Q04',\n",
    "    'K12Q12', 'TRICARE', 'K11Q03R', 'HCCOVOTH', 'K3Q25', 'REPEATED', 'K7Q30', 'K7Q31', 'K7Q32', 'K7Q37', 'K7Q38', 'ACE3',\n",
    "    'ACE4', 'ACE5', 'ACE6', 'ACE7', 'ACE8', 'ACE9', 'ACE10', 'ACE12', 'ACE1', 'K7Q04R_R', 'WGTCONC', 'K4Q22_R', 'K4Q24_R',\n",
    "    'K4Q24_R', 'K4Q04_R', 'K5Q31_R',  'BIRTHWT', 'BIRTHWT_L', 'BIRTHWT_VL', 'SC_K2Q22', 'SC_K2Q19', 'SC_K2Q16', 'SC_K2Q13',\n",
    "    'SC_K2Q10', 'SC_CSHCN', 'K4Q30_R', 'K4Q30_R'\n",
    "]\n",
    "\n",
    "# Define which cols to impute with yes\n",
    "yes_cols = [\n",
    "    'S4Q01', 'CURRCOV', 'BORNUSA'\n",
    "]\n",
    "\n",
    "# Define which cols to impute with mode\n",
    "mode_cols = [\n",
    "    'HHLANGUAGE', 'K9Q40', 'K11Q60', 'K11Q61', 'K11Q62', 'S9Q34', 'K10Q11', 'K10Q12', 'K10Q13', 'K10Q14', 'K10Q20',\n",
    "    'K10Q22', 'K10Q23', 'K9Q96', 'BULLIED_R', 'BULLY', 'TOTKIDS_R', 'SC_AGE_YEARS', 'BIRTH_MO', 'BIRTH_YR', 'SC_RACER', \n",
    "    'SC_RACE_R'\n",
    "]\n",
    "\n",
    "# Define which cols to impute with median\n",
    "med_cols = [\n",
    "    'MOMAGE', 'K11Q43R', 'K2Q01', 'K2Q01_D', 'K6Q71_R', 'TALKABOUT', 'WKTOSOLVE', 'STRENGTHS', 'HOPEFUL', 'K10Q30',\n",
    "    'K10Q31', 'K10Q40_R', 'GOFORHELP', 'K10Q41_R', 'HOWMUCH', 'K8Q31', 'K8Q32', 'K8Q34', 'ATHOMEHC', 'ARRANGEHC',\n",
    "    'SCREENTIME', 'K8Q11', 'HCABILITY', 'K8Q30', 'K8Q21', 'FAMILY_R', 'BIRTHWT_OZ_S', 'SC_ENGLISH', 'MAKEFRIEND',\n",
    "    'BEDTIME', 'K7Q33'\n",
    "]\n",
    "\n",
    "# Define which cols to impute with median and add null flag\n",
    "med_flag_cols = [\n",
    "    'K5Q40', 'K5Q41', 'K5Q42', 'K5Q43', 'K5Q44', 'FOODSIT', 'MENBEVCOV'\n",
    "]\n",
    "\n",
    "# Define which cols to impute with constant 5\n",
    "five_cols = [\n",
    "    'K7Q84_R', 'K7Q85_R', 'K7Q82_R', 'K7Q83_R', 'K7Q70_R', 'K8Q21'\n",
    "]\n",
    "\n",
    "# Define lists to be used later\n",
    "bool_cols = [*no_cols, *yes_cols]\n",
    "use_cols = [*no_cols, *yes_cols, *mode_cols, *med_cols, *med_flag_cols, *five_cols]\n",
    "\n",
    "# Adds remaining columns with many nulls to drop cols\n",
    "for col in df.columns:\n",
    "    if col not in use_cols and col not in drop_cols:\n",
    "        if (df[col].isna().sum() / len(df)) > .5:\n",
    "            drop_cols.append(col)"
   ]
  },
  {
   "cell_type": "code",
   "execution_count": 5,
   "metadata": {},
   "outputs": [],
   "source": [
    "# Map boolean columns to boolean\n",
    "bool_mask = {\n",
    "    1: 1,\n",
    "    2: 0,\n",
    "    3: 0\n",
    "}\n",
    "for col in bool_cols:\n",
    "    df[col] = df[col].map(bool_mask)\n",
    "\n",
    "# Define imputers to make up preprocessor\n",
    "no_imp = Pipeline(steps=[\n",
    "    ('no_imp', SimpleImputer(strategy='constant', fill_value=0))\n",
    "])\n",
    "yes_imp = Pipeline(steps=[\n",
    "    ('yes_imp', SimpleImputer(strategy='constant', fill_value=1))\n",
    "])\n",
    "mode_imp = Pipeline(steps=[\n",
    "    ('mode_imp', SimpleImputer(strategy='most_frequent'))\n",
    "])\n",
    "med_imp = Pipeline(steps=[\n",
    "    ('med_imp', SimpleImputer(strategy='median'))\n",
    "])\n",
    "med_flag_imp = Pipeline(steps=[\n",
    "    ('med_flag_imp', SimpleImputer(strategy='median', add_indicator=True))\n",
    "])\n",
    "five_imp = Pipeline(steps=[\n",
    "    ('five_imp', SimpleImputer(strategy='constant', fill_value=5))\n",
    "])"
   ]
  },
  {
   "cell_type": "code",
   "execution_count": 6,
   "metadata": {},
   "outputs": [],
   "source": [
    "# Create full preprocessor\n",
    "full_preprocessor = ColumnTransformer(transformers=[\n",
    "    ('no_pre', no_imp, no_cols),\n",
    "    ('yes_pre', yes_imp, yes_cols),\n",
    "    ('mode_pre', mode_imp, mode_cols),\n",
    "    ('med_cols', med_imp, med_cols),\n",
    "    ('med_flag_cols', med_flag_imp, med_flag_cols),\n",
    "    ('five_cols', five_imp, five_cols)\n",
    "])"
   ]
  },
  {
   "cell_type": "code",
   "execution_count": 7,
   "metadata": {},
   "outputs": [],
   "source": [
    "# Drop the dropcols\n",
    "df = df.drop(columns=[*drop_cols])\n",
    "\n",
    "# Split to x and y\n",
    "y = df['Target']\n",
    "X = df.drop(columns=['Target'])"
   ]
  },
  {
   "cell_type": "code",
   "execution_count": 8,
   "metadata": {},
   "outputs": [],
   "source": [
    "# Train test split\n",
    "X_train, X_test, y_train, y_test = train_test_split(X, y, stratify=y)"
   ]
  },
  {
   "cell_type": "code",
   "execution_count": 9,
   "metadata": {},
   "outputs": [
    {
     "data": {
      "text/plain": [
       "Pipeline(steps=[('preproc',\n",
       "                 ColumnTransformer(transformers=[('no_pre',\n",
       "                                                  Pipeline(steps=[('no_imp',\n",
       "                                                                   SimpleImputer(fill_value=0,\n",
       "                                                                                 strategy='constant'))]),\n",
       "                                                  ['SC_SEX', 'K4Q32X01',\n",
       "                                                   'K4Q32X02', 'K4Q32X03',\n",
       "                                                   'K4Q32X04', 'K4Q32X05',\n",
       "                                                   'DENTALSERV1', 'DENTALSERV2',\n",
       "                                                   'DENTALSERV3', 'DENTALSERV4',\n",
       "                                                   'DENTALSERV5', 'DENTALSERV6',\n",
       "                                                   'DENTALSERV7', 'K4Q28X01',\n",
       "                                                   'K4Q28X02', 'K4Q28X03',\n",
       "                                                   'K4Q28X0...\n",
       "                                                                   SimpleImputer(add_indicator=True,\n",
       "                                                                                 strategy='median'))]),\n",
       "                                                  ['K5Q40', 'K5Q41', 'K5Q42',\n",
       "                                                   'K5Q43', 'K5Q44', 'FOODSIT',\n",
       "                                                   'MENBEVCOV']),\n",
       "                                                 ('five_cols',\n",
       "                                                  Pipeline(steps=[('five_imp',\n",
       "                                                                   SimpleImputer(fill_value=5,\n",
       "                                                                                 strategy='constant'))]),\n",
       "                                                  ['K7Q84_R', 'K7Q85_R',\n",
       "                                                   'K7Q82_R', 'K7Q83_R',\n",
       "                                                   'K7Q70_R', 'K8Q21'])])),\n",
       "                ('tree',\n",
       "                 DecisionTreeClassifier(class_weight='balanced', max_depth=3,\n",
       "                                        random_state=42))])"
      ]
     },
     "execution_count": 9,
     "metadata": {},
     "output_type": "execute_result"
    }
   ],
   "source": [
    "start_tree = Pipeline(steps=[\n",
    "    ('preproc', full_preprocessor),\n",
    "    ('tree', DecisionTreeClassifier(random_state=42, class_weight='balanced',\n",
    "                                   max_depth=3, min_samples_leaf=1, min_samples_split=2))\n",
    "])\n",
    "\n",
    "start_tree.fit(X_train, y_train)"
   ]
  },
  {
   "cell_type": "code",
   "execution_count": 10,
   "metadata": {},
   "outputs": [
    {
     "name": "stdout",
     "output_type": "stream",
     "text": [
      "\n",
      "Train Accuracy:\t\t0.8623192940734714\n",
      "Test Accuracy:\t\t0.8594762038862293\n",
      "\n",
      "Train Recall:\t\t0.9316508937960042\n",
      "Test Recall:\t\t0.9305993690851735\n",
      "\n",
      "Train Precision:\t0.16969929132350126\n",
      "Test Precision:\t\t0.16666666666666666\n",
      "\n",
      "Train f1:\t\t0.2871030460142579\n",
      "Test f1:\t\t0.28270244369908953\n",
      "\n",
      "Train ROC-AUC:\t\t0.944858555564452\n",
      "Test ROC-AUC:\t\t0.9387824613491419\n"
     ]
    },
    {
     "data": {
      "image/png": "[encoded data removed]",
      "text/plain": [
       "<Figure size 432x288 with 2 Axes>"
      ]
     },
     "metadata": {
      "needs_background": "light"
     },
     "output_type": "display_data"
    },
    {
     "data": {
      "image/png": "[encoded data removed]",
      "text/plain": [
       "<Figure size 432x288 with 1 Axes>"
      ]
     },
     "metadata": {
      "needs_background": "light"
     },
     "output_type": "display_data"
    }
   ],
   "source": [
    "display_metrics(start_tree, X_train, X_test, y_train, y_test)"
   ]
  },
  {
   "cell_type": "code",
   "execution_count": null,
   "metadata": {},
   "outputs": [],
   "source": []
  },
  {
   "cell_type": "markdown",
   "metadata": {},
   "source": [
    "### Moved K4Q36 from no_cols to drop_cols as a test"
   ]
  },
  {
   "cell_type": "code",
   "execution_count": 11,
   "metadata": {},
   "outputs": [],
   "source": [
    "# Read in dataframe\n",
    "df = pd.read_sas('../../data/nsch_2020_topical.sas7bdat')\n",
    "\n",
    "# Map target column to boolean and rename to target\n",
    "mask = {\n",
    "    1.0: 1.0,\n",
    "    2.0: 0.0\n",
    "}\n",
    "df['Target'] = df['K2Q35A'].map(mask)\n",
    "\n",
    "# Drop rows where target is null\n",
    "df.dropna(subset=['Target'], inplace=True)\n",
    "\n",
    "# Define which columns to drop\n",
    "drop_cols = [\n",
    "    'A1_ACTIVE', 'A1_AGE', 'A1_BORN', 'A1_DEPLSTAT', 'A1_EMPLOYED', 'A1_GRADE', 'A1_LIVEUSA', 'A1_MARITAL',\n",
    "    'A1_MENTHEALTH', 'A1_PHYSHEALTH', 'A1_RELATION', 'A1_SEX', 'A2_ACTIVE', 'A2_AGE', 'A2_BORN', 'A2_DEPLSTAT', \n",
    "    'A2_EMPLOYED', 'A2_GRADE', 'A2_LIVEUSA', 'A2_MARITAL', 'A2_MENTHEALTH', 'A2_PHYSHEALTH', 'A2_RELATION', 'A2_SEX', \n",
    "    'ALLERGIES_DESC', 'ARTHRITIS_DESC', 'ASKQUESTION', 'ASKQUESTION2', 'AUTISMMED', 'AUTISMTREAT', 'BESTFORCHILD', \n",
    "    'BLOOD_DESC', 'BMICLASS', 'BREASTFEDEND_DAY_S', 'BREASTFEDEND_MO_S', 'BREASTFEDEND_WK_S', 'CALMDOWN', 'CERPALS_DESC',\n",
    "    'CLEAREXP', 'COLOR', 'CONFIDENT', 'COUNTTO', 'DIRECTIONS', 'DIRECTIONS2', 'DISCUSSOPT', 'DISTRACTED', 'DOCPRIVATE',\n",
    "    'FAMCOUNT', 'FIPSST', 'FORMTYPE', 'FRSTFORMULA_DAY_S', 'FRSTFORMULA_MO_S','FRSTFORMULA_WK_S', 'FRSTSOLIDS_DAY_S', \n",
    "    'FRSTSOLIDS_MO_S', 'FRSTSOLIDS_WK_S', 'GENETIC_DESC', 'HCEXTENT', 'HEADACHE_DESC', 'HEART_DESC', 'HHCOUNT',\n",
    "    'HHCOUNT_IF', 'HHID', 'HOURSLEEP', 'HOURSLEEP05', 'HURTSAD', 'K12Q01_A', 'K12Q01_B', 'K12Q01_C', 'K12Q01_D', \n",
    "    'K12Q01_E', 'K12Q01_F', 'K12Q01_G', 'K2Q30C', 'K2Q31C', 'K2Q32C', 'K2Q33C', 'K2Q34C', 'K2Q35A', 'K2Q35A_1_YEARS', \n",
    "    'K2Q35B', 'K2Q35C', 'K2Q35D', 'K2Q36C', 'K2Q37C', 'K2Q38C', 'K2Q40C', 'K2Q41C', 'K2Q42C', 'K2Q60C', 'K4Q26',\n",
    "    'K4Q28X_EAR','K4Q37', 'K5Q11','K5Q21', 'K5Q22', 'K5Q32','K6Q08_R','K6Q10','K6Q12','K6Q13A','K6Q13B','K6Q14A','K6Q14B',\n",
    "    'K6Q20','K6Q27', 'K6Q40', 'K6Q41R_STILL','K6Q42R_NEVER','K6Q43R_NEVER','K6Q60_R','K6Q61_R','K6Q70_R','K6Q72_R',\n",
    "    'K6Q73_R','K9Q41', 'KEEPINSADULT','LIVEUSA_MO','LIVEUSA_YR','LIVEUSA_YR', 'K6Q42R_NEVER','MEDHISTORY','NEWACTIVITY',\n",
    "    'ONEWORD','PLANNEEDS_R','PLAYWELL','POINT','RAISECONC','RECEIVECOPY','RECOGABC','RECOGBEGIN','RECSHAPES','RHYMEWORD',\n",
    "    'SC_K2Q11','SC_K2Q12','SC_K2Q14','SC_K2Q15','SC_K2Q17','SC_K2Q18','SC_K2Q20','SC_K2Q21','SC_K2Q23','SC_RACEAIAN',\n",
    "    'SC_RACEASIA','SESPLANMO','SESPLANYR','SIMPLEINST','SITSTILL','SLEEPPOS', 'SPCSERVMO','STARTSCHOOL','STRATUM',\n",
    "    'TELLSTORY','TEMPER','THREEWORDS','TREATADULT', 'TREATNEED', 'TWOWORDS','UNDERSTAND', 'UNDERSTAND2', 'USEPENCIL', \n",
    "    'WORKTOFIN', 'WRITENAME', 'HEALTHKNOW', 'K8Q35', 'EMOSUPSPO', 'EMOSUPFAM', 'EMOSUPHCP', 'EMOSUPWOR', 'EMOSUPADV', \n",
    "    'EMOSUPPEER', 'EMOSUPMHP', 'EMOSUPOTH', 'K3Q20', 'K3Q22', 'K3Q21B', 'K7Q02R_R', 'DOCROOM', 'K4Q02_R', 'DENTISTVISIT', \n",
    "    'FWC', 'A1_GRADE_IF', 'FPL_IF', 'HIGRADE_TVIS', 'HIGRADE', 'INSTYPE', 'INSGAP', 'CURRINS', 'HOUSE_GEN', 'SC_SEX_IF', \n",
    "    'SC_HISPANIC_R_IF', 'SC_RACE_R_IF', 'TOTFEMALE', 'TOTMALE', 'AGEPOS4', 'SC_AGE_LT10', 'SC_AGE_LT9', 'SC_AGE_LT6', \n",
    "    'SC_AGE_LT4', 'TOTNONSHCN', 'TOTCSHCN', 'TOTAGE_12_17', 'TOTAGE_6_11', 'TOTAGE_0_5', 'MPC_YN', 'YEAR', 'K3Q04_R', \n",
    "    'TENURE', 'K4Q36'\n",
    "]\n",
    "\n",
    "# Define which cols to impute with no\n",
    "no_cols = [\n",
    "    'SC_SEX', 'K4Q32X01', 'K4Q32X02', 'K4Q32X03', 'K4Q32X04', 'K4Q32X05', 'DENTALSERV1', 'DENTALSERV2', 'DENTALSERV3',\n",
    "    'DENTALSERV4', 'DENTALSERV5', 'DENTALSERV6', 'DENTALSERV7', 'K4Q28X01', 'K4Q28X02', 'K4Q28X03', 'K4Q28X04', 'K4Q28X05',\n",
    "    'BREATHING', 'SWALLOWING', 'STOMACH', 'PHYSICALPAIN', 'HANDS', 'COORDINATION', 'TOOTHACHES', 'GUMBLEED', 'CAVITIES',\n",
    "    'MEMORYCOND', 'WALKSTAIRS', 'DRESSING', 'ERRANDALONE', 'K2Q43B', 'BLINDNESS', 'ALLERGIES', 'ALLERGIES_CURR',\n",
    "    'ARTHRITIS', 'ARTHRITIS_CURR', 'K2Q40A', 'K2Q40B', 'K2Q61A', 'K2Q61B', 'K2Q41A', 'K2Q41B', 'K2Q42A', 'K2Q42B', 'HEART',\n",
    "    'HEART_BORN', 'HEART_CURR', 'HEADACHE', 'HEADACHE_CURR', 'K2Q38A', 'K2Q38B', 'K2Q33A', 'K2Q33B', 'K2Q32A', 'K2Q32B',\n",
    "    'DOWNSYN', 'BLOOD', 'SICKLECELL', 'THALASSEMIA', 'BLOOD_OTHER', 'BLOOD_SCREEN', 'CYSTFIB', 'CYSTFIB_SCREEN', 'GENETIC',\n",
    "    'GENETIC_SCREEN', 'K2Q34A', 'K2Q34B', 'K2Q36A', 'K2Q36B', 'K2Q60A', 'K2Q60B', 'K2Q37A', 'K2Q37B', 'K2Q30A', 'K2Q30B',\n",
    "    'K2Q31A', 'K2Q31B', 'K2Q31D', 'ADDTREAT', 'CONCUSSION', 'SEEKCARE', 'CONFIRMINJURY', 'K2Q05', 'OVERWEIGHT', 'K4Q01',\n",
    "    'USUALGO', 'USUALSICK', 'K4Q31_R', 'K4Q23', 'ALTHEALTH', 'K4Q27', 'NOTELIG', 'AVAILABLE', 'APPOINTMENT', 'TRANSPORTCC',\n",
    "    'NOTOPEN', 'ISSUECOST', 'HOSPITALSTAY', 'SESCURRSVC', 'K4Q38', 'K5Q10', 'DECISIONS', 'K12Q03', 'K12Q04',\n",
    "    'K12Q12', 'TRICARE', 'K11Q03R', 'HCCOVOTH', 'K3Q25', 'REPEATED', 'K7Q30', 'K7Q31', 'K7Q32', 'K7Q37', 'K7Q38', 'ACE3',\n",
    "    'ACE4', 'ACE5', 'ACE6', 'ACE7', 'ACE8', 'ACE9', 'ACE10', 'ACE12', 'ACE1', 'K7Q04R_R', 'WGTCONC', 'K4Q22_R', 'K4Q24_R',\n",
    "    'K4Q24_R', 'K4Q04_R', 'K5Q31_R',  'BIRTHWT', 'BIRTHWT_L', 'BIRTHWT_VL', 'SC_K2Q22', 'SC_K2Q19', 'SC_K2Q16', 'SC_K2Q13',\n",
    "    'SC_K2Q10', 'SC_CSHCN', 'K4Q30_R', 'K4Q30_R'\n",
    "]\n",
    "\n",
    "# Define which cols to impute with yes\n",
    "yes_cols = [\n",
    "    'S4Q01', 'CURRCOV', 'BORNUSA'\n",
    "]\n",
    "\n",
    "# Define which cols to impute with mode\n",
    "mode_cols = [\n",
    "    'HHLANGUAGE', 'K9Q40', 'K11Q60', 'K11Q61', 'K11Q62', 'S9Q34', 'K10Q11', 'K10Q12', 'K10Q13', 'K10Q14', 'K10Q20',\n",
    "    'K10Q22', 'K10Q23', 'K9Q96', 'BULLIED_R', 'BULLY', 'TOTKIDS_R', 'SC_AGE_YEARS', 'BIRTH_MO', 'BIRTH_YR', 'SC_RACER', \n",
    "    'SC_RACE_R'\n",
    "]\n",
    "\n",
    "# Define which cols to impute with median\n",
    "med_cols = [\n",
    "    'MOMAGE', 'K11Q43R', 'K2Q01', 'K2Q01_D', 'K6Q71_R', 'TALKABOUT', 'WKTOSOLVE', 'STRENGTHS', 'HOPEFUL', 'K10Q30',\n",
    "    'K10Q31', 'K10Q40_R', 'GOFORHELP', 'K10Q41_R', 'HOWMUCH', 'K8Q31', 'K8Q32', 'K8Q34', 'ATHOMEHC', 'ARRANGEHC',\n",
    "    'SCREENTIME', 'K8Q11', 'HCABILITY', 'K8Q30', 'K8Q21', 'FAMILY_R', 'BIRTHWT_OZ_S', 'SC_ENGLISH', 'MAKEFRIEND',\n",
    "    'BEDTIME', 'K7Q33'\n",
    "]\n",
    "\n",
    "# Define which cols to impute with median and add null flag\n",
    "med_flag_cols = [\n",
    "    'K5Q40', 'K5Q41', 'K5Q42', 'K5Q43', 'K5Q44', 'FOODSIT', 'MENBEVCOV'\n",
    "]\n",
    "\n",
    "# Define which cols to impute with constant 5\n",
    "five_cols = [\n",
    "    'K7Q84_R', 'K7Q85_R', 'K7Q82_R', 'K7Q83_R', 'K7Q70_R', 'K8Q21'\n",
    "]\n",
    "\n",
    "# Define lists to be used later\n",
    "bool_cols = [*no_cols, *yes_cols]\n",
    "use_cols = [*no_cols, *yes_cols, *mode_cols, *med_cols, *med_flag_cols, *five_cols]\n",
    "\n",
    "# Adds remaining columns with many nulls to drop cols\n",
    "for col in df.columns:\n",
    "    if col not in use_cols and col not in drop_cols:\n",
    "        if (df[col].isna().sum() / len(df)) > .5:\n",
    "            drop_cols.append(col)\n",
    "\n",
    "# Map boolean columns to boolean\n",
    "bool_mask = {\n",
    "    1: 1,\n",
    "    2: 0,\n",
    "    3: 0\n",
    "}\n",
    "for col in bool_cols:\n",
    "    df[col] = df[col].map(bool_mask)\n",
    "\n",
    "# Define imputers to make up preprocessor\n",
    "no_imp = Pipeline(steps=[\n",
    "    ('no_imp', SimpleImputer(strategy='constant', fill_value=0))\n",
    "])\n",
    "yes_imp = Pipeline(steps=[\n",
    "    ('yes_imp', SimpleImputer(strategy='constant', fill_value=1))\n",
    "])\n",
    "mode_imp = Pipeline(steps=[\n",
    "    ('mode_imp', SimpleImputer(strategy='most_frequent'))\n",
    "])\n",
    "med_imp = Pipeline(steps=[\n",
    "    ('med_imp', SimpleImputer(strategy='median'))\n",
    "])\n",
    "med_flag_imp = Pipeline(steps=[\n",
    "    ('med_flag_imp', SimpleImputer(strategy='median', add_indicator=True))\n",
    "])\n",
    "five_imp = Pipeline(steps=[\n",
    "    ('five_imp', SimpleImputer(strategy='constant', fill_value=5))\n",
    "])\n",
    "\n",
    "# Create full preprocessor\n",
    "full_preprocessor = ColumnTransformer(transformers=[\n",
    "    ('no_pre', no_imp, no_cols),\n",
    "    ('yes_pre', yes_imp, yes_cols),\n",
    "    ('mode_pre', mode_imp, mode_cols),\n",
    "    ('med_cols', med_imp, med_cols),\n",
    "    ('med_flag_cols', med_flag_imp, med_flag_cols),\n",
    "    ('five_cols', five_imp, five_cols)\n",
    "])\n",
    "\n",
    "# Drop the dropcols\n",
    "df = df.drop(columns=[*drop_cols])\n",
    "\n",
    "# Split to x and y\n",
    "y = df['Target']\n",
    "X = df.drop(columns=['Target'])\n",
    "\n",
    "# Train test split\n",
    "X_train, X_test, y_train, y_test = train_test_split(X, y, stratify=y)"
   ]
  },
  {
   "cell_type": "code",
   "execution_count": 12,
   "metadata": {},
   "outputs": [],
   "source": [
    "# test_tree = Pipeline(steps=[\n",
    "#     ('preproc', full_preprocessor),\n",
    "#     ('tree', DecisionTreeClassifier(class_weight='balanced', random_state=42))\n",
    "# ])\n",
    "\n",
    "# param_grid = {\n",
    "#     'tree__criterion': ['gini', 'entropy'],\n",
    "#     'tree__max_depth': [None, 1,2,3,4,5,10,20],\n",
    "#     'tree__min_samples_leaf': [1,2,3,4,5,10,20],\n",
    "#     'tree__min_samples_split': [1,2,3,4,5,10,20]\n",
    "# }\n",
    "\n",
    "# grid_search = GridSearchCV(estimator=test_tree, param_grid=param_grid,\n",
    "#                              n_jobs=-1, \n",
    "#                              verbose=1,\n",
    "#                              return_train_score=True,\n",
    "#                              scoring='recall',\n",
    "#                              cv=StratifiedKFold(n_splits=5))\n",
    "\n",
    "# grid_search.fit(X_train, y_train)"
   ]
  },
  {
   "cell_type": "code",
   "execution_count": 13,
   "metadata": {},
   "outputs": [],
   "source": [
    "# display_metrics(grid_search.best_estimator_, X_train, X_test, y_train, y_test)"
   ]
  },
  {
   "cell_type": "code",
   "execution_count": 14,
   "metadata": {},
   "outputs": [],
   "source": [
    "# grid_search.best_params_"
   ]
  },
  {
   "cell_type": "code",
   "execution_count": 15,
   "metadata": {
    "scrolled": false
   },
   "outputs": [
    {
     "name": "stdout",
     "output_type": "stream",
     "text": [
      "\n",
      "Train Accuracy:\t\t0.7744226797671945\n",
      "Test Accuracy:\t\t0.7729278137613818\n",
      "\n",
      "Train Recall:\t\t0.943217665615142\n",
      "Test Recall:\t\t0.9337539432176656\n",
      "\n",
      "Train Precision:\t0.11140089418777943\n",
      "Test Precision:\t\t0.10987379361544172\n",
      "\n",
      "Train f1:\t\t0.19926691102965677\n",
      "Test f1:\t\t0.19661242112255065\n",
      "\n",
      "Train ROC-AUC:\t\t0.916272188054819\n",
      "Test ROC-AUC:\t\t0.9099229607582697\n"
     ]
    },
    {
     "data": {
      "image/png": "[encoded data removed]",
      "text/plain": [
       "<Figure size 432x288 with 2 Axes>"
      ]
     },
     "metadata": {
      "needs_background": "light"
     },
     "output_type": "display_data"
    },
    {
     "data": {
      "image/png": "[encoded data removed]",
      "text/plain": [
       "<Figure size 432x288 with 1 Axes>"
      ]
     },
     "metadata": {
      "needs_background": "light"
     },
     "output_type": "display_data"
    }
   ],
   "source": [
    "new_tree = Pipeline(steps=[\n",
    "    ('preproc', full_preprocessor),\n",
    "    ('tree', DecisionTreeClassifier(class_weight='balanced', random_state=42,\n",
    "                                   max_depth=2, min_samples_leaf=1, min_samples_split=2))\n",
    "])\n",
    "\n",
    "new_tree.fit(X_train, y_train)\n",
    "display_metrics(new_tree, X_train, X_test, y_train, y_test)"
   ]
  },
  {
   "cell_type": "code",
   "execution_count": 16,
   "metadata": {},
   "outputs": [],
   "source": [
    "feature_importance = dict(zip(use_cols, new_tree.named_steps['tree'].feature_importances_))"
   ]
  },
  {
   "cell_type": "code",
   "execution_count": 17,
   "metadata": {},
   "outputs": [
    {
     "name": "stdout",
     "output_type": "stream",
     "text": [
      "K2Q36A: 0.18592268321347696\n",
      "SC_CSHCN: 0.8140773167865231\n"
     ]
    }
   ],
   "source": [
    "for key, val in feature_importance.items():\n",
    "    if val > 0:\n",
    "        print(F'{key}: {val}')"
   ]
  },
  {
   "cell_type": "markdown",
   "metadata": {},
   "source": [
    "Gonna try dropping these two features and see what we get"
   ]
  },
  {
   "cell_type": "code",
   "execution_count": 18,
   "metadata": {},
   "outputs": [],
   "source": [
    "# Read in dataframe\n",
    "df = pd.read_sas('../../data/nsch_2020_topical.sas7bdat')\n",
    "\n",
    "# Map target column to boolean and rename to target\n",
    "mask = {\n",
    "    1.0: 1.0,\n",
    "    2.0: 0.0\n",
    "}\n",
    "df['Target'] = df['K2Q35A'].map(mask)\n",
    "\n",
    "# Drop rows where target is null\n",
    "df.dropna(subset=['Target'], inplace=True)\n",
    "\n",
    "# Define which columns to drop\n",
    "drop_cols = [\n",
    "    'A1_ACTIVE', 'A1_AGE', 'A1_BORN', 'A1_DEPLSTAT', 'A1_EMPLOYED', 'A1_GRADE', 'A1_LIVEUSA', 'A1_MARITAL',\n",
    "    'A1_MENTHEALTH', 'A1_PHYSHEALTH', 'A1_RELATION', 'A1_SEX', 'A2_ACTIVE', 'A2_AGE', 'A2_BORN', 'A2_DEPLSTAT', \n",
    "    'A2_EMPLOYED', 'A2_GRADE', 'A2_LIVEUSA', 'A2_MARITAL', 'A2_MENTHEALTH', 'A2_PHYSHEALTH', 'A2_RELATION', 'A2_SEX', \n",
    "    'ALLERGIES_DESC', 'ARTHRITIS_DESC', 'ASKQUESTION', 'ASKQUESTION2', 'AUTISMMED', 'AUTISMTREAT', 'BESTFORCHILD', \n",
    "    'BLOOD_DESC', 'BMICLASS', 'BREASTFEDEND_DAY_S', 'BREASTFEDEND_MO_S', 'BREASTFEDEND_WK_S', 'CALMDOWN', 'CERPALS_DESC',\n",
    "    'CLEAREXP', 'COLOR', 'CONFIDENT', 'COUNTTO', 'DIRECTIONS', 'DIRECTIONS2', 'DISCUSSOPT', 'DISTRACTED', 'DOCPRIVATE',\n",
    "    'FAMCOUNT', 'FIPSST', 'FORMTYPE', 'FRSTFORMULA_DAY_S', 'FRSTFORMULA_MO_S','FRSTFORMULA_WK_S', 'FRSTSOLIDS_DAY_S', \n",
    "    'FRSTSOLIDS_MO_S', 'FRSTSOLIDS_WK_S', 'GENETIC_DESC', 'HCEXTENT', 'HEADACHE_DESC', 'HEART_DESC', 'HHCOUNT',\n",
    "    'HHCOUNT_IF', 'HHID', 'HOURSLEEP', 'HOURSLEEP05', 'HURTSAD', 'K12Q01_A', 'K12Q01_B', 'K12Q01_C', 'K12Q01_D', \n",
    "    'K12Q01_E', 'K12Q01_F', 'K12Q01_G', 'K2Q30C', 'K2Q31C', 'K2Q32C', 'K2Q33C', 'K2Q34C', 'K2Q35A', 'K2Q35A_1_YEARS', \n",
    "    'K2Q35B', 'K2Q35C', 'K2Q35D', 'K2Q36C', 'K2Q37C', 'K2Q38C', 'K2Q40C', 'K2Q41C', 'K2Q42C', 'K2Q60C', 'K4Q26',\n",
    "    'K4Q28X_EAR','K4Q37', 'K5Q11','K5Q21', 'K5Q22', 'K5Q32','K6Q08_R','K6Q10','K6Q12','K6Q13A','K6Q13B','K6Q14A','K6Q14B',\n",
    "    'K6Q20','K6Q27', 'K6Q40', 'K6Q41R_STILL','K6Q42R_NEVER','K6Q43R_NEVER','K6Q60_R','K6Q61_R','K6Q70_R','K6Q72_R',\n",
    "    'K6Q73_R','K9Q41', 'KEEPINSADULT','LIVEUSA_MO','LIVEUSA_YR','LIVEUSA_YR', 'K6Q42R_NEVER','MEDHISTORY','NEWACTIVITY',\n",
    "    'ONEWORD','PLANNEEDS_R','PLAYWELL','POINT','RAISECONC','RECEIVECOPY','RECOGABC','RECOGBEGIN','RECSHAPES','RHYMEWORD',\n",
    "    'SC_K2Q11','SC_K2Q12','SC_K2Q14','SC_K2Q15','SC_K2Q17','SC_K2Q18','SC_K2Q20','SC_K2Q21','SC_K2Q23','SC_RACEAIAN',\n",
    "    'SC_RACEASIA','SESPLANMO','SESPLANYR','SIMPLEINST','SITSTILL','SLEEPPOS', 'SPCSERVMO','STARTSCHOOL','STRATUM',\n",
    "    'TELLSTORY','TEMPER','THREEWORDS','TREATADULT', 'TREATNEED', 'TWOWORDS','UNDERSTAND', 'UNDERSTAND2', 'USEPENCIL', \n",
    "    'WORKTOFIN', 'WRITENAME', 'HEALTHKNOW', 'K8Q35', 'EMOSUPSPO', 'EMOSUPFAM', 'EMOSUPHCP', 'EMOSUPWOR', 'EMOSUPADV', \n",
    "    'EMOSUPPEER', 'EMOSUPMHP', 'EMOSUPOTH', 'K3Q20', 'K3Q22', 'K3Q21B', 'K7Q02R_R', 'DOCROOM', 'K4Q02_R', 'DENTISTVISIT', \n",
    "    'FWC', 'A1_GRADE_IF', 'FPL_IF', 'HIGRADE_TVIS', 'HIGRADE', 'INSTYPE', 'INSGAP', 'CURRINS', 'HOUSE_GEN', 'SC_SEX_IF', \n",
    "    'SC_HISPANIC_R_IF', 'SC_RACE_R_IF', 'TOTFEMALE', 'TOTMALE', 'AGEPOS4', 'SC_AGE_LT10', 'SC_AGE_LT9', 'SC_AGE_LT6', \n",
    "    'SC_AGE_LT4', 'TOTNONSHCN', 'TOTCSHCN', 'TOTAGE_12_17', 'TOTAGE_6_11', 'TOTAGE_0_5', 'MPC_YN', 'YEAR', 'K3Q04_R', \n",
    "    'TENURE', 'K4Q36', 'SC_CSHCN', 'K2Q36A'\n",
    "]\n",
    "\n",
    "# Define which cols to impute with no\n",
    "no_cols = [\n",
    "    'SC_SEX', 'K4Q32X01', 'K4Q32X02', 'K4Q32X03', 'K4Q32X04', 'K4Q32X05', 'DENTALSERV1', 'DENTALSERV2', 'DENTALSERV3',\n",
    "    'DENTALSERV4', 'DENTALSERV5', 'DENTALSERV6', 'DENTALSERV7', 'K4Q28X01', 'K4Q28X02', 'K4Q28X03', 'K4Q28X04', 'K4Q28X05',\n",
    "    'BREATHING', 'SWALLOWING', 'STOMACH', 'PHYSICALPAIN', 'HANDS', 'COORDINATION', 'TOOTHACHES', 'GUMBLEED', 'CAVITIES',\n",
    "    'MEMORYCOND', 'WALKSTAIRS', 'DRESSING', 'ERRANDALONE', 'K2Q43B', 'BLINDNESS', 'ALLERGIES', 'ALLERGIES_CURR',\n",
    "    'ARTHRITIS', 'ARTHRITIS_CURR', 'K2Q40A', 'K2Q40B', 'K2Q61A', 'K2Q61B', 'K2Q41A', 'K2Q41B', 'K2Q42A', 'K2Q42B', 'HEART',\n",
    "    'HEART_BORN', 'HEART_CURR', 'HEADACHE', 'HEADACHE_CURR', 'K2Q38A', 'K2Q38B', 'K2Q33A', 'K2Q33B', 'K2Q32A', 'K2Q32B',\n",
    "    'DOWNSYN', 'BLOOD', 'SICKLECELL', 'THALASSEMIA', 'BLOOD_OTHER', 'BLOOD_SCREEN', 'CYSTFIB', 'CYSTFIB_SCREEN', 'GENETIC',\n",
    "    'GENETIC_SCREEN', 'K2Q34A', 'K2Q34B', 'K2Q36B', 'K2Q60A', 'K2Q60B', 'K2Q37A', 'K2Q37B', 'K2Q30A', 'K2Q30B',\n",
    "    'K2Q31A', 'K2Q31B', 'K2Q31D', 'ADDTREAT', 'CONCUSSION', 'SEEKCARE', 'CONFIRMINJURY', 'K2Q05', 'OVERWEIGHT', 'K4Q01',\n",
    "    'USUALGO', 'USUALSICK', 'K4Q31_R', 'K4Q23', 'ALTHEALTH', 'K4Q27', 'NOTELIG', 'AVAILABLE', 'APPOINTMENT', 'TRANSPORTCC',\n",
    "    'NOTOPEN', 'ISSUECOST', 'HOSPITALSTAY', 'SESCURRSVC', 'K4Q38', 'K5Q10', 'DECISIONS', 'K12Q03', 'K12Q04',\n",
    "    'K12Q12', 'TRICARE', 'K11Q03R', 'HCCOVOTH', 'K3Q25', 'REPEATED', 'K7Q30', 'K7Q31', 'K7Q32', 'K7Q37', 'K7Q38', 'ACE3',\n",
    "    'ACE4', 'ACE5', 'ACE6', 'ACE7', 'ACE8', 'ACE9', 'ACE10', 'ACE12', 'ACE1', 'K7Q04R_R', 'WGTCONC', 'K4Q22_R', 'K4Q24_R',\n",
    "    'K4Q24_R', 'K4Q04_R', 'K5Q31_R',  'BIRTHWT', 'BIRTHWT_L', 'BIRTHWT_VL', 'SC_K2Q22', 'SC_K2Q19', 'SC_K2Q16', 'SC_K2Q13',\n",
    "    'SC_K2Q10', 'K4Q30_R', 'K4Q30_R'\n",
    "]\n",
    "\n",
    "# Define which cols to impute with yes\n",
    "yes_cols = [\n",
    "    'S4Q01', 'CURRCOV', 'BORNUSA'\n",
    "]\n",
    "\n",
    "# Define which cols to impute with mode\n",
    "mode_cols = [\n",
    "    'HHLANGUAGE', 'K9Q40', 'K11Q60', 'K11Q61', 'K11Q62', 'S9Q34', 'K10Q11', 'K10Q12', 'K10Q13', 'K10Q14', 'K10Q20',\n",
    "    'K10Q22', 'K10Q23', 'K9Q96', 'BULLIED_R', 'BULLY', 'TOTKIDS_R', 'SC_AGE_YEARS', 'BIRTH_MO', 'BIRTH_YR', 'SC_RACER', \n",
    "    'SC_RACE_R'\n",
    "]\n",
    "\n",
    "# Define which cols to impute with median\n",
    "med_cols = [\n",
    "    'MOMAGE', 'K11Q43R', 'K2Q01', 'K2Q01_D', 'K6Q71_R', 'TALKABOUT', 'WKTOSOLVE', 'STRENGTHS', 'HOPEFUL', 'K10Q30',\n",
    "    'K10Q31', 'K10Q40_R', 'GOFORHELP', 'K10Q41_R', 'HOWMUCH', 'K8Q31', 'K8Q32', 'K8Q34', 'ATHOMEHC', 'ARRANGEHC',\n",
    "    'SCREENTIME', 'K8Q11', 'HCABILITY', 'K8Q30', 'K8Q21', 'FAMILY_R', 'BIRTHWT_OZ_S', 'SC_ENGLISH', 'MAKEFRIEND',\n",
    "    'BEDTIME', 'K7Q33'\n",
    "]\n",
    "\n",
    "# Define which cols to impute with median and add null flag\n",
    "med_flag_cols = [\n",
    "    'K5Q40', 'K5Q41', 'K5Q42', 'K5Q43', 'K5Q44', 'FOODSIT', 'MENBEVCOV'\n",
    "]\n",
    "\n",
    "# Define which cols to impute with constant 5\n",
    "five_cols = [\n",
    "    'K7Q84_R', 'K7Q85_R', 'K7Q82_R', 'K7Q83_R', 'K7Q70_R', 'K8Q21'\n",
    "]\n",
    "\n",
    "# Define lists to be used later\n",
    "bool_cols = [*no_cols, *yes_cols]\n",
    "use_cols = [*no_cols, *yes_cols, *mode_cols, *med_cols, *med_flag_cols, *five_cols]\n",
    "\n",
    "# Adds remaining columns with many nulls to drop cols\n",
    "for col in df.columns:\n",
    "    if col not in use_cols and col not in drop_cols:\n",
    "        if (df[col].isna().sum() / len(df)) > .5:\n",
    "            drop_cols.append(col)\n",
    "\n",
    "# Map boolean columns to boolean\n",
    "bool_mask = {\n",
    "    1: 1,\n",
    "    2: 0,\n",
    "    3: 0\n",
    "}\n",
    "for col in bool_cols:\n",
    "    df[col] = df[col].map(bool_mask)\n",
    "\n",
    "# Define imputers to make up preprocessor\n",
    "no_imp = Pipeline(steps=[\n",
    "    ('no_imp', SimpleImputer(strategy='constant', fill_value=0))\n",
    "])\n",
    "yes_imp = Pipeline(steps=[\n",
    "    ('yes_imp', SimpleImputer(strategy='constant', fill_value=1))\n",
    "])\n",
    "mode_imp = Pipeline(steps=[\n",
    "    ('mode_imp', SimpleImputer(strategy='most_frequent'))\n",
    "])\n",
    "med_imp = Pipeline(steps=[\n",
    "    ('med_imp', SimpleImputer(strategy='median'))\n",
    "])\n",
    "med_flag_imp = Pipeline(steps=[\n",
    "    ('med_flag_imp', SimpleImputer(strategy='median', add_indicator=True))\n",
    "])\n",
    "five_imp = Pipeline(steps=[\n",
    "    ('five_imp', SimpleImputer(strategy='constant', fill_value=5))\n",
    "])\n",
    "\n",
    "# Create full preprocessor\n",
    "full_preprocessor = ColumnTransformer(transformers=[\n",
    "    ('no_pre', no_imp, no_cols),\n",
    "    ('yes_pre', yes_imp, yes_cols),\n",
    "    ('mode_pre', mode_imp, mode_cols),\n",
    "    ('med_cols', med_imp, med_cols),\n",
    "    ('med_flag_cols', med_flag_imp, med_flag_cols),\n",
    "    ('five_cols', five_imp, five_cols)\n",
    "])\n",
    "\n",
    "# Drop the dropcols\n",
    "df = df.drop(columns=[*drop_cols])\n",
    "\n",
    "# Split to x and y\n",
    "y = df['Target']\n",
    "X = df.drop(columns=['Target'])\n",
    "\n",
    "# Train test split\n",
    "X_train, X_test, y_train, y_test = train_test_split(X, y, stratify=y)"
   ]
  },
  {
   "cell_type": "code",
   "execution_count": 19,
   "metadata": {},
   "outputs": [],
   "source": [
    "# test_tree = Pipeline(steps=[\n",
    "#     ('preproc', full_preprocessor),\n",
    "#     ('tree', DecisionTreeClassifier(class_weight='balanced', random_state=42))\n",
    "# ])\n",
    "\n",
    "# param_grid = {\n",
    "#     'tree__criterion': ['gini', 'entropy'],\n",
    "#     'tree__max_depth': [None, 1,2,3,4,5,10],\n",
    "#     'tree__min_samples_leaf': [1,2,3,4,5,10],\n",
    "#     'tree__min_samples_split': [1,2,3,4,5,10]\n",
    "# }\n",
    "\n",
    "# grid_search = GridSearchCV(estimator=test_tree, param_grid=param_grid,\n",
    "#                              n_jobs=-1, \n",
    "#                              verbose=1,\n",
    "#                              return_train_score=True,\n",
    "#                              scoring='recall',\n",
    "#                              cv=StratifiedKFold(n_splits=5))\n",
    "\n",
    "# grid_search.fit(X_train, y_train)"
   ]
  },
  {
   "cell_type": "code",
   "execution_count": 20,
   "metadata": {},
   "outputs": [],
   "source": [
    "# display_metrics(grid_search.best_estimator_, X_train, X_test, y_train, y_test)"
   ]
  },
  {
   "cell_type": "code",
   "execution_count": 21,
   "metadata": {},
   "outputs": [],
   "source": [
    "# feature_importance = dict(zip(use_cols, new_tree.named_steps['tree'].feature_importances_))"
   ]
  },
  {
   "cell_type": "code",
   "execution_count": 22,
   "metadata": {},
   "outputs": [],
   "source": [
    "# grid_search.best_params_"
   ]
  },
  {
   "cell_type": "code",
   "execution_count": 23,
   "metadata": {},
   "outputs": [
    {
     "name": "stdout",
     "output_type": "stream",
     "text": [
      "\n",
      "Train Accuracy:\t\t0.9215219976218787\n",
      "Test Accuracy:\t\t0.9215244532056698\n",
      "\n",
      "Train Recall:\t\t0.8548895899053628\n",
      "Test Recall:\t\t0.8675078864353313\n",
      "\n",
      "Train Precision:\t0.2554194156456173\n",
      "Test Precision:\t\t0.25724976613657624\n",
      "\n",
      "Train f1:\t\t0.39332365747460085\n",
      "Test f1:\t\t0.3968253968253969\n",
      "\n",
      "Train ROC-AUC:\t\t0.9427481980002684\n",
      "Test ROC-AUC:\t\t0.9419048366067332\n"
     ]
    },
    {
     "data": {
      "image/png": "[encoded data removed]",
      "text/plain": [
       "<Figure size 432x288 with 2 Axes>"
      ]
     },
     "metadata": {
      "needs_background": "light"
     },
     "output_type": "display_data"
    },
    {
     "data": {
      "image/png": "[encoded data removed]",
      "text/plain": [
       "<Figure size 432x288 with 1 Axes>"
      ]
     },
     "metadata": {
      "needs_background": "light"
     },
     "output_type": "display_data"
    }
   ],
   "source": [
    "drop_tree_three = Pipeline(steps=[\n",
    "    ('preproc', full_preprocessor),\n",
    "    ('tree', DecisionTreeClassifier(class_weight='balanced', random_state=42,\n",
    "                                   max_depth=4, min_samples_leaf=1, min_samples_split=2))\n",
    "])\n",
    "\n",
    "drop_tree_three.fit(X_train, y_train)\n",
    "display_metrics(drop_tree_three, X_train, X_test, y_train, y_test)"
   ]
  },
  {
   "cell_type": "code",
   "execution_count": 24,
   "metadata": {},
   "outputs": [],
   "source": [
    "feature_importance = dict(zip(use_cols, drop_tree_three.named_steps['tree'].feature_importances_))"
   ]
  },
  {
   "cell_type": "code",
   "execution_count": 25,
   "metadata": {},
   "outputs": [
    {
     "name": "stdout",
     "output_type": "stream",
     "text": [
      "SC_SEX: 0.0010415812889254662\n",
      "K2Q36B: 0.14520659402138145\n",
      "K2Q30A: 0.0164582479828692\n",
      "K2Q31A: 0.016165096556720847\n",
      "SESCURRSVC: 0.012827480849147012\n",
      "BIRTHWT_VL: 0.0011622919606422896\n",
      "SC_K2Q22: 0.6888768303484661\n",
      "SC_K2Q19: 0.03085418744872169\n",
      "BIRTHWT_OZ_S: 0.0024020464937767353\n",
      "MAKEFRIEND: 0.08500564304934906\n"
     ]
    }
   ],
   "source": [
    "for key, val in feature_importance.items():\n",
    "    if val > 0:\n",
    "        print(F'{key}: {val}')"
   ]
  },
  {
   "cell_type": "markdown",
   "metadata": {},
   "source": [
    "SC_SEX: Keep\n",
    "\n",
    "K2Q36B: Developmental delay; keep, but might drop later\n",
    "\n",
    "SESCURRSVC: Drop\n",
    "\n",
    "K4Q38: Drop\n",
    "\n",
    "SC_K2Q22: Keep, might drop later\n",
    "\n",
    "SC_K2Q19: Drop\n",
    "\n",
    "SC_K2Q13: Drop\n",
    "\n",
    "TOTKIDS_R: Drop\n",
    "\n",
    "SC_AGE_YEARS: Keep\n",
    "\n",
    "HOWMUCH: Drop\n",
    "\n",
    "MAKEFRIEND: Keep"
   ]
  },
  {
   "cell_type": "code",
   "execution_count": 26,
   "metadata": {},
   "outputs": [],
   "source": [
    "# Read in dataframe\n",
    "df = pd.read_sas('../../data/nsch_2020_topical.sas7bdat')\n",
    "\n",
    "# Map target column to boolean and rename to target\n",
    "mask = {\n",
    "    1.0: 1.0,\n",
    "    2.0: 0.0\n",
    "}\n",
    "df['Target'] = df['K2Q35A'].map(mask)\n",
    "\n",
    "# Drop rows where target is null\n",
    "df.dropna(subset=['Target'], inplace=True)\n",
    "\n",
    "# Define which columns to drop\n",
    "drop_cols = [\n",
    "    'A1_ACTIVE', 'A1_AGE', 'A1_BORN', 'A1_DEPLSTAT', 'A1_EMPLOYED', 'A1_GRADE', 'A1_LIVEUSA', 'A1_MARITAL',\n",
    "    'A1_MENTHEALTH', 'A1_PHYSHEALTH', 'A1_RELATION', 'A1_SEX', 'A2_ACTIVE', 'A2_AGE', 'A2_BORN', 'A2_DEPLSTAT', \n",
    "    'A2_EMPLOYED', 'A2_GRADE', 'A2_LIVEUSA', 'A2_MARITAL', 'A2_MENTHEALTH', 'A2_PHYSHEALTH', 'A2_RELATION', 'A2_SEX', \n",
    "    'ALLERGIES_DESC', 'ARTHRITIS_DESC', 'ASKQUESTION', 'ASKQUESTION2', 'AUTISMMED', 'AUTISMTREAT', 'BESTFORCHILD', \n",
    "    'BLOOD_DESC', 'BMICLASS', 'BREASTFEDEND_DAY_S', 'BREASTFEDEND_MO_S', 'BREASTFEDEND_WK_S', 'CALMDOWN', 'CERPALS_DESC',\n",
    "    'CLEAREXP', 'COLOR', 'CONFIDENT', 'COUNTTO', 'DIRECTIONS', 'DIRECTIONS2', 'DISCUSSOPT', 'DISTRACTED', 'DOCPRIVATE',\n",
    "    'FAMCOUNT', 'FIPSST', 'FORMTYPE', 'FRSTFORMULA_DAY_S', 'FRSTFORMULA_MO_S','FRSTFORMULA_WK_S', 'FRSTSOLIDS_DAY_S', \n",
    "    'FRSTSOLIDS_MO_S', 'FRSTSOLIDS_WK_S', 'GENETIC_DESC', 'HCEXTENT', 'HEADACHE_DESC', 'HEART_DESC', 'HHCOUNT',\n",
    "    'HHCOUNT_IF', 'HHID', 'HOURSLEEP', 'HOURSLEEP05', 'HURTSAD', 'K12Q01_A', 'K12Q01_B', 'K12Q01_C', 'K12Q01_D', \n",
    "    'K12Q01_E', 'K12Q01_F', 'K12Q01_G', 'K2Q30C', 'K2Q31C', 'K2Q32C', 'K2Q33C', 'K2Q34C', 'K2Q35A', 'K2Q35A_1_YEARS', \n",
    "    'K2Q35B', 'K2Q35C', 'K2Q35D', 'K2Q36C', 'K2Q37C', 'K2Q38C', 'K2Q40C', 'K2Q41C', 'K2Q42C', 'K2Q60C', 'K4Q26',\n",
    "    'K4Q28X_EAR','K4Q37', 'K5Q11','K5Q21', 'K5Q22', 'K5Q32','K6Q08_R','K6Q10','K6Q12','K6Q13A','K6Q13B','K6Q14A','K6Q14B',\n",
    "    'K6Q20','K6Q27', 'K6Q40', 'K6Q41R_STILL','K6Q42R_NEVER','K6Q43R_NEVER','K6Q60_R','K6Q61_R','K6Q70_R','K6Q72_R',\n",
    "    'K6Q73_R','K9Q41', 'KEEPINSADULT','LIVEUSA_MO','LIVEUSA_YR','LIVEUSA_YR', 'K6Q42R_NEVER','MEDHISTORY','NEWACTIVITY',\n",
    "    'ONEWORD','PLANNEEDS_R','PLAYWELL','POINT','RAISECONC','RECEIVECOPY','RECOGABC','RECOGBEGIN','RECSHAPES','RHYMEWORD',\n",
    "    'SC_K2Q11','SC_K2Q12','SC_K2Q14','SC_K2Q15','SC_K2Q17','SC_K2Q18','SC_K2Q20','SC_K2Q21','SC_K2Q23','SC_RACEAIAN',\n",
    "    'SC_RACEASIA','SESPLANMO','SESPLANYR','SIMPLEINST','SITSTILL','SLEEPPOS', 'SPCSERVMO','STARTSCHOOL','STRATUM',\n",
    "    'TELLSTORY','TEMPER','THREEWORDS','TREATADULT', 'TREATNEED', 'TWOWORDS','UNDERSTAND', 'UNDERSTAND2', 'USEPENCIL', \n",
    "    'WORKTOFIN', 'WRITENAME', 'HEALTHKNOW', 'K8Q35', 'EMOSUPSPO', 'EMOSUPFAM', 'EMOSUPHCP', 'EMOSUPWOR', 'EMOSUPADV', \n",
    "    'EMOSUPPEER', 'EMOSUPMHP', 'EMOSUPOTH', 'K3Q20', 'K3Q22', 'K3Q21B', 'K7Q02R_R', 'DOCROOM', 'K4Q02_R', 'DENTISTVISIT', \n",
    "    'FWC', 'A1_GRADE_IF', 'FPL_IF', 'HIGRADE_TVIS', 'HIGRADE', 'INSTYPE', 'INSGAP', 'CURRINS', 'HOUSE_GEN', 'SC_SEX_IF', \n",
    "    'SC_HISPANIC_R_IF', 'SC_RACE_R_IF', 'TOTFEMALE', 'TOTMALE', 'AGEPOS4', 'SC_AGE_LT10', 'SC_AGE_LT9', 'SC_AGE_LT6', \n",
    "    'SC_AGE_LT4', 'TOTNONSHCN', 'TOTCSHCN', 'TOTAGE_12_17', 'TOTAGE_6_11', 'TOTAGE_0_5', 'MPC_YN', 'YEAR', 'K3Q04_R', \n",
    "    'TENURE', 'K4Q36', 'SC_CSHCN', 'K2Q36A', 'SESCURRSVC', 'K4Q38', 'SC_K2Q19', 'SC_K2Q13', 'TOTKIDS_R', 'HOWMUCH'\n",
    "] \n",
    "\n",
    "# Define which cols to impute with no\n",
    "no_cols = [\n",
    "    'SC_SEX', 'K4Q32X01', 'K4Q32X02', 'K4Q32X03', 'K4Q32X04', 'K4Q32X05', 'DENTALSERV1', 'DENTALSERV2', 'DENTALSERV3',\n",
    "    'DENTALSERV4', 'DENTALSERV5', 'DENTALSERV6', 'DENTALSERV7', 'K4Q28X01', 'K4Q28X02', 'K4Q28X03', 'K4Q28X04', 'K4Q28X05',\n",
    "    'BREATHING', 'SWALLOWING', 'STOMACH', 'PHYSICALPAIN', 'HANDS', 'COORDINATION', 'TOOTHACHES', 'GUMBLEED', 'CAVITIES',\n",
    "    'MEMORYCOND', 'WALKSTAIRS', 'DRESSING', 'ERRANDALONE', 'K2Q43B', 'BLINDNESS', 'ALLERGIES', 'ALLERGIES_CURR',\n",
    "    'ARTHRITIS', 'ARTHRITIS_CURR', 'K2Q40A', 'K2Q40B', 'K2Q61A', 'K2Q61B', 'K2Q41A', 'K2Q41B', 'K2Q42A', 'K2Q42B', 'HEART',\n",
    "    'HEART_BORN', 'HEART_CURR', 'HEADACHE', 'HEADACHE_CURR', 'K2Q38A', 'K2Q38B', 'K2Q33A', 'K2Q33B', 'K2Q32A', 'K2Q32B',\n",
    "    'DOWNSYN', 'BLOOD', 'SICKLECELL', 'THALASSEMIA', 'BLOOD_OTHER', 'BLOOD_SCREEN', 'CYSTFIB', 'CYSTFIB_SCREEN', 'GENETIC',\n",
    "    'GENETIC_SCREEN', 'K2Q34A', 'K2Q34B', 'K2Q36B', 'K2Q60A', 'K2Q60B', 'K2Q37A', 'K2Q37B', 'K2Q30A', 'K2Q30B',\n",
    "    'K2Q31A', 'K2Q31B', 'K2Q31D', 'ADDTREAT', 'CONCUSSION', 'SEEKCARE', 'CONFIRMINJURY', 'K2Q05', 'OVERWEIGHT', 'K4Q01',\n",
    "    'USUALGO', 'USUALSICK', 'K4Q31_R', 'K4Q23', 'ALTHEALTH', 'K4Q27', 'NOTELIG', 'AVAILABLE', 'APPOINTMENT', 'TRANSPORTCC',\n",
    "    'NOTOPEN', 'ISSUECOST', 'HOSPITALSTAY', 'K5Q10', 'DECISIONS', 'K12Q03', 'K12Q04',\n",
    "    'K12Q12', 'TRICARE', 'K11Q03R', 'HCCOVOTH', 'K3Q25', 'REPEATED', 'K7Q30', 'K7Q31', 'K7Q32', 'K7Q37', 'K7Q38', 'ACE3',\n",
    "    'ACE4', 'ACE5', 'ACE6', 'ACE7', 'ACE8', 'ACE9', 'ACE10', 'ACE12', 'ACE1', 'K7Q04R_R', 'WGTCONC', 'K4Q22_R', 'K4Q24_R',\n",
    "    'K4Q24_R', 'K4Q04_R', 'K5Q31_R',  'BIRTHWT', 'BIRTHWT_L', 'BIRTHWT_VL', 'SC_K2Q22', 'SC_K2Q16',\n",
    "    'SC_K2Q10', 'K4Q30_R', 'K4Q30_R'\n",
    "]\n",
    "\n",
    "# Define which cols to impute with yes\n",
    "yes_cols = [\n",
    "    'S4Q01', 'CURRCOV', 'BORNUSA'\n",
    "]\n",
    "\n",
    "# Define which cols to impute with mode\n",
    "mode_cols = [\n",
    "    'HHLANGUAGE', 'K9Q40', 'K11Q60', 'K11Q61', 'K11Q62', 'S9Q34', 'K10Q11', 'K10Q12', 'K10Q13', 'K10Q14', 'K10Q20',\n",
    "    'K10Q22', 'K10Q23', 'K9Q96', 'BULLIED_R', 'BULLY', 'SC_AGE_YEARS', 'BIRTH_MO', 'BIRTH_YR', 'SC_RACER', \n",
    "    'SC_RACE_R'\n",
    "]\n",
    "\n",
    "# Define which cols to impute with median\n",
    "med_cols = [\n",
    "    'MOMAGE', 'K11Q43R', 'K2Q01', 'K2Q01_D', 'K6Q71_R', 'TALKABOUT', 'WKTOSOLVE', 'STRENGTHS', 'HOPEFUL', 'K10Q30',\n",
    "    'K10Q31', 'K10Q40_R', 'GOFORHELP', 'K10Q41_R', 'K8Q31', 'K8Q32', 'K8Q34', 'ATHOMEHC', 'ARRANGEHC',\n",
    "    'SCREENTIME', 'K8Q11', 'HCABILITY', 'K8Q30', 'K8Q21', 'FAMILY_R', 'BIRTHWT_OZ_S', 'SC_ENGLISH', 'MAKEFRIEND',\n",
    "    'BEDTIME', 'K7Q33'\n",
    "]\n",
    "\n",
    "# Define which cols to impute with median and add null flag\n",
    "med_flag_cols = [\n",
    "    'K5Q40', 'K5Q41', 'K5Q42', 'K5Q43', 'K5Q44', 'FOODSIT', 'MENBEVCOV'\n",
    "]\n",
    "\n",
    "# Define which cols to impute with constant 5\n",
    "five_cols = [\n",
    "    'K7Q84_R', 'K7Q85_R', 'K7Q82_R', 'K7Q83_R', 'K7Q70_R', 'K8Q21'\n",
    "]\n",
    "\n",
    "# Define lists to be used later\n",
    "bool_cols = [*no_cols, *yes_cols]\n",
    "use_cols = [*no_cols, *yes_cols, *mode_cols, *med_cols, *med_flag_cols, *five_cols]\n",
    "\n",
    "# Adds remaining columns with many nulls to drop cols\n",
    "for col in df.columns:\n",
    "    if col not in use_cols and col not in drop_cols:\n",
    "        if (df[col].isna().sum() / len(df)) > .5:\n",
    "            drop_cols.append(col)\n",
    "\n",
    "# Map boolean columns to boolean\n",
    "bool_mask = {\n",
    "    1: 1,\n",
    "    2: 0,\n",
    "    3: 0\n",
    "}\n",
    "for col in bool_cols:\n",
    "    df[col] = df[col].map(bool_mask)\n",
    "\n",
    "# Define imputers to make up preprocessor\n",
    "no_imp = Pipeline(steps=[\n",
    "    ('no_imp', SimpleImputer(strategy='constant', fill_value=0))\n",
    "])\n",
    "yes_imp = Pipeline(steps=[\n",
    "    ('yes_imp', SimpleImputer(strategy='constant', fill_value=1))\n",
    "])\n",
    "mode_imp = Pipeline(steps=[\n",
    "    ('mode_imp', SimpleImputer(strategy='most_frequent'))\n",
    "])\n",
    "med_imp = Pipeline(steps=[\n",
    "    ('med_imp', SimpleImputer(strategy='median'))\n",
    "])\n",
    "med_flag_imp = Pipeline(steps=[\n",
    "    ('med_flag_imp', SimpleImputer(strategy='median', add_indicator=True))\n",
    "])\n",
    "five_imp = Pipeline(steps=[\n",
    "    ('five_imp', SimpleImputer(strategy='constant', fill_value=5))\n",
    "])\n",
    "\n",
    "# Create full preprocessor\n",
    "full_preprocessor = ColumnTransformer(transformers=[\n",
    "    ('no_pre', no_imp, no_cols),\n",
    "    ('yes_pre', yes_imp, yes_cols),\n",
    "    ('mode_pre', mode_imp, mode_cols),\n",
    "    ('med_cols', med_imp, med_cols),\n",
    "    ('med_flag_cols', med_flag_imp, med_flag_cols),\n",
    "    ('five_cols', five_imp, five_cols)\n",
    "])\n",
    "\n",
    "# Drop the dropcols\n",
    "df = df.drop(columns=[*drop_cols])\n",
    "\n",
    "# Split to x and y\n",
    "y = df['Target']\n",
    "X = df.drop(columns=['Target'])\n",
    "\n",
    "# Train test split\n",
    "X_train, X_test, y_train, y_test = train_test_split(X, y, stratify=y)"
   ]
  },
  {
   "cell_type": "code",
   "execution_count": 27,
   "metadata": {},
   "outputs": [
    {
     "name": "stdout",
     "output_type": "stream",
     "text": [
      "Fitting 5 folds for each of 504 candidates, totalling 2520 fits\n"
     ]
    },
    {
     "name": "stderr",
     "output_type": "stream",
     "text": [
      "[Parallel(n_jobs=-1)]: Using backend LokyBackend with 8 concurrent workers.\n",
      "[Parallel(n_jobs=-1)]: Done  34 tasks      | elapsed:   15.7s\n",
      "[Parallel(n_jobs=-1)]: Done 184 tasks      | elapsed:  1.1min\n",
      "[Parallel(n_jobs=-1)]: Done 434 tasks      | elapsed:  2.0min\n",
      "[Parallel(n_jobs=-1)]: Done 784 tasks      | elapsed:  3.2min\n",
      "[Parallel(n_jobs=-1)]: Done 1234 tasks      | elapsed:  5.7min\n",
      "[Parallel(n_jobs=-1)]: Done 1784 tasks      | elapsed:  8.0min\n",
      "[Parallel(n_jobs=-1)]: Done 2434 tasks      | elapsed: 10.8min\n",
      "[Parallel(n_jobs=-1)]: Done 2520 out of 2520 | elapsed: 11.2min finished\n"
     ]
    },
    {
     "data": {
      "text/plain": [
       "GridSearchCV(cv=StratifiedKFold(n_splits=5, random_state=None, shuffle=False),\n",
       "             estimator=Pipeline(steps=[('preproc',\n",
       "                                        ColumnTransformer(transformers=[('no_pre',\n",
       "                                                                         Pipeline(steps=[('no_imp',\n",
       "                                                                                          SimpleImputer(fill_value=0,\n",
       "                                                                                                        strategy='constant'))]),\n",
       "                                                                         ['SC_SEX',\n",
       "                                                                          'K4Q32X01',\n",
       "                                                                          'K4Q32X02',\n",
       "                                                                          'K4Q32X03',\n",
       "                                                                          'K4Q32X04',\n",
       "                                                                          'K4Q32X05',\n",
       "                                                                          'DENTALSERV1',\n",
       "                                                                          'DENTALSERV2',\n",
       "                                                                          'DENTALSERV3',\n",
       "                                                                          'DENTALSERV...\n",
       "                                                                          'K7Q85_R',\n",
       "                                                                          'K7Q82_R',\n",
       "                                                                          'K7Q83_R',\n",
       "                                                                          'K7Q70_R',\n",
       "                                                                          'K8Q21'])])),\n",
       "                                       ('tree',\n",
       "                                        DecisionTreeClassifier(class_weight='balanced',\n",
       "                                                               random_state=42))]),\n",
       "             n_jobs=-1,\n",
       "             param_grid={'tree__criterion': ['gini', 'entropy'],\n",
       "                         'tree__max_depth': [None, 1, 2, 3, 4, 5, 10],\n",
       "                         'tree__min_samples_leaf': [1, 2, 3, 4, 5, 10],\n",
       "                         'tree__min_samples_split': [1, 2, 3, 4, 5, 10]},\n",
       "             return_train_score=True, scoring='recall', verbose=1)"
      ]
     },
     "execution_count": 27,
     "metadata": {},
     "output_type": "execute_result"
    }
   ],
   "source": [
    "grid_tree = Pipeline(steps=[\n",
    "    ('preproc', full_preprocessor),\n",
    "    ('tree', DecisionTreeClassifier(class_weight='balanced', random_state=42))\n",
    "])\n",
    "\n",
    "param_grid = {\n",
    "    'tree__criterion': ['gini', 'entropy'],\n",
    "    'tree__max_depth': [None, 1,2,3,4,5,10],\n",
    "    'tree__min_samples_leaf': [1,2,3,4,5,10],\n",
    "    'tree__min_samples_split': [1,2,3,4,5,10]\n",
    "}\n",
    "\n",
    "gs = GridSearchCV(estimator=grid_tree, param_grid=param_grid,\n",
    "                             n_jobs=-1, \n",
    "                             verbose=1,\n",
    "                             return_train_score=True,\n",
    "                             scoring='recall',\n",
    "                             cv=StratifiedKFold(n_splits=5))\n",
    "\n",
    "gs.fit(X_train, y_train)"
   ]
  },
  {
   "cell_type": "code",
   "execution_count": 28,
   "metadata": {},
   "outputs": [
    {
     "data": {
      "text/plain": [
       "{'tree__criterion': 'entropy',\n",
       " 'tree__max_depth': 2,\n",
       " 'tree__min_samples_leaf': 1,\n",
       " 'tree__min_samples_split': 2}"
      ]
     },
     "execution_count": 28,
     "metadata": {},
     "output_type": "execute_result"
    }
   ],
   "source": [
    "gs.best_params_"
   ]
  },
  {
   "cell_type": "code",
   "execution_count": 29,
   "metadata": {},
   "outputs": [
    {
     "name": "stdout",
     "output_type": "stream",
     "text": [
      "\n",
      "Train Accuracy:\t\t0.7822454471493836\n",
      "Test Accuracy:\t\t0.7809067868206139\n",
      "\n",
      "Train Recall:\t\t0.9369085173501577\n",
      "Test Recall:\t\t0.889589905362776\n",
      "\n",
      "Train Precision:\t0.11437740693196406\n",
      "Test Precision:\t\t0.10925997675319643\n",
      "\n",
      "Train f1:\t\t0.20386683445829998\n",
      "Test f1:\t\t0.19461697722567287\n",
      "\n",
      "Train ROC-AUC:\t\t0.9155216706434153\n",
      "Test ROC-AUC:\t\t0.8859930926546278\n"
     ]
    },
    {
     "data": {
      "image/png": "[encoded data removed]",
      "text/plain": [
       "<Figure size 432x288 with 2 Axes>"
      ]
     },
     "metadata": {
      "needs_background": "light"
     },
     "output_type": "display_data"
    },
    {
     "data": {
      "image/png": "[encoded data removed]",
      "text/plain": [
       "<Figure size 432x288 with 1 Axes>"
      ]
     },
     "metadata": {
      "needs_background": "light"
     },
     "output_type": "display_data"
    }
   ],
   "source": [
    "display_metrics(gs.best_estimator_, X_train, X_test, y_train, y_test)"
   ]
  },
  {
   "cell_type": "code",
   "execution_count": null,
   "metadata": {},
   "outputs": [],
   "source": []
  }
 ],
 "metadata": {
  "kernelspec": {
   "display_name": "Python (learn-env)",
   "language": "python",
   "name": "learn-env"
  },
  "language_info": {
   "codemirror_mode": {
    "name": "ipython",
    "version": 3
   },
   "file_extension": ".py",
   "mimetype": "text/x-python",
   "name": "python",
   "nbconvert_exporter": "python",
   "pygments_lexer": "ipython3",
   "version": "3.8.5"
  }
 },
 "nbformat": 4,
 "nbformat_minor": 4
}
