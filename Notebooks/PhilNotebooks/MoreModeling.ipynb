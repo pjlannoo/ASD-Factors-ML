{
 "cells": [
  {
   "cell_type": "code",
   "execution_count": 1,
   "metadata": {},
   "outputs": [],
   "source": [
    "#Initial imports \n",
    "import pandas as pd\n",
    "import numpy as np\n",
    "import matplotlib.pyplot as plt\n",
    "import seaborn as sns\n",
    "\n",
    "from sklearn.impute import SimpleImputer\n",
    "from sklearn.model_selection import train_test_split, cross_val_score, GridSearchCV, StratifiedKFold\n",
    "from sklearn.preprocessing import StandardScaler, OneHotEncoder, MinMaxScaler\n",
    "from sklearn.metrics import accuracy_score, f1_score, recall_score, roc_auc_score, plot_confusion_matrix\n",
    "from sklearn.metrics import confusion_matrix, plot_roc_curve, precision_score\n",
    "from sklearn.pipeline import Pipeline\n",
    "from sklearn.compose import ColumnTransformer\n",
    "from sklearn.decomposition import PCA\n",
    "\n",
    "from sklearn.linear_model import LogisticRegression\n",
    "from sklearn.tree import DecisionTreeClassifier\n",
    "from sklearn.neighbors import KNeighborsClassifier\n",
    "from sklearn.ensemble import VotingClassifier, BaggingClassifier, RandomForestClassifier\n",
    "from sklearn.ensemble import ExtraTreesClassifier, StackingRegressor, AdaBoostClassifier\n",
    "from sklearn.naive_bayes import GaussianNB, MultinomialNB, ComplementNB\n",
    "\n",
    "# Set pandas to display all columns, since our data has many columns and we'd like to see them all\n",
    "pd.set_option('display.max_columns', None)"
   ]
  },
  {
   "cell_type": "code",
   "execution_count": 48,
   "metadata": {},
   "outputs": [],
   "source": [
    "def display_metrics(fit_model, Xtr, Xte, ytr, yte):\n",
    "    '''\n",
    "    This function takes in a model that's already been fit, then X and y train and test data.\n",
    "    It uses the fitted model to get predicted values for the train and test data,\n",
    "    and then uses sklearn's score functions to print out the accuracy, recall, precision,  f1, and roc-auc scores.\n",
    "    It then plots a confusion matrix of the test data.\n",
    "    '''\n",
    "    train_preds = fit_model.predict(Xtr)\n",
    "    test_preds = fit_model.predict(Xte)\n",
    "    train_probs = fit_model.predict_proba(Xtr)[:,1]\n",
    "    test_probs = fit_model.predict_proba(Xte)[:,1]\n",
    "\n",
    "    train_accuracy = accuracy_score(ytr, train_preds)\n",
    "    test_accuracy = accuracy_score(yte, test_preds)\n",
    "    train_recall = recall_score(ytr, train_preds, zero_division=0)\n",
    "    test_recall = recall_score(yte, test_preds, zero_division=0)\n",
    "    train_precision = precision_score(ytr, train_preds, zero_division=0)\n",
    "    test_precision = precision_score(yte, test_preds, zero_division=0)\n",
    "    train_f1 = f1_score(ytr, train_preds, zero_division=0)\n",
    "    test_f1 = f1_score(yte, test_preds, zero_division=0)\n",
    "    train_rocauc = roc_auc_score(ytr, train_probs)\n",
    "    test_rocauc = roc_auc_score(yte, test_probs)\n",
    "\n",
    "    print(F'\\nTrain Accuracy:\\t\\t{train_accuracy}')\n",
    "    print(F'Test Accuracy:\\t\\t{test_accuracy}')\n",
    "    print(F\"\\nTrain Recall:\\t\\t{train_recall}\")\n",
    "    print(F'Test Recall:\\t\\t{test_recall}')\n",
    "    print(F\"\\nTrain Precision:\\t{train_precision}\")\n",
    "    print(F'Test Precision:\\t\\t{test_precision}')\n",
    "    print(F\"\\nTrain f1:\\t\\t{train_f1}\")\n",
    "    print(F'Test f1:\\t\\t{test_f1}')\n",
    "    print(F\"\\nTrain ROC-AUC:\\t\\t{train_rocauc}\")\n",
    "    print(F'Test ROC-AUC:\\t\\t{test_rocauc}')\n",
    "    \n",
    "    plot_confusion_matrix(fit_model, Xte, yte)\n",
    "    plot_roc_curve(fit_model, Xte, yte)"
   ]
  },
  {
   "cell_type": "code",
   "execution_count": 3,
   "metadata": {},
   "outputs": [],
   "source": [
    "# Read in dataframe\n",
    "df = pd.read_sas('../../data/nsch_2020_topical.sas7bdat')\n",
    "\n",
    "# Map target column to boolean and rename to target\n",
    "mask = {\n",
    "    1.0: 1.0,\n",
    "    2.0: 0.0\n",
    "}\n",
    "df['Target'] = df['K2Q35A'].map(mask)\n",
    "\n",
    "# Drop rows where target is null\n",
    "df.dropna(subset=['Target'], inplace=True)"
   ]
  },
  {
   "cell_type": "code",
   "execution_count": 4,
   "metadata": {},
   "outputs": [],
   "source": [
    "# Define which columns to drop\n",
    "drop_cols = [\n",
    "    'A1_ACTIVE', 'A1_AGE', 'A1_BORN', 'A1_DEPLSTAT', 'A1_EMPLOYED', 'A1_GRADE', 'A1_LIVEUSA', 'A1_MARITAL',\n",
    "    'A1_MENTHEALTH', 'A1_PHYSHEALTH', 'A1_RELATION', 'A1_SEX', 'A2_ACTIVE', 'A2_AGE', 'A2_BORN', 'A2_DEPLSTAT', \n",
    "    'A2_EMPLOYED', 'A2_GRADE', 'A2_LIVEUSA', 'A2_MARITAL', 'A2_MENTHEALTH', 'A2_PHYSHEALTH', 'A2_RELATION', 'A2_SEX', \n",
    "    'ALLERGIES_DESC', 'ARTHRITIS_DESC', 'ASKQUESTION', 'ASKQUESTION2', 'AUTISMMED', 'AUTISMTREAT', 'BESTFORCHILD', \n",
    "    'BLOOD_DESC', 'BMICLASS', 'BREASTFEDEND_DAY_S', 'BREASTFEDEND_MO_S', 'BREASTFEDEND_WK_S', 'CALMDOWN', 'CERPALS_DESC',\n",
    "    'CLEAREXP', 'COLOR', 'CONFIDENT', 'COUNTTO', 'DIRECTIONS', 'DIRECTIONS2', 'DISCUSSOPT', 'DISTRACTED', 'DOCPRIVATE',\n",
    "    'FAMCOUNT', 'FIPSST', 'FORMTYPE', 'FRSTFORMULA_DAY_S', 'FRSTFORMULA_MO_S','FRSTFORMULA_WK_S', 'FRSTSOLIDS_DAY_S', \n",
    "    'FRSTSOLIDS_MO_S', 'FRSTSOLIDS_WK_S', 'GENETIC_DESC', 'HCEXTENT', 'HEADACHE_DESC', 'HEART_DESC', 'HHCOUNT',\n",
    "    'HHCOUNT_IF', 'HHID', 'HOURSLEEP', 'HOURSLEEP05', 'HURTSAD', 'K12Q01_A', 'K12Q01_B', 'K12Q01_C', 'K12Q01_D', \n",
    "    'K12Q01_E', 'K12Q01_F', 'K12Q01_G', 'K2Q30C', 'K2Q31C', 'K2Q32C', 'K2Q33C', 'K2Q34C', 'K2Q35A', 'K2Q35A_1_YEARS', \n",
    "    'K2Q35B', 'K2Q35C', 'K2Q35D', 'K2Q36C', 'K2Q37C', 'K2Q38C', 'K2Q40C', 'K2Q41C', 'K2Q42C', 'K2Q60C', 'K4Q26',\n",
    "    'K4Q28X_EAR','K4Q37', 'K5Q11','K5Q21', 'K5Q22', 'K5Q32','K6Q08_R','K6Q10','K6Q12','K6Q13A','K6Q13B','K6Q14A','K6Q14B',\n",
    "    'K6Q20','K6Q27', 'K6Q40', 'K6Q41R_STILL','K6Q42R_NEVER','K6Q43R_NEVER','K6Q60_R','K6Q61_R','K6Q70_R','K6Q72_R',\n",
    "    'K6Q73_R','K9Q41', 'KEEPINSADULT','LIVEUSA_MO','LIVEUSA_YR','LIVEUSA_YR', 'K6Q42R_NEVER','MEDHISTORY','NEWACTIVITY',\n",
    "    'ONEWORD','PLANNEEDS_R','PLAYWELL','POINT','RAISECONC','RECEIVECOPY','RECOGABC','RECOGBEGIN','RECSHAPES','RHYMEWORD',\n",
    "    'SC_K2Q11','SC_K2Q12','SC_K2Q14','SC_K2Q15','SC_K2Q17','SC_K2Q18','SC_K2Q20','SC_K2Q21','SC_K2Q23','SC_RACEAIAN',\n",
    "    'SC_RACEASIA','SESPLANMO','SESPLANYR','SIMPLEINST','SITSTILL','SLEEPPOS', 'SPCSERVMO','STARTSCHOOL','STRATUM',\n",
    "    'TELLSTORY','TEMPER','THREEWORDS','TREATADULT', 'TREATNEED', 'TWOWORDS','UNDERSTAND', 'UNDERSTAND2', 'USEPENCIL', \n",
    "    'WORKTOFIN', 'WRITENAME', 'HEALTHKNOW', 'K8Q35', 'EMOSUPSPO', 'EMOSUPFAM', 'EMOSUPHCP', 'EMOSUPWOR', 'EMOSUPADV', \n",
    "    'EMOSUPPEER', 'EMOSUPMHP', 'EMOSUPOTH', 'K3Q20', 'K3Q22', 'K3Q21B', 'K7Q02R_R', 'DOCROOM', 'K4Q02_R', 'DENTISTVISIT', \n",
    "    'FWC', 'A1_GRADE_IF', 'FPL_IF', 'HIGRADE_TVIS', 'HIGRADE', 'INSTYPE', 'INSGAP', 'CURRINS', 'HOUSE_GEN', 'SC_SEX_IF', \n",
    "    'SC_HISPANIC_R_IF', 'SC_RACE_R_IF', 'TOTFEMALE', 'TOTMALE', 'AGEPOS4', 'SC_AGE_LT10', 'SC_AGE_LT9', 'SC_AGE_LT6', \n",
    "    'SC_AGE_LT4', 'TOTNONSHCN', 'TOTCSHCN', 'TOTAGE_12_17', 'TOTAGE_6_11', 'TOTAGE_0_5', 'MPC_YN', 'YEAR', 'K3Q04_R', \n",
    "    'TENURE'\n",
    "]\n",
    "\n",
    "# Define which cols to impute with no\n",
    "no_cols = [\n",
    "    'SC_SEX', 'K4Q32X01', 'K4Q32X02', 'K4Q32X03', 'K4Q32X04', 'K4Q32X05', 'DENTALSERV1', 'DENTALSERV2', 'DENTALSERV3',\n",
    "    'DENTALSERV4', 'DENTALSERV5', 'DENTALSERV6', 'DENTALSERV7', 'K4Q28X01', 'K4Q28X02', 'K4Q28X03', 'K4Q28X04', 'K4Q28X05',\n",
    "    'BREATHING', 'SWALLOWING', 'STOMACH', 'PHYSICALPAIN', 'HANDS', 'COORDINATION', 'TOOTHACHES', 'GUMBLEED', 'CAVITIES',\n",
    "    'MEMORYCOND', 'WALKSTAIRS', 'DRESSING', 'ERRANDALONE', 'K2Q43B', 'BLINDNESS', 'ALLERGIES', 'ALLERGIES_CURR',\n",
    "    'ARTHRITIS', 'ARTHRITIS_CURR', 'K2Q40A', 'K2Q40B', 'K2Q61A', 'K2Q61B', 'K2Q41A', 'K2Q41B', 'K2Q42A', 'K2Q42B', 'HEART',\n",
    "    'HEART_BORN', 'HEART_CURR', 'HEADACHE', 'HEADACHE_CURR', 'K2Q38A', 'K2Q38B', 'K2Q33A', 'K2Q33B', 'K2Q32A', 'K2Q32B',\n",
    "    'DOWNSYN', 'BLOOD', 'SICKLECELL', 'THALASSEMIA', 'BLOOD_OTHER', 'BLOOD_SCREEN', 'CYSTFIB', 'CYSTFIB_SCREEN', 'GENETIC',\n",
    "    'GENETIC_SCREEN', 'K2Q34A', 'K2Q34B', 'K2Q36A', 'K2Q36B', 'K2Q60A', 'K2Q60B', 'K2Q37A', 'K2Q37B', 'K2Q30A', 'K2Q30B',\n",
    "    'K2Q31A', 'K2Q31B', 'K2Q31D', 'ADDTREAT', 'CONCUSSION', 'SEEKCARE', 'CONFIRMINJURY', 'K2Q05', 'OVERWEIGHT', 'K4Q01',\n",
    "    'USUALGO', 'USUALSICK', 'K4Q31_R', 'K4Q23', 'ALTHEALTH', 'K4Q27', 'NOTELIG', 'AVAILABLE', 'APPOINTMENT', 'TRANSPORTCC',\n",
    "    'NOTOPEN', 'ISSUECOST', 'HOSPITALSTAY', 'SESCURRSVC', 'K4Q36', 'K4Q38', 'K5Q10', 'DECISIONS', 'K12Q03', 'K12Q04',\n",
    "    'K12Q12', 'TRICARE', 'K11Q03R', 'HCCOVOTH', 'K3Q25', 'REPEATED', 'K7Q30', 'K7Q31', 'K7Q32', 'K7Q37', 'K7Q38', 'ACE3',\n",
    "    'ACE4', 'ACE5', 'ACE6', 'ACE7', 'ACE8', 'ACE9', 'ACE10', 'ACE12', 'ACE1', 'K7Q04R_R', 'WGTCONC', 'K4Q22_R', 'K4Q24_R',\n",
    "    'K4Q24_R', 'K4Q04_R', 'K5Q31_R',  'BIRTHWT', 'BIRTHWT_L', 'BIRTHWT_VL', 'SC_K2Q22', 'SC_K2Q19', 'SC_K2Q16', 'SC_K2Q13',\n",
    "    'SC_K2Q10', 'SC_CSHCN', 'K4Q30_R', 'K4Q30_R'\n",
    "]\n",
    "\n",
    "# Define which cols to impute with yes\n",
    "yes_cols = [\n",
    "    'S4Q01', 'CURRCOV', 'BORNUSA'\n",
    "]\n",
    "\n",
    "# Define which cols to impute with mode\n",
    "mode_cols = [\n",
    "    'HHLANGUAGE', 'K9Q40', 'K11Q60', 'K11Q61', 'K11Q62', 'S9Q34', 'K10Q11', 'K10Q12', 'K10Q13', 'K10Q14', 'K10Q20',\n",
    "    'K10Q22', 'K10Q23', 'K9Q96', 'BULLIED_R', 'BULLY', 'TOTKIDS_R', 'SC_AGE_YEARS', 'BIRTH_MO', 'BIRTH_YR', 'SC_RACER', \n",
    "    'SC_RACE_R'\n",
    "]\n",
    "\n",
    "# Define which cols to impute with median\n",
    "med_cols = [\n",
    "    'MOMAGE', 'K11Q43R', 'K2Q01', 'K2Q01_D', 'K6Q71_R', 'TALKABOUT', 'WKTOSOLVE', 'STRENGTHS', 'HOPEFUL', 'K10Q30',\n",
    "    'K10Q31', 'K10Q40_R', 'GOFORHELP', 'K10Q41_R', 'HOWMUCH', 'K8Q31', 'K8Q32', 'K8Q34', 'ATHOMEHC', 'ARRANGEHC',\n",
    "    'SCREENTIME', 'K8Q11', 'HCABILITY', 'K8Q30', 'K8Q21', 'FAMILY_R', 'BIRTHWT_OZ_S', 'SC_ENGLISH', 'MAKEFRIEND',\n",
    "    'BEDTIME', 'K7Q33'\n",
    "]\n",
    "\n",
    "# Define which cols to impute with median and add null flag\n",
    "med_flag_cols = [\n",
    "    'K5Q40', 'K5Q41', 'K5Q42', 'K5Q43', 'K5Q44', 'FOODSIT', 'MENBEVCOV'\n",
    "]\n",
    "\n",
    "# Define which cols to impute with constant 5\n",
    "five_cols = [\n",
    "    'K7Q84_R', 'K7Q85_R', 'K7Q82_R', 'K7Q83_R', 'K7Q70_R', 'K8Q21'\n",
    "]\n",
    "\n",
    "# Define lists to be used later\n",
    "bool_cols = [*no_cols, *yes_cols]\n",
    "use_cols = [*no_cols, *yes_cols, *mode_cols, *med_cols, *med_flag_cols, *five_cols]\n",
    "\n",
    "# Adds remaining columns with many nulls to drop cols\n",
    "for col in df.columns:\n",
    "    if col not in use_cols and col not in drop_cols:\n",
    "        if (df[col].isna().sum() / len(df)) > .5:\n",
    "            drop_cols.append(col)"
   ]
  },
  {
   "cell_type": "code",
   "execution_count": 5,
   "metadata": {},
   "outputs": [],
   "source": [
    "# Map boolean columns to boolean\n",
    "bool_mask = {\n",
    "    1: 1,\n",
    "    2: 0,\n",
    "    3: 0\n",
    "}\n",
    "for col in bool_cols:\n",
    "    df[col] = df[col].map(bool_mask)\n",
    "\n",
    "# Define imputers to make up preprocessor\n",
    "no_imp = Pipeline(steps=[\n",
    "    ('no_imp', SimpleImputer(strategy='constant', fill_value=0))\n",
    "])\n",
    "yes_imp = Pipeline(steps=[\n",
    "    ('yes_imp', SimpleImputer(strategy='constant', fill_value=1))\n",
    "])\n",
    "mode_imp = Pipeline(steps=[\n",
    "    ('mode_imp', SimpleImputer(strategy='most_frequent'))\n",
    "])\n",
    "med_imp = Pipeline(steps=[\n",
    "    ('med_imp', SimpleImputer(strategy='median'))\n",
    "])\n",
    "med_flag_imp = Pipeline(steps=[\n",
    "    ('med_flag_imp', SimpleImputer(strategy='median', add_indicator=True))\n",
    "])\n",
    "five_imp = Pipeline(steps=[\n",
    "    ('five_imp', SimpleImputer(strategy='constant', fill_value=5))\n",
    "])"
   ]
  },
  {
   "cell_type": "code",
   "execution_count": 6,
   "metadata": {},
   "outputs": [],
   "source": [
    "# Create full preprocessor\n",
    "full_preprocessor = ColumnTransformer(transformers=[\n",
    "    ('no_pre', no_imp, no_cols),\n",
    "    ('yes_pre', yes_imp, yes_cols),\n",
    "    ('mode_pre', mode_imp, mode_cols),\n",
    "    ('med_cols', med_imp, med_cols),\n",
    "    ('med_flag_cols', med_flag_imp, med_flag_cols),\n",
    "    ('five_cols', five_imp, five_cols)\n",
    "])"
   ]
  },
  {
   "cell_type": "code",
   "execution_count": 7,
   "metadata": {},
   "outputs": [],
   "source": [
    "# Drop the dropcols\n",
    "df = df.drop(columns=[*drop_cols])\n",
    "\n",
    "# Split to x and y\n",
    "y = df['Target']\n",
    "X = df.drop(columns=['Target'])"
   ]
  },
  {
   "cell_type": "code",
   "execution_count": 8,
   "metadata": {},
   "outputs": [],
   "source": [
    "# Train test split\n",
    "X_train, X_test, y_train, y_test = train_test_split(X, y, stratify=y)"
   ]
  },
  {
   "cell_type": "code",
   "execution_count": 9,
   "metadata": {},
   "outputs": [
    {
     "name": "stdout",
     "output_type": "stream",
     "text": [
      "\n",
      "Train Accuracy:\t\t0.8990237186307029\n",
      "Test Accuracy:\t\t0.8896085609687412\n",
      "\n",
      "Train Recall:\t\t0.9305993690851735\n",
      "Test Recall:\t\t0.8927444794952681\n",
      "\n",
      "Train Precision:\t0.21873455264458724\n",
      "Test Precision:\t\t0.1985964912280702\n",
      "\n",
      "Train f1:\t\t0.35421252751650995\n",
      "Test f1:\t\t0.3249138920780712\n",
      "\n",
      "Train ROC-AUC:\t\t0.9627570783260264\n",
      "Test ROC-AUC:\t\t0.9427468905958533\n"
     ]
    },
    {
     "data": {
      "image/png": "[encoded data removed]",
      "text/plain": [
       "<Figure size 432x288 with 2 Axes>"
      ]
     },
     "metadata": {
      "needs_background": "light"
     },
     "output_type": "display_data"
    }
   ],
   "source": [
    "initial_tree = Pipeline(steps=[\n",
    "    ('preproc', full_preprocessor),\n",
    "    ('tree', DecisionTreeClassifier(max_depth=5, min_samples_leaf=20, min_samples_split=2, class_weight='balanced', \n",
    "                                    random_state=42)),\n",
    "])\n",
    "\n",
    "initial_tree.fit(X_train, y_train)\n",
    "\n",
    "display_metrics(initial_tree, X_train, X_test, y_train, y_test)"
   ]
  },
  {
   "cell_type": "code",
   "execution_count": 23,
   "metadata": {},
   "outputs": [
    {
     "name": "stdout",
     "output_type": "stream",
     "text": [
      "Fitting 5 folds for each of 300 candidates, totalling 1500 fits\n"
     ]
    },
    {
     "name": "stderr",
     "output_type": "stream",
     "text": [
      "[Parallel(n_jobs=-1)]: Using backend LokyBackend with 8 concurrent workers.\n",
      "[Parallel(n_jobs=-1)]: Done  34 tasks      | elapsed:    8.0s\n",
      "[Parallel(n_jobs=-1)]: Done 184 tasks      | elapsed:   41.4s\n",
      "[Parallel(n_jobs=-1)]: Done 434 tasks      | elapsed:  1.7min\n",
      "[Parallel(n_jobs=-1)]: Done 784 tasks      | elapsed:  3.2min\n",
      "[Parallel(n_jobs=-1)]: Done 1234 tasks      | elapsed:  5.1min\n",
      "[Parallel(n_jobs=-1)]: Done 1500 out of 1500 | elapsed:  6.5min finished\n"
     ]
    },
    {
     "data": {
      "text/plain": [
       "GridSearchCV(cv=StratifiedKFold(n_splits=5, random_state=None, shuffle=False),\n",
       "             estimator=Pipeline(steps=[('preproc',\n",
       "                                        ColumnTransformer(transformers=[('no_pre',\n",
       "                                                                         Pipeline(steps=[('no_imp',\n",
       "                                                                                          SimpleImputer(fill_value=0,\n",
       "                                                                                                        strategy='constant'))]),\n",
       "                                                                         ['SC_SEX',\n",
       "                                                                          'K4Q32X01',\n",
       "                                                                          'K4Q32X02',\n",
       "                                                                          'K4Q32X03',\n",
       "                                                                          'K4Q32X04',\n",
       "                                                                          'K4Q32X05',\n",
       "                                                                          'DENTALSERV1',\n",
       "                                                                          'DENTALSERV2',\n",
       "                                                                          'DENTALSERV3',\n",
       "                                                                          'DENTALSERV...\n",
       "                                                                         ['K7Q84_R',\n",
       "                                                                          'K7Q85_R',\n",
       "                                                                          'K7Q82_R',\n",
       "                                                                          'K7Q83_R',\n",
       "                                                                          'K7Q70_R',\n",
       "                                                                          'K8Q21'])])),\n",
       "                                       ('tree',\n",
       "                                        DecisionTreeClassifier(class_weight='balanced',\n",
       "                                                               random_state=42))]),\n",
       "             n_jobs=-1,\n",
       "             param_grid={'tree__criterion': ['gini', 'entropy'],\n",
       "                         'tree__max_depth': [1, 2, 3, 4, 5],\n",
       "                         'tree__min_samples_leaf': [1, 2, 3, 4, 5, 6],\n",
       "                         'tree__min_samples_split': [1, 2, 3, 4, 5]},\n",
       "             return_train_score=True, scoring='recall', verbose=1)"
      ]
     },
     "execution_count": 23,
     "metadata": {},
     "output_type": "execute_result"
    }
   ],
   "source": [
    "grid_tree = Pipeline(steps=[\n",
    "    ('preproc', full_preprocessor),\n",
    "    ('tree', DecisionTreeClassifier(class_weight='balanced', random_state=42))\n",
    "])\n",
    "\n",
    "param_grid = {\n",
    "    'tree__criterion': ['gini', 'entropy'],\n",
    "    'tree__max_depth': [1,2,3,4,5],\n",
    "    'tree__min_samples_leaf': [1,2,3,4,5,6],\n",
    "    'tree__min_samples_split': [1,2,3,4,5]\n",
    "}\n",
    "\n",
    "grid_search = GridSearchCV(estimator=grid_tree, param_grid=param_grid,\n",
    "                           n_jobs=-1, \n",
    "                           verbose=1, \n",
    "                           return_train_score=True,\n",
    "                           scoring='recall',\n",
    "                           cv=StratifiedKFold(n_splits=5)\n",
    ")\n",
    "\n",
    "grid_search.fit(X_train, y_train)"
   ]
  },
  {
   "cell_type": "code",
   "execution_count": 24,
   "metadata": {},
   "outputs": [
    {
     "data": {
      "text/plain": [
       "{'tree__criterion': 'gini',\n",
       " 'tree__max_depth': 3,\n",
       " 'tree__min_samples_leaf': 1,\n",
       " 'tree__min_samples_split': 2}"
      ]
     },
     "execution_count": 24,
     "metadata": {},
     "output_type": "execute_result"
    }
   ],
   "source": [
    "new_tree = grid_search.best_estimator_\n",
    "grid_search.best_params_"
   ]
  },
  {
   "cell_type": "code",
   "execution_count": 25,
   "metadata": {},
   "outputs": [
    {
     "name": "stdout",
     "output_type": "stream",
     "text": [
      "\n",
      "Train Accuracy:\t\t0.8777457913511484\n",
      "Test Accuracy:\t\t0.8708345067117244\n",
      "\n",
      "Train Recall:\t\t0.9221871713985279\n",
      "Test Recall:\t\t0.9085173501577287\n",
      "\n",
      "Train Precision:\t0.18619957537154988\n",
      "Test Precision:\t\t0.1761467889908257\n",
      "\n",
      "Train f1:\t\t0.3098392510157216\n",
      "Test f1:\t\t0.29508196721311475\n",
      "\n",
      "Train ROC-AUC:\t\t0.9376933881182896\n",
      "Test ROC-AUC:\t\t0.9355352582258206\n"
     ]
    },
    {
     "data": {
      "image/png": "[encoded data removed]",
      "text/plain": [
       "<Figure size 432x288 with 2 Axes>"
      ]
     },
     "metadata": {
      "needs_background": "light"
     },
     "output_type": "display_data"
    }
   ],
   "source": [
    "display_metrics(new_tree, X_train, X_test, y_train, y_test)"
   ]
  },
  {
   "cell_type": "markdown",
   "metadata": {},
   "source": [
    "Moderately good model, trying scoring with recall and accuracy"
   ]
  },
  {
   "cell_type": "code",
   "execution_count": 45,
   "metadata": {},
   "outputs": [
    {
     "name": "stdout",
     "output_type": "stream",
     "text": [
      "Fitting 5 folds for each of 144 candidates, totalling 720 fits\n"
     ]
    },
    {
     "name": "stderr",
     "output_type": "stream",
     "text": [
      "[Parallel(n_jobs=-1)]: Using backend LokyBackend with 8 concurrent workers.\n",
      "[Parallel(n_jobs=-1)]: Done  34 tasks      | elapsed:   11.9s\n",
      "[Parallel(n_jobs=-1)]: Done 184 tasks      | elapsed:   43.0s\n",
      "[Parallel(n_jobs=-1)]: Done 434 tasks      | elapsed:  1.6min\n",
      "[Parallel(n_jobs=-1)]: Done 720 out of 720 | elapsed:  2.5min finished\n"
     ]
    },
    {
     "data": {
      "text/plain": [
       "GridSearchCV(cv=StratifiedKFold(n_splits=5, random_state=None, shuffle=False),\n",
       "             estimator=Pipeline(steps=[('preproc',\n",
       "                                        ColumnTransformer(transformers=[('no_pre',\n",
       "                                                                         Pipeline(steps=[('no_imp',\n",
       "                                                                                          SimpleImputer(fill_value=0,\n",
       "                                                                                                        strategy='constant'))]),\n",
       "                                                                         ['SC_SEX',\n",
       "                                                                          'K4Q32X01',\n",
       "                                                                          'K4Q32X02',\n",
       "                                                                          'K4Q32X03',\n",
       "                                                                          'K4Q32X04',\n",
       "                                                                          'K4Q32X05',\n",
       "                                                                          'DENTALSERV1',\n",
       "                                                                          'DENTALSERV2',\n",
       "                                                                          'DENTALSERV3',\n",
       "                                                                          'DENTALSERV...\n",
       "                                                                         ['K7Q84_R',\n",
       "                                                                          'K7Q85_R',\n",
       "                                                                          'K7Q82_R',\n",
       "                                                                          'K7Q83_R',\n",
       "                                                                          'K7Q70_R',\n",
       "                                                                          'K8Q21'])])),\n",
       "                                       ('tree',\n",
       "                                        DecisionTreeClassifier(class_weight='balanced',\n",
       "                                                               random_state=42))]),\n",
       "             n_jobs=-1,\n",
       "             param_grid={'tree__criterion': ['gini', 'entropy'],\n",
       "                         'tree__max_depth': [None, 1, 2, 3, 4, 5],\n",
       "                         'tree__min_samples_leaf': [0, 1, 2],\n",
       "                         'tree__min_samples_split': [0, 1, 2, 3]},\n",
       "             return_train_score=True, scoring='recall', verbose=1)"
      ]
     },
     "execution_count": 45,
     "metadata": {},
     "output_type": "execute_result"
    }
   ],
   "source": [
    "grid_tree_2 = Pipeline(steps=[\n",
    "    ('preproc', full_preprocessor),\n",
    "    ('tree', DecisionTreeClassifier(class_weight='balanced', random_state=42))\n",
    "])\n",
    "\n",
    "param_grid = {\n",
    "    'tree__criterion': ['gini', 'entropy'],\n",
    "    'tree__max_depth': [None,1,2,3,4,5],\n",
    "    'tree__min_samples_leaf': [0,1,2],\n",
    "    'tree__min_samples_split': [0,1,2,3]\n",
    "}\n",
    "\n",
    "grid_search_2 = GridSearchCV(estimator=grid_tree_2, param_grid=param_grid,\n",
    "                             n_jobs=-1, \n",
    "                             verbose=1,\n",
    "                             return_train_score=True,\n",
    "                             scoring='recall',\n",
    "                             cv=StratifiedKFold(n_splits=5)\n",
    ")\n",
    "\n",
    "grid_search_2.fit(X_train, y_train)"
   ]
  },
  {
   "cell_type": "code",
   "execution_count": 46,
   "metadata": {},
   "outputs": [
    {
     "data": {
      "text/plain": [
       "{'tree__criterion': 'gini',\n",
       " 'tree__max_depth': 3,\n",
       " 'tree__min_samples_leaf': 1,\n",
       " 'tree__min_samples_split': 2}"
      ]
     },
     "execution_count": 46,
     "metadata": {},
     "output_type": "execute_result"
    }
   ],
   "source": [
    "new_tree = grid_search_2.best_estimator_\n",
    "grid_search_2.best_params_"
   ]
  },
  {
   "cell_type": "code",
   "execution_count": 49,
   "metadata": {},
   "outputs": [
    {
     "name": "stdout",
     "output_type": "stream",
     "text": [
      "\n",
      "Train Accuracy:\t\t0.8777457913511484\n",
      "Test Accuracy:\t\t0.8708345067117244\n",
      "\n",
      "Train Recall:\t\t0.9221871713985279\n",
      "Test Recall:\t\t0.9085173501577287\n",
      "\n",
      "Train Precision:\t0.18619957537154988\n",
      "Test Precision:\t\t0.1761467889908257\n",
      "\n",
      "Train f1:\t\t0.3098392510157216\n",
      "Test f1:\t\t0.29508196721311475\n",
      "\n",
      "Train ROC-AUC:\t\t0.9376933881182896\n",
      "Test ROC-AUC:\t\t0.9355352582258206\n"
     ]
    },
    {
     "data": {
      "image/png": "[encoded data removed]",
      "text/plain": [
       "<Figure size 432x288 with 2 Axes>"
      ]
     },
     "metadata": {
      "needs_background": "light"
     },
     "output_type": "display_data"
    },
    {
     "data": {
      "image/png": "[encoded data removed]",
      "text/plain": [
       "<Figure size 432x288 with 1 Axes>"
      ]
     },
     "metadata": {
      "needs_background": "light"
     },
     "output_type": "display_data"
    }
   ],
   "source": [
    "display_metrics(new_tree, X_train, X_test, y_train, y_test)"
   ]
  },
  {
   "cell_type": "code",
   "execution_count": 58,
   "metadata": {},
   "outputs": [],
   "source": [
    "tree_importance = dict(zip(use_cols, new_tree.named_steps['tree'].feature_importances_))"
   ]
  },
  {
   "cell_type": "code",
   "execution_count": 59,
   "metadata": {},
   "outputs": [
    {
     "data": {
      "text/plain": [
       "{'SC_SEX': 0.0,\n",
       " 'K4Q32X01': 0.0,\n",
       " 'K4Q32X02': 0.0,\n",
       " 'K4Q32X03': 0.0,\n",
       " 'K4Q32X04': 0.0,\n",
       " 'K4Q32X05': 0.0,\n",
       " 'DENTALSERV1': 0.0,\n",
       " 'DENTALSERV2': 0.0,\n",
       " 'DENTALSERV3': 0.0,\n",
       " 'DENTALSERV4': 0.0,\n",
       " 'DENTALSERV5': 0.0,\n",
       " 'DENTALSERV6': 0.0,\n",
       " 'DENTALSERV7': 0.0,\n",
       " 'K4Q28X01': 0.0,\n",
       " 'K4Q28X02': 0.0,\n",
       " 'K4Q28X03': 0.0,\n",
       " 'K4Q28X04': 0.0,\n",
       " 'K4Q28X05': 0.0,\n",
       " 'BREATHING': 0.0,\n",
       " 'SWALLOWING': 0.0,\n",
       " 'STOMACH': 0.0,\n",
       " 'PHYSICALPAIN': 0.0,\n",
       " 'HANDS': 0.0,\n",
       " 'COORDINATION': 0.0,\n",
       " 'TOOTHACHES': 0.0,\n",
       " 'GUMBLEED': 0.0,\n",
       " 'CAVITIES': 0.0,\n",
       " 'MEMORYCOND': 0.0,\n",
       " 'WALKSTAIRS': 0.0,\n",
       " 'DRESSING': 0.0,\n",
       " 'ERRANDALONE': 0.0,\n",
       " 'K2Q43B': 0.0,\n",
       " 'BLINDNESS': 0.0,\n",
       " 'ALLERGIES': 0.0,\n",
       " 'ALLERGIES_CURR': 0.0,\n",
       " 'ARTHRITIS': 0.0,\n",
       " 'ARTHRITIS_CURR': 0.0,\n",
       " 'K2Q40A': 0.0,\n",
       " 'K2Q40B': 0.0,\n",
       " 'K2Q61A': 0.0,\n",
       " 'K2Q61B': 0.0,\n",
       " 'K2Q41A': 0.0,\n",
       " 'K2Q41B': 0.0,\n",
       " 'K2Q42A': 0.0,\n",
       " 'K2Q42B': 0.0,\n",
       " 'HEART': 0.0,\n",
       " 'HEART_BORN': 0.0,\n",
       " 'HEART_CURR': 0.0,\n",
       " 'HEADACHE': 0.0,\n",
       " 'HEADACHE_CURR': 0.0,\n",
       " 'K2Q38A': 0.0,\n",
       " 'K2Q38B': 0.0,\n",
       " 'K2Q33A': 0.0,\n",
       " 'K2Q33B': 0.0,\n",
       " 'K2Q32A': 0.0,\n",
       " 'K2Q32B': 0.0,\n",
       " 'DOWNSYN': 0.0,\n",
       " 'BLOOD': 0.0,\n",
       " 'SICKLECELL': 0.0,\n",
       " 'THALASSEMIA': 0.0,\n",
       " 'BLOOD_OTHER': 0.0,\n",
       " 'BLOOD_SCREEN': 0.0,\n",
       " 'CYSTFIB': 0.0,\n",
       " 'CYSTFIB_SCREEN': 0.0,\n",
       " 'GENETIC': 0.0,\n",
       " 'GENETIC_SCREEN': 0.0,\n",
       " 'K2Q34A': 0.0,\n",
       " 'K2Q34B': 0.0,\n",
       " 'K2Q36A': 0.026917673412010342,\n",
       " 'K2Q36B': 0.0,\n",
       " 'K2Q60A': 0.0,\n",
       " 'K2Q60B': 0.0,\n",
       " 'K2Q37A': 0.0,\n",
       " 'K2Q37B': 0.0,\n",
       " 'K2Q30A': 0.0,\n",
       " 'K2Q30B': 0.0,\n",
       " 'K2Q31A': 0.0,\n",
       " 'K2Q31B': 0.0,\n",
       " 'K2Q31D': 0.0,\n",
       " 'ADDTREAT': 0.0,\n",
       " 'CONCUSSION': 0.0,\n",
       " 'SEEKCARE': 0.0,\n",
       " 'CONFIRMINJURY': 0.0,\n",
       " 'K2Q05': 0.0,\n",
       " 'OVERWEIGHT': 0.0,\n",
       " 'K4Q01': 0.0,\n",
       " 'USUALGO': 0.0,\n",
       " 'USUALSICK': 0.0,\n",
       " 'K4Q31_R': 0.0,\n",
       " 'K4Q23': 0.0,\n",
       " 'ALTHEALTH': 0.0,\n",
       " 'K4Q27': 0.0,\n",
       " 'NOTELIG': 0.0,\n",
       " 'AVAILABLE': 0.0,\n",
       " 'APPOINTMENT': 0.0,\n",
       " 'TRANSPORTCC': 0.0,\n",
       " 'NOTOPEN': 0.0,\n",
       " 'ISSUECOST': 0.0,\n",
       " 'HOSPITALSTAY': 0.0,\n",
       " 'SESCURRSVC': 0.0,\n",
       " 'K4Q36': 0.7632888849608556,\n",
       " 'K4Q38': 0.0,\n",
       " 'K5Q10': 0.0,\n",
       " 'DECISIONS': 0.0,\n",
       " 'K12Q03': 0.0,\n",
       " 'K12Q04': 0.0,\n",
       " 'K12Q12': 0.0,\n",
       " 'TRICARE': 0.0,\n",
       " 'K11Q03R': 0.0,\n",
       " 'HCCOVOTH': 0.0,\n",
       " 'K3Q25': 0.0,\n",
       " 'REPEATED': 0.0,\n",
       " 'K7Q30': 0.0,\n",
       " 'K7Q31': 0.0,\n",
       " 'K7Q32': 0.0,\n",
       " 'K7Q37': 0.0,\n",
       " 'K7Q38': 0.0,\n",
       " 'ACE3': 0.0,\n",
       " 'ACE4': 0.0,\n",
       " 'ACE5': 0.0,\n",
       " 'ACE6': 0.0,\n",
       " 'ACE7': 0.0,\n",
       " 'ACE8': 0.0,\n",
       " 'ACE9': 0.0,\n",
       " 'ACE10': 0.0,\n",
       " 'ACE12': 0.0,\n",
       " 'ACE1': 0.0,\n",
       " 'K7Q04R_R': 0.0,\n",
       " 'WGTCONC': 0.0,\n",
       " 'K4Q22_R': 0.0,\n",
       " 'K4Q24_R': 0.0,\n",
       " 'K4Q04_R': 0.0,\n",
       " 'K5Q31_R': 0.0,\n",
       " 'BIRTHWT': 0.0,\n",
       " 'BIRTHWT_L': 0.0,\n",
       " 'BIRTHWT_VL': 0.0,\n",
       " 'SC_K2Q22': 0.09126637758791788,\n",
       " 'SC_K2Q19': 0.0,\n",
       " 'SC_K2Q16': 0.0,\n",
       " 'SC_K2Q13': 0.0,\n",
       " 'SC_K2Q10': 0.0,\n",
       " 'SC_CSHCN': 0.07476289070075585,\n",
       " 'K4Q30_R': 0.0,\n",
       " 'S4Q01': 0.0,\n",
       " 'CURRCOV': 0.0,\n",
       " 'BORNUSA': 0.0,\n",
       " 'HHLANGUAGE': 0.0,\n",
       " 'K9Q40': 0.0,\n",
       " 'K11Q60': 0.0,\n",
       " 'K11Q61': 0.0,\n",
       " 'K11Q62': 0.0,\n",
       " 'S9Q34': 0.0,\n",
       " 'K10Q11': 0.0,\n",
       " 'K10Q12': 0.0,\n",
       " 'K10Q13': 0.0,\n",
       " 'K10Q14': 0.0,\n",
       " 'K10Q20': 0.0,\n",
       " 'K10Q22': 0.0,\n",
       " 'K10Q23': 0.0,\n",
       " 'K9Q96': 0.0,\n",
       " 'BULLIED_R': 0.0,\n",
       " 'BULLY': 0.0,\n",
       " 'TOTKIDS_R': 0.0,\n",
       " 'SC_AGE_YEARS': 0.0,\n",
       " 'BIRTH_MO': 0.0,\n",
       " 'BIRTH_YR': 0.0,\n",
       " 'SC_RACER': 0.0,\n",
       " 'SC_RACE_R': 0.0,\n",
       " 'MOMAGE': 0.0,\n",
       " 'K11Q43R': 0.0,\n",
       " 'K2Q01': 0.0,\n",
       " 'K2Q01_D': 0.0,\n",
       " 'K6Q71_R': 0.0,\n",
       " 'TALKABOUT': 0.0,\n",
       " 'WKTOSOLVE': 0.0,\n",
       " 'STRENGTHS': 0.0,\n",
       " 'HOPEFUL': 0.0,\n",
       " 'K10Q30': 0.0,\n",
       " 'K10Q31': 0.0,\n",
       " 'K10Q40_R': 0.0,\n",
       " 'GOFORHELP': 0.0,\n",
       " 'K10Q41_R': 0.0,\n",
       " 'HOWMUCH': 0.0,\n",
       " 'K8Q31': 0.0,\n",
       " 'K8Q32': 0.0,\n",
       " 'K8Q34': 0.0,\n",
       " 'ATHOMEHC': 0.0,\n",
       " 'ARRANGEHC': 0.0,\n",
       " 'SCREENTIME': 0.0,\n",
       " 'K8Q11': 0.0,\n",
       " 'HCABILITY': 0.0,\n",
       " 'K8Q30': 0.0,\n",
       " 'K8Q21': 0.0,\n",
       " 'FAMILY_R': 0.0,\n",
       " 'BIRTHWT_OZ_S': 0.0,\n",
       " 'SC_ENGLISH': 0.0,\n",
       " 'MAKEFRIEND': 0.04376417333846048,\n",
       " 'BEDTIME': 0.0,\n",
       " 'K7Q33': 0.0,\n",
       " 'K5Q40': 0.0,\n",
       " 'K5Q41': 0.0,\n",
       " 'K5Q42': 0.0,\n",
       " 'K5Q43': 0.0,\n",
       " 'K5Q44': 0.0,\n",
       " 'FOODSIT': 0.0,\n",
       " 'MENBEVCOV': 0.0,\n",
       " 'K7Q84_R': 0.0,\n",
       " 'K7Q85_R': 0.0,\n",
       " 'K7Q82_R': 0.0,\n",
       " 'K7Q83_R': 0.0,\n",
       " 'K7Q70_R': 0.0}"
      ]
     },
     "execution_count": 59,
     "metadata": {},
     "output_type": "execute_result"
    }
   ],
   "source": [
    "tree_importance"
   ]
  },
  {
   "cell_type": "code",
   "execution_count": 60,
   "metadata": {
    "scrolled": true
   },
   "outputs": [
    {
     "name": "stdout",
     "output_type": "stream",
     "text": [
      "K2Q36A: 0.026917673412010342\n",
      "K4Q36: 0.7632888849608556\n",
      "SC_K2Q22: 0.09126637758791788\n",
      "SC_CSHCN: 0.07476289070075585\n",
      "MAKEFRIEND: 0.04376417333846048\n"
     ]
    }
   ],
   "source": [
    "for key, val in tree_importance.items():\n",
    "    if val > 0:\n",
    "        print(f'{key}: {val}')"
   ]
  },
  {
   "cell_type": "markdown",
   "metadata": {},
   "source": [
    "K4Q36: Has this child received special services (speech, occupational, or behavioral therapy)?\n"
   ]
  },
  {
   "cell_type": "code",
   "execution_count": null,
   "metadata": {},
   "outputs": [],
   "source": []
  }
 ],
 "metadata": {
  "kernelspec": {
   "display_name": "Python (learn-env)",
   "language": "python",
   "name": "learn-env"
  },
  "language_info": {
   "codemirror_mode": {
    "name": "ipython",
    "version": 3
   },
   "file_extension": ".py",
   "mimetype": "text/x-python",
   "name": "python",
   "nbconvert_exporter": "python",
   "pygments_lexer": "ipython3",
   "version": "3.8.5"
  }
 },
 "nbformat": 4,
 "nbformat_minor": 4
}
